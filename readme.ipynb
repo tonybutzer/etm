{
 "cells": [
  {
   "cell_type": "code",
   "execution_count": 1,
   "metadata": {},
   "outputs": [
    {
     "data": {
      "text/markdown": [
       "# eto github repo\n",
       "\n",
       "## Goals\n",
       "\n",
       "1. Package the reference et python code into a pip installable package\n",
       "2. Store all code in source code control and publish in git\n",
       "3. Allow for refactoring of code into API and LIB\n",
       "4. Build an rouze/eto docker image and run the darn thing!\n",
       "\n",
       "## Running the Code\n",
       "\n",
       "- getting used to the terminal\n",
       "- cd api_eto\n",
       "\t- python3 eto --help\n",
       "\t- python3 eto ---\n",
       "\n",
       "## Building the Library\n",
       "\n",
       "- cd etoLib\n",
       "- make build\n",
       "\n",
       "## Self Documeting Approaches\n",
       "- Makefiles\n",
       "- Dockerfile\n",
       "\n",
       "## Steps\n",
       "\n",
       "### Todo\n",
       "\n",
       "- create etoLib directory path and stub out functions and classes\n",
       "- setup.py in etoLib\n",
       "- refactor - see refactor code section\n",
       "- create api_eto for main line stubs \n",
       "\n",
       "\n",
       "\n",
       "### Completed\n",
       "\n",
       "- create a greg.ipynb for viewing markdown such as this Readme.md file\n",
       "- create directory for notional git repo - done\n",
       "\t- ~/00-eto-github-prep\n",
       "- convert ipynb into .py script files\n",
       "\t- see ~/shell/Makefile for how this was done\n",
       "- fix vim colors for dark background\n",
       "\t- set background=dark\n"
      ],
      "text/plain": [
       "<IPython.core.display.Markdown object>"
      ]
     },
     "metadata": {},
     "output_type": "display_data"
    }
   ],
   "source": [
    "from IPython.display import display, Markdown\n",
    "\n",
    "with open('Readme.md', 'r') as fh:\n",
    "    content = fh.read()\n",
    "\n",
    "display(Markdown(content))"
   ]
  },
  {
   "cell_type": "code",
   "execution_count": 2,
   "metadata": {},
   "outputs": [
    {
     "name": "stdout",
     "output_type": "stream",
     "text": [
      "/home/jupyter-rouze/00-eto-github-prep\n",
      "00-notebooks  Readme.md  greg.ipynb  shell\n"
     ]
    }
   ],
   "source": [
    "!pwd\n",
    "! ls"
   ]
  },
  {
   "cell_type": "code",
   "execution_count": null,
   "metadata": {},
   "outputs": [],
   "source": []
  }
 ],
 "metadata": {
  "kernelspec": {
   "display_name": "Python 3",
   "language": "python",
   "name": "python3"
  },
  "language_info": {
   "codemirror_mode": {
    "name": "ipython",
    "version": 3
   },
   "file_extension": ".py",
   "mimetype": "text/x-python",
   "name": "python",
   "nbconvert_exporter": "python",
   "pygments_lexer": "ipython3",
   "version": "3.7.3"
  }
 },
 "nbformat": 4,
 "nbformat_minor": 4
}
