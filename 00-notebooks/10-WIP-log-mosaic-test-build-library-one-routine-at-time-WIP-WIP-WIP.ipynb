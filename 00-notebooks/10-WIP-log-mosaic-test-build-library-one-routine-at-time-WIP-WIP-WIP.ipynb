{
 "cells": [
  {
   "cell_type": "code",
   "execution_count": 1,
   "metadata": {},
   "outputs": [],
   "source": [
    "from etmLib.mos_mosaic_class import Mos_mosaic"
   ]
  },
  {
   "cell_type": "code",
   "execution_count": 2,
   "metadata": {},
   "outputs": [
    {
     "name": "stderr",
     "output_type": "stream",
     "text": [
      "2020-09-14 02:10:21,953 - Mos_mosaic - INFO - Logging Begins\n",
      "2020-09-14 02:10:21,954 - Mos_mosaic - INFO - dev-et-data out/DelawareRiverBasin/Run09_13_2020/ , ['etasw', 'dd']\n"
     ]
    },
    {
     "name": "stdout",
     "output_type": "stream",
     "text": [
      "hello from Mos_mosaic class\n"
     ]
    }
   ],
   "source": [
    "bucket = 'dev-et-data'\n",
    "prefix_path = 'out/DelawareRiverBasin/Run09_13_2020/'\n",
    "year = 'Annual'\n",
    "products = ['etasw', 'dd']\n",
    "out_prefix_path = 'enduser/DelawareRiverBasin/Run09_13_2020/ward_sandford_customer/'\n",
    "\n",
    "mos = Mos_mosaic(bucket, prefix_path, year, out_prefix_path, products)"
   ]
  },
  {
   "cell_type": "code",
   "execution_count": 3,
   "metadata": {},
   "outputs": [],
   "source": [
    "#!mkdir -p ./log"
   ]
  },
  {
   "cell_type": "code",
   "execution_count": 4,
   "metadata": {},
   "outputs": [
    {
     "name": "stderr",
     "output_type": "stream",
     "text": [
      "2020-09-14 02:10:21,966 - Mos_mosaic - INFO - run_mosaic\n",
      "2020-09-14 02:10:21,967 - Mos_mosaic - INFO - Mosaic this product: etasw\n",
      "2020-09-14 02:10:21,968 - Mos_mosaic - INFO - Mosaic this product: dd\n",
      "2020-09-14 02:10:21,969 - Mos_mosaic - INFO - out/DelawareRiverBasin/Run09_13_2020/\n"
     ]
    },
    {
     "name": "stdout",
     "output_type": "stream",
     "text": [
      "out/DelawareRiverBasin/Run09_13_2020/ward_sandford_20yr_chip38N-74E_o/\n",
      "out/DelawareRiverBasin/Run09_13_2020/ward_sandford_20yr_chip38N-76E_o/\n",
      "out/DelawareRiverBasin/Run09_13_2020/ward_sandford_20yr_chip38N-78E_o/\n",
      "out/DelawareRiverBasin/Run09_13_2020/ward_sandford_20yr_chip40N-74E_o/\n",
      "out/DelawareRiverBasin/Run09_13_2020/ward_sandford_20yr_chip40N-76E_o/\n",
      "out/DelawareRiverBasin/Run09_13_2020/ward_sandford_20yr_chip40N-78E_o/\n",
      "out/DelawareRiverBasin/Run09_13_2020/ward_sandford_20yr_chip42N-74E_o/\n",
      "out/DelawareRiverBasin/Run09_13_2020/ward_sandford_20yr_chip42N-76E_o/\n",
      "out/DelawareRiverBasin/Run09_13_2020/ward_sandford_20yr_chip42N-78E_o/\n",
      "out/DelawareRiverBasin/Run09_13_2020/ward_sandford_20yr_chip44N-74E_o/\n",
      "out/DelawareRiverBasin/Run09_13_2020/ward_sandford_20yr_chip44N-76E_o/\n",
      "out/DelawareRiverBasin/Run09_13_2020/ward_sandford_20yr_chip44N-78E_o/\n"
     ]
    },
    {
     "name": "stderr",
     "output_type": "stream",
     "text": [
      "2020-09-14 02:10:22,255 - Mos_mosaic - INFO - target year is Annual\n",
      "2020-09-14 02:10:22,256 - Mos_mosaic - INFO - sub is out/DelawareRiverBasin/Run09_13_2020/ward_sandford_20yr_chip38N-74E_o/Annual/\n"
     ]
    },
    {
     "name": "stdout",
     "output_type": "stream",
     "text": [
      "out/DelawareRiverBasin/Run09_13_2020/ward_sandford_20yr_chip38N-74E_o/1999/\n",
      "out/DelawareRiverBasin/Run09_13_2020/ward_sandford_20yr_chip38N-74E_o/2000/\n",
      "out/DelawareRiverBasin/Run09_13_2020/ward_sandford_20yr_chip38N-74E_o/2001/\n",
      "out/DelawareRiverBasin/Run09_13_2020/ward_sandford_20yr_chip38N-74E_o/2002/\n",
      "out/DelawareRiverBasin/Run09_13_2020/ward_sandford_20yr_chip38N-74E_o/2003/\n",
      "out/DelawareRiverBasin/Run09_13_2020/ward_sandford_20yr_chip38N-74E_o/2004/\n",
      "out/DelawareRiverBasin/Run09_13_2020/ward_sandford_20yr_chip38N-74E_o/2005/\n",
      "out/DelawareRiverBasin/Run09_13_2020/ward_sandford_20yr_chip38N-74E_o/2006/\n",
      "out/DelawareRiverBasin/Run09_13_2020/ward_sandford_20yr_chip38N-74E_o/2007/\n",
      "out/DelawareRiverBasin/Run09_13_2020/ward_sandford_20yr_chip38N-74E_o/2008/\n",
      "out/DelawareRiverBasin/Run09_13_2020/ward_sandford_20yr_chip38N-74E_o/2009/\n",
      "out/DelawareRiverBasin/Run09_13_2020/ward_sandford_20yr_chip38N-74E_o/2010/\n",
      "out/DelawareRiverBasin/Run09_13_2020/ward_sandford_20yr_chip38N-74E_o/2011/\n",
      "out/DelawareRiverBasin/Run09_13_2020/ward_sandford_20yr_chip38N-74E_o/2012/\n",
      "out/DelawareRiverBasin/Run09_13_2020/ward_sandford_20yr_chip38N-74E_o/Annual/\n"
     ]
    },
    {
     "name": "stderr",
     "output_type": "stream",
     "text": [
      "2020-09-14 02:10:22,469 - Mos_mosaic - INFO - dev-et-data/out/DelawareRiverBasin/Run09_13_2020/ward_sandford_20yr_chip38N-74E_o/Annual/etasw_1999.tif, ['out/DelawareRiverBasin/Run09_13_2020/ward_sandford_20yr_chip38N-74E_o/', 'out/DelawareRiverBasin/Run09_13_2020/ward_sandford_20yr_chip38N-76E_o/', 'out/DelawareRiverBasin/Run09_13_2020/ward_sandford_20yr_chip38N-78E_o/', 'out/DelawareRiverBasin/Run09_13_2020/ward_sandford_20yr_chip40N-74E_o/', 'out/DelawareRiverBasin/Run09_13_2020/ward_sandford_20yr_chip40N-76E_o/', 'out/DelawareRiverBasin/Run09_13_2020/ward_sandford_20yr_chip40N-78E_o/', 'out/DelawareRiverBasin/Run09_13_2020/ward_sandford_20yr_chip42N-74E_o/', 'out/DelawareRiverBasin/Run09_13_2020/ward_sandford_20yr_chip42N-76E_o/', 'out/DelawareRiverBasin/Run09_13_2020/ward_sandford_20yr_chip42N-78E_o/', 'out/DelawareRiverBasin/Run09_13_2020/ward_sandford_20yr_chip44N-74E_o/', 'out/DelawareRiverBasin/Run09_13_2020/ward_sandford_20yr_chip44N-76E_o/', 'out/DelawareRiverBasin/Run09_13_2020/ward_sandford_20yr_chip44N-78E_o/']\n"
     ]
    },
    {
     "name": "stdout",
     "output_type": "stream",
     "text": [
      "[('dev-et-data/out/DelawareRiverBasin/Run09_13_2020/ward_sandford_20yr_chip38N-74E_o/Annual/dd_1999.tif', 7411614), ('dev-et-data/out/DelawareRiverBasin/Run09_13_2020/ward_sandford_20yr_chip38N-74E_o/Annual/dd_2000.tif', 7411614), ('dev-et-data/out/DelawareRiverBasin/Run09_13_2020/ward_sandford_20yr_chip38N-74E_o/Annual/dd_2001.tif', 7411614), ('dev-et-data/out/DelawareRiverBasin/Run09_13_2020/ward_sandford_20yr_chip38N-74E_o/Annual/dd_2002.tif', 7411614), ('dev-et-data/out/DelawareRiverBasin/Run09_13_2020/ward_sandford_20yr_chip38N-74E_o/Annual/dd_2003.tif', 7411614), ('dev-et-data/out/DelawareRiverBasin/Run09_13_2020/ward_sandford_20yr_chip38N-74E_o/Annual/dd_2004.tif', 7411614), ('dev-et-data/out/DelawareRiverBasin/Run09_13_2020/ward_sandford_20yr_chip38N-74E_o/Annual/dd_2005.tif', 7411614), ('dev-et-data/out/DelawareRiverBasin/Run09_13_2020/ward_sandford_20yr_chip38N-74E_o/Annual/dd_2006.tif', 7411614), ('dev-et-data/out/DelawareRiverBasin/Run09_13_2020/ward_sandford_20yr_chip38N-74E_o/Annual/dd_2007.tif', 7411614), ('dev-et-data/out/DelawareRiverBasin/Run09_13_2020/ward_sandford_20yr_chip38N-74E_o/Annual/dd_2008.tif', 7411614), ('dev-et-data/out/DelawareRiverBasin/Run09_13_2020/ward_sandford_20yr_chip38N-74E_o/Annual/dd_2009.tif', 7411614), ('dev-et-data/out/DelawareRiverBasin/Run09_13_2020/ward_sandford_20yr_chip38N-74E_o/Annual/dd_2010.tif', 7411614), ('dev-et-data/out/DelawareRiverBasin/Run09_13_2020/ward_sandford_20yr_chip38N-74E_o/Annual/dd_2011.tif', 7411614), ('dev-et-data/out/DelawareRiverBasin/Run09_13_2020/ward_sandford_20yr_chip38N-74E_o/Annual/etasw_1999.tif', 7411614), ('dev-et-data/out/DelawareRiverBasin/Run09_13_2020/ward_sandford_20yr_chip38N-74E_o/Annual/etasw_2000.tif', 7411614), ('dev-et-data/out/DelawareRiverBasin/Run09_13_2020/ward_sandford_20yr_chip38N-74E_o/Annual/etasw_2001.tif', 7411614), ('dev-et-data/out/DelawareRiverBasin/Run09_13_2020/ward_sandford_20yr_chip38N-74E_o/Annual/etasw_2002.tif', 7411614), ('dev-et-data/out/DelawareRiverBasin/Run09_13_2020/ward_sandford_20yr_chip38N-74E_o/Annual/etasw_2003.tif', 7411614), ('dev-et-data/out/DelawareRiverBasin/Run09_13_2020/ward_sandford_20yr_chip38N-74E_o/Annual/etasw_2004.tif', 7411614), ('dev-et-data/out/DelawareRiverBasin/Run09_13_2020/ward_sandford_20yr_chip38N-74E_o/Annual/etasw_2005.tif', 7411614), ('dev-et-data/out/DelawareRiverBasin/Run09_13_2020/ward_sandford_20yr_chip38N-74E_o/Annual/etasw_2006.tif', 7411614), ('dev-et-data/out/DelawareRiverBasin/Run09_13_2020/ward_sandford_20yr_chip38N-74E_o/Annual/etasw_2007.tif', 7411614), ('dev-et-data/out/DelawareRiverBasin/Run09_13_2020/ward_sandford_20yr_chip38N-74E_o/Annual/etasw_2008.tif', 7411614), ('dev-et-data/out/DelawareRiverBasin/Run09_13_2020/ward_sandford_20yr_chip38N-74E_o/Annual/etasw_2009.tif', 7411614), ('dev-et-data/out/DelawareRiverBasin/Run09_13_2020/ward_sandford_20yr_chip38N-74E_o/Annual/etasw_2010.tif', 7411614), ('dev-et-data/out/DelawareRiverBasin/Run09_13_2020/ward_sandford_20yr_chip38N-74E_o/Annual/etasw_2011.tif', 7411614), ('dev-et-data/out/DelawareRiverBasin/Run09_13_2020/ward_sandford_20yr_chip38N-74E_o/Annual/etc_1999.tif', 7411614), ('dev-et-data/out/DelawareRiverBasin/Run09_13_2020/ward_sandford_20yr_chip38N-74E_o/Annual/etc_2000.tif', 7411614), ('dev-et-data/out/DelawareRiverBasin/Run09_13_2020/ward_sandford_20yr_chip38N-74E_o/Annual/etc_2001.tif', 7411614), ('dev-et-data/out/DelawareRiverBasin/Run09_13_2020/ward_sandford_20yr_chip38N-74E_o/Annual/etc_2002.tif', 7411614), ('dev-et-data/out/DelawareRiverBasin/Run09_13_2020/ward_sandford_20yr_chip38N-74E_o/Annual/etc_2003.tif', 7411614), ('dev-et-data/out/DelawareRiverBasin/Run09_13_2020/ward_sandford_20yr_chip38N-74E_o/Annual/etc_2004.tif', 7411614), ('dev-et-data/out/DelawareRiverBasin/Run09_13_2020/ward_sandford_20yr_chip38N-74E_o/Annual/etc_2005.tif', 7411614), ('dev-et-data/out/DelawareRiverBasin/Run09_13_2020/ward_sandford_20yr_chip38N-74E_o/Annual/etc_2006.tif', 7411614), ('dev-et-data/out/DelawareRiverBasin/Run09_13_2020/ward_sandford_20yr_chip38N-74E_o/Annual/etc_2007.tif', 7411614), ('dev-et-data/out/DelawareRiverBasin/Run09_13_2020/ward_sandford_20yr_chip38N-74E_o/Annual/etc_2008.tif', 7411614), ('dev-et-data/out/DelawareRiverBasin/Run09_13_2020/ward_sandford_20yr_chip38N-74E_o/Annual/etc_2009.tif', 7411614), ('dev-et-data/out/DelawareRiverBasin/Run09_13_2020/ward_sandford_20yr_chip38N-74E_o/Annual/etc_2010.tif', 7411614), ('dev-et-data/out/DelawareRiverBasin/Run09_13_2020/ward_sandford_20yr_chip38N-74E_o/Annual/etc_2011.tif', 7411614), ('dev-et-data/out/DelawareRiverBasin/Run09_13_2020/ward_sandford_20yr_chip38N-74E_o/Annual/netet_1999.tif', 7411614), ('dev-et-data/out/DelawareRiverBasin/Run09_13_2020/ward_sandford_20yr_chip38N-74E_o/Annual/netet_2000.tif', 7411614), ('dev-et-data/out/DelawareRiverBasin/Run09_13_2020/ward_sandford_20yr_chip38N-74E_o/Annual/netet_2001.tif', 7411614), ('dev-et-data/out/DelawareRiverBasin/Run09_13_2020/ward_sandford_20yr_chip38N-74E_o/Annual/netet_2002.tif', 7411614), ('dev-et-data/out/DelawareRiverBasin/Run09_13_2020/ward_sandford_20yr_chip38N-74E_o/Annual/netet_2003.tif', 7411614), ('dev-et-data/out/DelawareRiverBasin/Run09_13_2020/ward_sandford_20yr_chip38N-74E_o/Annual/netet_2004.tif', 7411614), ('dev-et-data/out/DelawareRiverBasin/Run09_13_2020/ward_sandford_20yr_chip38N-74E_o/Annual/netet_2005.tif', 7411614), ('dev-et-data/out/DelawareRiverBasin/Run09_13_2020/ward_sandford_20yr_chip38N-74E_o/Annual/netet_2006.tif', 7411614), ('dev-et-data/out/DelawareRiverBasin/Run09_13_2020/ward_sandford_20yr_chip38N-74E_o/Annual/netet_2007.tif', 7411614), ('dev-et-data/out/DelawareRiverBasin/Run09_13_2020/ward_sandford_20yr_chip38N-74E_o/Annual/netet_2008.tif', 7411614), ('dev-et-data/out/DelawareRiverBasin/Run09_13_2020/ward_sandford_20yr_chip38N-74E_o/Annual/netet_2009.tif', 7411614), ('dev-et-data/out/DelawareRiverBasin/Run09_13_2020/ward_sandford_20yr_chip38N-74E_o/Annual/netet_2010.tif', 7411614), ('dev-et-data/out/DelawareRiverBasin/Run09_13_2020/ward_sandford_20yr_chip38N-74E_o/Annual/netet_2011.tif', 7411614), ('dev-et-data/out/DelawareRiverBasin/Run09_13_2020/ward_sandford_20yr_chip38N-74E_o/Annual/rain_1999.tif', 7411614), ('dev-et-data/out/DelawareRiverBasin/Run09_13_2020/ward_sandford_20yr_chip38N-74E_o/Annual/rain_2000.tif', 7411614), ('dev-et-data/out/DelawareRiverBasin/Run09_13_2020/ward_sandford_20yr_chip38N-74E_o/Annual/rain_2001.tif', 7411614), ('dev-et-data/out/DelawareRiverBasin/Run09_13_2020/ward_sandford_20yr_chip38N-74E_o/Annual/rain_2002.tif', 7411614), ('dev-et-data/out/DelawareRiverBasin/Run09_13_2020/ward_sandford_20yr_chip38N-74E_o/Annual/rain_2003.tif', 7411614), ('dev-et-data/out/DelawareRiverBasin/Run09_13_2020/ward_sandford_20yr_chip38N-74E_o/Annual/rain_2004.tif', 7411614), ('dev-et-data/out/DelawareRiverBasin/Run09_13_2020/ward_sandford_20yr_chip38N-74E_o/Annual/rain_2005.tif', 7411614), ('dev-et-data/out/DelawareRiverBasin/Run09_13_2020/ward_sandford_20yr_chip38N-74E_o/Annual/rain_2006.tif', 7411614), ('dev-et-data/out/DelawareRiverBasin/Run09_13_2020/ward_sandford_20yr_chip38N-74E_o/Annual/rain_2007.tif', 7411614), ('dev-et-data/out/DelawareRiverBasin/Run09_13_2020/ward_sandford_20yr_chip38N-74E_o/Annual/rain_2008.tif', 7411614), ('dev-et-data/out/DelawareRiverBasin/Run09_13_2020/ward_sandford_20yr_chip38N-74E_o/Annual/rain_2009.tif', 7411614), ('dev-et-data/out/DelawareRiverBasin/Run09_13_2020/ward_sandford_20yr_chip38N-74E_o/Annual/rain_2010.tif', 7411614), ('dev-et-data/out/DelawareRiverBasin/Run09_13_2020/ward_sandford_20yr_chip38N-74E_o/Annual/rain_2011.tif', 7411614), ('dev-et-data/out/DelawareRiverBasin/Run09_13_2020/ward_sandford_20yr_chip38N-74E_o/Annual/srf_1999.tif', 7411614), ('dev-et-data/out/DelawareRiverBasin/Run09_13_2020/ward_sandford_20yr_chip38N-74E_o/Annual/srf_2000.tif', 7411614), ('dev-et-data/out/DelawareRiverBasin/Run09_13_2020/ward_sandford_20yr_chip38N-74E_o/Annual/srf_2001.tif', 7411614), ('dev-et-data/out/DelawareRiverBasin/Run09_13_2020/ward_sandford_20yr_chip38N-74E_o/Annual/srf_2002.tif', 7411614), ('dev-et-data/out/DelawareRiverBasin/Run09_13_2020/ward_sandford_20yr_chip38N-74E_o/Annual/srf_2003.tif', 7411614), ('dev-et-data/out/DelawareRiverBasin/Run09_13_2020/ward_sandford_20yr_chip38N-74E_o/Annual/srf_2004.tif', 7411614), ('dev-et-data/out/DelawareRiverBasin/Run09_13_2020/ward_sandford_20yr_chip38N-74E_o/Annual/srf_2005.tif', 7411614), ('dev-et-data/out/DelawareRiverBasin/Run09_13_2020/ward_sandford_20yr_chip38N-74E_o/Annual/srf_2006.tif', 7411614), ('dev-et-data/out/DelawareRiverBasin/Run09_13_2020/ward_sandford_20yr_chip38N-74E_o/Annual/srf_2007.tif', 7411614), ('dev-et-data/out/DelawareRiverBasin/Run09_13_2020/ward_sandford_20yr_chip38N-74E_o/Annual/srf_2008.tif', 7411614), ('dev-et-data/out/DelawareRiverBasin/Run09_13_2020/ward_sandford_20yr_chip38N-74E_o/Annual/srf_2009.tif', 7411614), ('dev-et-data/out/DelawareRiverBasin/Run09_13_2020/ward_sandford_20yr_chip38N-74E_o/Annual/srf_2010.tif', 7411614), ('dev-et-data/out/DelawareRiverBasin/Run09_13_2020/ward_sandford_20yr_chip38N-74E_o/Annual/srf_2011.tif', 7411614), ('dev-et-data/out/DelawareRiverBasin/Run09_13_2020/ward_sandford_20yr_chip38N-74E_o/Annual/swe_1999.tif', 7411614), ('dev-et-data/out/DelawareRiverBasin/Run09_13_2020/ward_sandford_20yr_chip38N-74E_o/Annual/swe_2000.tif', 7411614), ('dev-et-data/out/DelawareRiverBasin/Run09_13_2020/ward_sandford_20yr_chip38N-74E_o/Annual/swe_2001.tif', 7411614), ('dev-et-data/out/DelawareRiverBasin/Run09_13_2020/ward_sandford_20yr_chip38N-74E_o/Annual/swe_2002.tif', 7411614), ('dev-et-data/out/DelawareRiverBasin/Run09_13_2020/ward_sandford_20yr_chip38N-74E_o/Annual/swe_2003.tif', 7411614), ('dev-et-data/out/DelawareRiverBasin/Run09_13_2020/ward_sandford_20yr_chip38N-74E_o/Annual/swe_2004.tif', 7411614), ('dev-et-data/out/DelawareRiverBasin/Run09_13_2020/ward_sandford_20yr_chip38N-74E_o/Annual/swe_2005.tif', 7411614), ('dev-et-data/out/DelawareRiverBasin/Run09_13_2020/ward_sandford_20yr_chip38N-74E_o/Annual/swe_2006.tif', 7411614), ('dev-et-data/out/DelawareRiverBasin/Run09_13_2020/ward_sandford_20yr_chip38N-74E_o/Annual/swe_2007.tif', 7411614), ('dev-et-data/out/DelawareRiverBasin/Run09_13_2020/ward_sandford_20yr_chip38N-74E_o/Annual/swe_2008.tif', 7411614), ('dev-et-data/out/DelawareRiverBasin/Run09_13_2020/ward_sandford_20yr_chip38N-74E_o/Annual/swe_2009.tif', 7411614), ('dev-et-data/out/DelawareRiverBasin/Run09_13_2020/ward_sandford_20yr_chip38N-74E_o/Annual/swe_2010.tif', 7411614), ('dev-et-data/out/DelawareRiverBasin/Run09_13_2020/ward_sandford_20yr_chip38N-74E_o/Annual/swe_2011.tif', 7411614)]\n",
      "dev-et-data/out/DelawareRiverBasin/Run09_13_2020/ward_sandford_20yr_chip38N-74E_o/Annual/etasw_1999.tif\n",
      "dev-et-data/out/DelawareRiverBasin/Run09_13_2020/ward_sandford_20yr_chip38N-74E_o/Annual/etasw_2000.tif\n",
      "dev-et-data/out/DelawareRiverBasin/Run09_13_2020/ward_sandford_20yr_chip38N-74E_o/Annual/etasw_2001.tif\n",
      "dev-et-data/out/DelawareRiverBasin/Run09_13_2020/ward_sandford_20yr_chip38N-74E_o/Annual/etasw_2002.tif\n",
      "dev-et-data/out/DelawareRiverBasin/Run09_13_2020/ward_sandford_20yr_chip38N-74E_o/Annual/etasw_2003.tif\n",
      "dev-et-data/out/DelawareRiverBasin/Run09_13_2020/ward_sandford_20yr_chip38N-74E_o/Annual/etasw_2004.tif\n",
      "dev-et-data/out/DelawareRiverBasin/Run09_13_2020/ward_sandford_20yr_chip38N-74E_o/Annual/etasw_2005.tif\n",
      "dev-et-data/out/DelawareRiverBasin/Run09_13_2020/ward_sandford_20yr_chip38N-74E_o/Annual/etasw_2006.tif\n",
      "dev-et-data/out/DelawareRiverBasin/Run09_13_2020/ward_sandford_20yr_chip38N-74E_o/Annual/etasw_2007.tif\n",
      "dev-et-data/out/DelawareRiverBasin/Run09_13_2020/ward_sandford_20yr_chip38N-74E_o/Annual/etasw_2008.tif\n",
      "dev-et-data/out/DelawareRiverBasin/Run09_13_2020/ward_sandford_20yr_chip38N-74E_o/Annual/etasw_2009.tif\n",
      "dev-et-data/out/DelawareRiverBasin/Run09_13_2020/ward_sandford_20yr_chip38N-74E_o/Annual/etasw_2010.tif\n",
      "dev-et-data/out/DelawareRiverBasin/Run09_13_2020/ward_sandford_20yr_chip38N-74E_o/Annual/etasw_2011.tif\n",
      "['out/DelawareRiverBasin/Run09_13_2020/ward_sandford_20yr_chip38N-74E_o/Annual/etasw_1999.tif', 'out/DelawareRiverBasin/Run09_13_2020/ward_sandford_20yr_chip38N-76E_o/Annual/etasw_1999.tif', 'out/DelawareRiverBasin/Run09_13_2020/ward_sandford_20yr_chip38N-78E_o/Annual/etasw_1999.tif', 'out/DelawareRiverBasin/Run09_13_2020/ward_sandford_20yr_chip40N-74E_o/Annual/etasw_1999.tif', 'out/DelawareRiverBasin/Run09_13_2020/ward_sandford_20yr_chip40N-76E_o/Annual/etasw_1999.tif', 'out/DelawareRiverBasin/Run09_13_2020/ward_sandford_20yr_chip40N-78E_o/Annual/etasw_1999.tif', 'out/DelawareRiverBasin/Run09_13_2020/ward_sandford_20yr_chip42N-74E_o/Annual/etasw_1999.tif', 'out/DelawareRiverBasin/Run09_13_2020/ward_sandford_20yr_chip42N-76E_o/Annual/etasw_1999.tif', 'out/DelawareRiverBasin/Run09_13_2020/ward_sandford_20yr_chip42N-78E_o/Annual/etasw_1999.tif', 'out/DelawareRiverBasin/Run09_13_2020/ward_sandford_20yr_chip44N-74E_o/Annual/etasw_1999.tif', 'out/DelawareRiverBasin/Run09_13_2020/ward_sandford_20yr_chip44N-76E_o/Annual/etasw_1999.tif', 'out/DelawareRiverBasin/Run09_13_2020/ward_sandford_20yr_chip44N-78E_o/Annual/etasw_1999.tif']\n"
     ]
    },
    {
     "name": "stdout",
     "output_type": "stream",
     "text": [
      "out/DelawareRiverBasin/Run09_13_2020/ward_sandford_20yr_chip38N-74E_o/Annual/etasw_1999.tif 0.23630070686340332\n",
      "out/DelawareRiverBasin/Run09_13_2020/ward_sandford_20yr_chip38N-76E_o/Annual/etasw_1999.tif 0.362396240234375\n",
      "out/DelawareRiverBasin/Run09_13_2020/ward_sandford_20yr_chip38N-78E_o/Annual/etasw_1999.tif 0.4855360984802246\n",
      "out/DelawareRiverBasin/Run09_13_2020/ward_sandford_20yr_chip40N-74E_o/Annual/etasw_1999.tif 0.5896551609039307\n",
      "out/DelawareRiverBasin/Run09_13_2020/ward_sandford_20yr_chip40N-76E_o/Annual/etasw_1999.tif 0.6929721832275391\n",
      "out/DelawareRiverBasin/Run09_13_2020/ward_sandford_20yr_chip40N-78E_o/Annual/etasw_1999.tif 0.8132879734039307\n",
      "out/DelawareRiverBasin/Run09_13_2020/ward_sandford_20yr_chip42N-74E_o/Annual/etasw_1999.tif 0.9185183048248291\n",
      "out/DelawareRiverBasin/Run09_13_2020/ward_sandford_20yr_chip42N-76E_o/Annual/etasw_1999.tif 1.0797491073608398\n",
      "out/DelawareRiverBasin/Run09_13_2020/ward_sandford_20yr_chip42N-78E_o/Annual/etasw_1999.tif 1.2105772495269775\n",
      "out/DelawareRiverBasin/Run09_13_2020/ward_sandford_20yr_chip44N-74E_o/Annual/etasw_1999.tif 1.3254773616790771\n",
      "out/DelawareRiverBasin/Run09_13_2020/ward_sandford_20yr_chip44N-76E_o/Annual/etasw_1999.tif 1.4567341804504395\n",
      "out/DelawareRiverBasin/Run09_13_2020/ward_sandford_20yr_chip44N-78E_o/Annual/etasw_1999.tif 1.5647847652435303\n",
      "<xarray.Dataset>\n",
      "Dimensions:  (x: 2886, y: 3845)\n",
      "Coordinates:\n",
      "  * x        (x) float64 -78.0 -78.0 -78.0 -77.99 ... -72.01 -72.0 -72.0 -72.0\n",
      "  * y        (y) float64 36.0 36.0 36.0 36.01 36.01 ... 43.99 44.0 44.0 44.0\n",
      "Data variables:\n",
      "    etasw_   (y, x) float64 128.6 126.9 126.6 126.6 ... 78.22 77.92 77.52 77.19\n",
      "out/DelawareRiverBasin/Run09_13_2020/ward_sandford_20yr_chip38N-74E_o/Annual/etasw_1999.tif\n",
      "enduser/DelawareRiverBasin/Run09_13_2020/ward_sandford_customer/\n",
      "OUTPUT==enduser/DelawareRiverBasin/Run09_13_2020/ward_sandford_customer/Annual/etasw_1999.tif\n"
     ]
    },
    {
     "name": "stderr",
     "output_type": "stream",
     "text": [
      "/home/jupyter-kagone/.local/lib/python3.7/site-packages/pyproj/crs/crs.py:280: FutureWarning: '+init=<authority>:<code>' syntax is deprecated. '<authority>:<code>' is the preferred initialization method. When making the change, be mindful of axis order changes: https://pyproj4.github.io/pyproj/stable/gotchas.html#axis-order-changes-in-proj-6\n",
      "  projstring = _prepare_from_string(projparams)\n",
      "2020-09-14 02:10:33,971 - Mos_mosaic - INFO - dev-et-data/out/DelawareRiverBasin/Run09_13_2020/ward_sandford_20yr_chip38N-74E_o/Annual/etasw_2000.tif, ['out/DelawareRiverBasin/Run09_13_2020/ward_sandford_20yr_chip38N-74E_o/', 'out/DelawareRiverBasin/Run09_13_2020/ward_sandford_20yr_chip38N-76E_o/', 'out/DelawareRiverBasin/Run09_13_2020/ward_sandford_20yr_chip38N-78E_o/', 'out/DelawareRiverBasin/Run09_13_2020/ward_sandford_20yr_chip40N-74E_o/', 'out/DelawareRiverBasin/Run09_13_2020/ward_sandford_20yr_chip40N-76E_o/', 'out/DelawareRiverBasin/Run09_13_2020/ward_sandford_20yr_chip40N-78E_o/', 'out/DelawareRiverBasin/Run09_13_2020/ward_sandford_20yr_chip42N-74E_o/', 'out/DelawareRiverBasin/Run09_13_2020/ward_sandford_20yr_chip42N-76E_o/', 'out/DelawareRiverBasin/Run09_13_2020/ward_sandford_20yr_chip42N-78E_o/', 'out/DelawareRiverBasin/Run09_13_2020/ward_sandford_20yr_chip44N-74E_o/', 'out/DelawareRiverBasin/Run09_13_2020/ward_sandford_20yr_chip44N-76E_o/', 'out/DelawareRiverBasin/Run09_13_2020/ward_sandford_20yr_chip44N-78E_o/']\n"
     ]
    },
    {
     "name": "stdout",
     "output_type": "stream",
     "text": [
      "['out/DelawareRiverBasin/Run09_13_2020/ward_sandford_20yr_chip38N-74E_o/Annual/etasw_2000.tif', 'out/DelawareRiverBasin/Run09_13_2020/ward_sandford_20yr_chip38N-76E_o/Annual/etasw_2000.tif', 'out/DelawareRiverBasin/Run09_13_2020/ward_sandford_20yr_chip38N-78E_o/Annual/etasw_2000.tif', 'out/DelawareRiverBasin/Run09_13_2020/ward_sandford_20yr_chip40N-74E_o/Annual/etasw_2000.tif', 'out/DelawareRiverBasin/Run09_13_2020/ward_sandford_20yr_chip40N-76E_o/Annual/etasw_2000.tif', 'out/DelawareRiverBasin/Run09_13_2020/ward_sandford_20yr_chip40N-78E_o/Annual/etasw_2000.tif', 'out/DelawareRiverBasin/Run09_13_2020/ward_sandford_20yr_chip42N-74E_o/Annual/etasw_2000.tif', 'out/DelawareRiverBasin/Run09_13_2020/ward_sandford_20yr_chip42N-76E_o/Annual/etasw_2000.tif', 'out/DelawareRiverBasin/Run09_13_2020/ward_sandford_20yr_chip42N-78E_o/Annual/etasw_2000.tif', 'out/DelawareRiverBasin/Run09_13_2020/ward_sandford_20yr_chip44N-74E_o/Annual/etasw_2000.tif', 'out/DelawareRiverBasin/Run09_13_2020/ward_sandford_20yr_chip44N-76E_o/Annual/etasw_2000.tif', 'out/DelawareRiverBasin/Run09_13_2020/ward_sandford_20yr_chip44N-78E_o/Annual/etasw_2000.tif']\n",
      "out/DelawareRiverBasin/Run09_13_2020/ward_sandford_20yr_chip38N-74E_o/Annual/etasw_2000.tif 0.11022424697875977\n",
      "out/DelawareRiverBasin/Run09_13_2020/ward_sandford_20yr_chip38N-76E_o/Annual/etasw_2000.tif 0.21316313743591309\n",
      "out/DelawareRiverBasin/Run09_13_2020/ward_sandford_20yr_chip38N-78E_o/Annual/etasw_2000.tif 0.302778959274292\n",
      "out/DelawareRiverBasin/Run09_13_2020/ward_sandford_20yr_chip40N-74E_o/Annual/etasw_2000.tif 0.38210034370422363\n",
      "out/DelawareRiverBasin/Run09_13_2020/ward_sandford_20yr_chip40N-76E_o/Annual/etasw_2000.tif 0.518303632736206\n",
      "out/DelawareRiverBasin/Run09_13_2020/ward_sandford_20yr_chip40N-78E_o/Annual/etasw_2000.tif 0.6634807586669922\n",
      "out/DelawareRiverBasin/Run09_13_2020/ward_sandford_20yr_chip42N-74E_o/Annual/etasw_2000.tif 0.7401084899902344\n",
      "out/DelawareRiverBasin/Run09_13_2020/ward_sandford_20yr_chip42N-76E_o/Annual/etasw_2000.tif 0.8332693576812744\n",
      "out/DelawareRiverBasin/Run09_13_2020/ward_sandford_20yr_chip42N-78E_o/Annual/etasw_2000.tif 0.9228084087371826\n",
      "out/DelawareRiverBasin/Run09_13_2020/ward_sandford_20yr_chip44N-74E_o/Annual/etasw_2000.tif 1.0540821552276611\n",
      "out/DelawareRiverBasin/Run09_13_2020/ward_sandford_20yr_chip44N-76E_o/Annual/etasw_2000.tif 1.1369755268096924\n",
      "out/DelawareRiverBasin/Run09_13_2020/ward_sandford_20yr_chip44N-78E_o/Annual/etasw_2000.tif 1.2216088771820068\n",
      "<xarray.Dataset>\n",
      "Dimensions:  (x: 2886, y: 3845)\n",
      "Coordinates:\n",
      "  * x        (x) float64 -78.0 -78.0 -78.0 -77.99 ... -72.01 -72.0 -72.0 -72.0\n",
      "  * y        (y) float64 36.0 36.0 36.0 36.01 36.01 ... 43.99 44.0 44.0 44.0\n",
      "Data variables:\n",
      "    etasw_   (y, x) float64 931.1 907.9 897.7 897.4 ... 535.3 534.0 601.7 596.3\n",
      "out/DelawareRiverBasin/Run09_13_2020/ward_sandford_20yr_chip38N-74E_o/Annual/etasw_2000.tif\n",
      "enduser/DelawareRiverBasin/Run09_13_2020/ward_sandford_customer/\n",
      "OUTPUT==enduser/DelawareRiverBasin/Run09_13_2020/ward_sandford_customer/Annual/etasw_2000.tif\n"
     ]
    },
    {
     "name": "stderr",
     "output_type": "stream",
     "text": [
      "/home/jupyter-kagone/.local/lib/python3.7/site-packages/pyproj/crs/crs.py:280: FutureWarning: '+init=<authority>:<code>' syntax is deprecated. '<authority>:<code>' is the preferred initialization method. When making the change, be mindful of axis order changes: https://pyproj4.github.io/pyproj/stable/gotchas.html#axis-order-changes-in-proj-6\n",
      "  projstring = _prepare_from_string(projparams)\n",
      "2020-09-14 02:10:45,893 - Mos_mosaic - INFO - dev-et-data/out/DelawareRiverBasin/Run09_13_2020/ward_sandford_20yr_chip38N-74E_o/Annual/etasw_2001.tif, ['out/DelawareRiverBasin/Run09_13_2020/ward_sandford_20yr_chip38N-74E_o/', 'out/DelawareRiverBasin/Run09_13_2020/ward_sandford_20yr_chip38N-76E_o/', 'out/DelawareRiverBasin/Run09_13_2020/ward_sandford_20yr_chip38N-78E_o/', 'out/DelawareRiverBasin/Run09_13_2020/ward_sandford_20yr_chip40N-74E_o/', 'out/DelawareRiverBasin/Run09_13_2020/ward_sandford_20yr_chip40N-76E_o/', 'out/DelawareRiverBasin/Run09_13_2020/ward_sandford_20yr_chip40N-78E_o/', 'out/DelawareRiverBasin/Run09_13_2020/ward_sandford_20yr_chip42N-74E_o/', 'out/DelawareRiverBasin/Run09_13_2020/ward_sandford_20yr_chip42N-76E_o/', 'out/DelawareRiverBasin/Run09_13_2020/ward_sandford_20yr_chip42N-78E_o/', 'out/DelawareRiverBasin/Run09_13_2020/ward_sandford_20yr_chip44N-74E_o/', 'out/DelawareRiverBasin/Run09_13_2020/ward_sandford_20yr_chip44N-76E_o/', 'out/DelawareRiverBasin/Run09_13_2020/ward_sandford_20yr_chip44N-78E_o/']\n"
     ]
    },
    {
     "name": "stdout",
     "output_type": "stream",
     "text": [
      "['out/DelawareRiverBasin/Run09_13_2020/ward_sandford_20yr_chip38N-74E_o/Annual/etasw_2001.tif', 'out/DelawareRiverBasin/Run09_13_2020/ward_sandford_20yr_chip38N-76E_o/Annual/etasw_2001.tif', 'out/DelawareRiverBasin/Run09_13_2020/ward_sandford_20yr_chip38N-78E_o/Annual/etasw_2001.tif', 'out/DelawareRiverBasin/Run09_13_2020/ward_sandford_20yr_chip40N-74E_o/Annual/etasw_2001.tif', 'out/DelawareRiverBasin/Run09_13_2020/ward_sandford_20yr_chip40N-76E_o/Annual/etasw_2001.tif', 'out/DelawareRiverBasin/Run09_13_2020/ward_sandford_20yr_chip40N-78E_o/Annual/etasw_2001.tif', 'out/DelawareRiverBasin/Run09_13_2020/ward_sandford_20yr_chip42N-74E_o/Annual/etasw_2001.tif', 'out/DelawareRiverBasin/Run09_13_2020/ward_sandford_20yr_chip42N-76E_o/Annual/etasw_2001.tif', 'out/DelawareRiverBasin/Run09_13_2020/ward_sandford_20yr_chip42N-78E_o/Annual/etasw_2001.tif', 'out/DelawareRiverBasin/Run09_13_2020/ward_sandford_20yr_chip44N-74E_o/Annual/etasw_2001.tif', 'out/DelawareRiverBasin/Run09_13_2020/ward_sandford_20yr_chip44N-76E_o/Annual/etasw_2001.tif', 'out/DelawareRiverBasin/Run09_13_2020/ward_sandford_20yr_chip44N-78E_o/Annual/etasw_2001.tif']\n",
      "out/DelawareRiverBasin/Run09_13_2020/ward_sandford_20yr_chip38N-74E_o/Annual/etasw_2001.tif 0.13661932945251465\n",
      "out/DelawareRiverBasin/Run09_13_2020/ward_sandford_20yr_chip38N-76E_o/Annual/etasw_2001.tif 0.21558356285095215\n",
      "out/DelawareRiverBasin/Run09_13_2020/ward_sandford_20yr_chip38N-78E_o/Annual/etasw_2001.tif 0.30921149253845215\n",
      "out/DelawareRiverBasin/Run09_13_2020/ward_sandford_20yr_chip40N-74E_o/Annual/etasw_2001.tif 0.4018986225128174\n",
      "out/DelawareRiverBasin/Run09_13_2020/ward_sandford_20yr_chip40N-76E_o/Annual/etasw_2001.tif 0.48403239250183105\n",
      "out/DelawareRiverBasin/Run09_13_2020/ward_sandford_20yr_chip40N-78E_o/Annual/etasw_2001.tif 0.5770068168640137\n",
      "out/DelawareRiverBasin/Run09_13_2020/ward_sandford_20yr_chip42N-74E_o/Annual/etasw_2001.tif 0.6572957038879395\n",
      "out/DelawareRiverBasin/Run09_13_2020/ward_sandford_20yr_chip42N-76E_o/Annual/etasw_2001.tif 0.7507777214050293\n",
      "out/DelawareRiverBasin/Run09_13_2020/ward_sandford_20yr_chip42N-78E_o/Annual/etasw_2001.tif 0.8346633911132812\n",
      "out/DelawareRiverBasin/Run09_13_2020/ward_sandford_20yr_chip44N-74E_o/Annual/etasw_2001.tif 0.909003734588623\n",
      "out/DelawareRiverBasin/Run09_13_2020/ward_sandford_20yr_chip44N-76E_o/Annual/etasw_2001.tif 0.9951009750366211\n",
      "out/DelawareRiverBasin/Run09_13_2020/ward_sandford_20yr_chip44N-78E_o/Annual/etasw_2001.tif 1.090653657913208\n",
      "<xarray.Dataset>\n",
      "Dimensions:  (x: 2886, y: 3845)\n",
      "Coordinates:\n",
      "  * x        (x) float64 -78.0 -78.0 -78.0 -77.99 ... -72.01 -72.0 -72.0 -72.0\n",
      "  * y        (y) float64 36.0 36.0 36.0 36.01 36.01 ... 43.99 44.0 44.0 44.0\n",
      "Data variables:\n",
      "    etasw_   (y, x) float64 864.8 838.7 832.7 833.2 ... 434.5 433.2 505.9 500.9\n",
      "out/DelawareRiverBasin/Run09_13_2020/ward_sandford_20yr_chip38N-74E_o/Annual/etasw_2001.tif\n",
      "enduser/DelawareRiverBasin/Run09_13_2020/ward_sandford_customer/\n",
      "OUTPUT==enduser/DelawareRiverBasin/Run09_13_2020/ward_sandford_customer/Annual/etasw_2001.tif\n"
     ]
    },
    {
     "name": "stderr",
     "output_type": "stream",
     "text": [
      "/home/jupyter-kagone/.local/lib/python3.7/site-packages/pyproj/crs/crs.py:280: FutureWarning: '+init=<authority>:<code>' syntax is deprecated. '<authority>:<code>' is the preferred initialization method. When making the change, be mindful of axis order changes: https://pyproj4.github.io/pyproj/stable/gotchas.html#axis-order-changes-in-proj-6\n",
      "  projstring = _prepare_from_string(projparams)\n",
      "2020-09-14 02:10:57,238 - Mos_mosaic - INFO - dev-et-data/out/DelawareRiverBasin/Run09_13_2020/ward_sandford_20yr_chip38N-74E_o/Annual/etasw_2002.tif, ['out/DelawareRiverBasin/Run09_13_2020/ward_sandford_20yr_chip38N-74E_o/', 'out/DelawareRiverBasin/Run09_13_2020/ward_sandford_20yr_chip38N-76E_o/', 'out/DelawareRiverBasin/Run09_13_2020/ward_sandford_20yr_chip38N-78E_o/', 'out/DelawareRiverBasin/Run09_13_2020/ward_sandford_20yr_chip40N-74E_o/', 'out/DelawareRiverBasin/Run09_13_2020/ward_sandford_20yr_chip40N-76E_o/', 'out/DelawareRiverBasin/Run09_13_2020/ward_sandford_20yr_chip40N-78E_o/', 'out/DelawareRiverBasin/Run09_13_2020/ward_sandford_20yr_chip42N-74E_o/', 'out/DelawareRiverBasin/Run09_13_2020/ward_sandford_20yr_chip42N-76E_o/', 'out/DelawareRiverBasin/Run09_13_2020/ward_sandford_20yr_chip42N-78E_o/', 'out/DelawareRiverBasin/Run09_13_2020/ward_sandford_20yr_chip44N-74E_o/', 'out/DelawareRiverBasin/Run09_13_2020/ward_sandford_20yr_chip44N-76E_o/', 'out/DelawareRiverBasin/Run09_13_2020/ward_sandford_20yr_chip44N-78E_o/']\n"
     ]
    },
    {
     "name": "stdout",
     "output_type": "stream",
     "text": [
      "['out/DelawareRiverBasin/Run09_13_2020/ward_sandford_20yr_chip38N-74E_o/Annual/etasw_2002.tif', 'out/DelawareRiverBasin/Run09_13_2020/ward_sandford_20yr_chip38N-76E_o/Annual/etasw_2002.tif', 'out/DelawareRiverBasin/Run09_13_2020/ward_sandford_20yr_chip38N-78E_o/Annual/etasw_2002.tif', 'out/DelawareRiverBasin/Run09_13_2020/ward_sandford_20yr_chip40N-74E_o/Annual/etasw_2002.tif', 'out/DelawareRiverBasin/Run09_13_2020/ward_sandford_20yr_chip40N-76E_o/Annual/etasw_2002.tif', 'out/DelawareRiverBasin/Run09_13_2020/ward_sandford_20yr_chip40N-78E_o/Annual/etasw_2002.tif', 'out/DelawareRiverBasin/Run09_13_2020/ward_sandford_20yr_chip42N-74E_o/Annual/etasw_2002.tif', 'out/DelawareRiverBasin/Run09_13_2020/ward_sandford_20yr_chip42N-76E_o/Annual/etasw_2002.tif', 'out/DelawareRiverBasin/Run09_13_2020/ward_sandford_20yr_chip42N-78E_o/Annual/etasw_2002.tif', 'out/DelawareRiverBasin/Run09_13_2020/ward_sandford_20yr_chip44N-74E_o/Annual/etasw_2002.tif', 'out/DelawareRiverBasin/Run09_13_2020/ward_sandford_20yr_chip44N-76E_o/Annual/etasw_2002.tif', 'out/DelawareRiverBasin/Run09_13_2020/ward_sandford_20yr_chip44N-78E_o/Annual/etasw_2002.tif']\n",
      "out/DelawareRiverBasin/Run09_13_2020/ward_sandford_20yr_chip38N-74E_o/Annual/etasw_2002.tif 0.12416315078735352\n",
      "out/DelawareRiverBasin/Run09_13_2020/ward_sandford_20yr_chip38N-76E_o/Annual/etasw_2002.tif 0.2277686595916748\n",
      "out/DelawareRiverBasin/Run09_13_2020/ward_sandford_20yr_chip38N-78E_o/Annual/etasw_2002.tif 0.311124324798584\n",
      "out/DelawareRiverBasin/Run09_13_2020/ward_sandford_20yr_chip40N-74E_o/Annual/etasw_2002.tif 0.3986051082611084\n",
      "out/DelawareRiverBasin/Run09_13_2020/ward_sandford_20yr_chip40N-76E_o/Annual/etasw_2002.tif 0.49861979484558105\n",
      "out/DelawareRiverBasin/Run09_13_2020/ward_sandford_20yr_chip40N-78E_o/Annual/etasw_2002.tif 0.6026275157928467\n",
      "out/DelawareRiverBasin/Run09_13_2020/ward_sandford_20yr_chip42N-74E_o/Annual/etasw_2002.tif 0.6822218894958496\n",
      "out/DelawareRiverBasin/Run09_13_2020/ward_sandford_20yr_chip42N-76E_o/Annual/etasw_2002.tif 0.7614529132843018\n",
      "out/DelawareRiverBasin/Run09_13_2020/ward_sandford_20yr_chip42N-78E_o/Annual/etasw_2002.tif 0.8360514640808105\n",
      "out/DelawareRiverBasin/Run09_13_2020/ward_sandford_20yr_chip44N-74E_o/Annual/etasw_2002.tif 0.9188277721405029\n",
      "out/DelawareRiverBasin/Run09_13_2020/ward_sandford_20yr_chip44N-76E_o/Annual/etasw_2002.tif 0.9950134754180908\n",
      "out/DelawareRiverBasin/Run09_13_2020/ward_sandford_20yr_chip44N-78E_o/Annual/etasw_2002.tif 1.0695548057556152\n",
      "<xarray.Dataset>\n",
      "Dimensions:  (x: 2886, y: 3845)\n",
      "Coordinates:\n",
      "  * x        (x) float64 -78.0 -78.0 -78.0 -77.99 ... -72.01 -72.0 -72.0 -72.0\n",
      "  * y        (y) float64 36.0 36.0 36.0 36.01 36.01 ... 43.99 44.0 44.0 44.0\n",
      "Data variables:\n",
      "    etasw_   (y, x) float64 782.1 764.4 760.5 760.2 ... 534.1 532.9 600.1 593.8\n",
      "out/DelawareRiverBasin/Run09_13_2020/ward_sandford_20yr_chip38N-74E_o/Annual/etasw_2002.tif\n",
      "enduser/DelawareRiverBasin/Run09_13_2020/ward_sandford_customer/\n",
      "OUTPUT==enduser/DelawareRiverBasin/Run09_13_2020/ward_sandford_customer/Annual/etasw_2002.tif\n"
     ]
    },
    {
     "name": "stderr",
     "output_type": "stream",
     "text": [
      "/home/jupyter-kagone/.local/lib/python3.7/site-packages/pyproj/crs/crs.py:280: FutureWarning: '+init=<authority>:<code>' syntax is deprecated. '<authority>:<code>' is the preferred initialization method. When making the change, be mindful of axis order changes: https://pyproj4.github.io/pyproj/stable/gotchas.html#axis-order-changes-in-proj-6\n",
      "  projstring = _prepare_from_string(projparams)\n",
      "2020-09-14 02:11:08,535 - Mos_mosaic - INFO - dev-et-data/out/DelawareRiverBasin/Run09_13_2020/ward_sandford_20yr_chip38N-74E_o/Annual/etasw_2003.tif, ['out/DelawareRiverBasin/Run09_13_2020/ward_sandford_20yr_chip38N-74E_o/', 'out/DelawareRiverBasin/Run09_13_2020/ward_sandford_20yr_chip38N-76E_o/', 'out/DelawareRiverBasin/Run09_13_2020/ward_sandford_20yr_chip38N-78E_o/', 'out/DelawareRiverBasin/Run09_13_2020/ward_sandford_20yr_chip40N-74E_o/', 'out/DelawareRiverBasin/Run09_13_2020/ward_sandford_20yr_chip40N-76E_o/', 'out/DelawareRiverBasin/Run09_13_2020/ward_sandford_20yr_chip40N-78E_o/', 'out/DelawareRiverBasin/Run09_13_2020/ward_sandford_20yr_chip42N-74E_o/', 'out/DelawareRiverBasin/Run09_13_2020/ward_sandford_20yr_chip42N-76E_o/', 'out/DelawareRiverBasin/Run09_13_2020/ward_sandford_20yr_chip42N-78E_o/', 'out/DelawareRiverBasin/Run09_13_2020/ward_sandford_20yr_chip44N-74E_o/', 'out/DelawareRiverBasin/Run09_13_2020/ward_sandford_20yr_chip44N-76E_o/', 'out/DelawareRiverBasin/Run09_13_2020/ward_sandford_20yr_chip44N-78E_o/']\n"
     ]
    },
    {
     "name": "stdout",
     "output_type": "stream",
     "text": [
      "['out/DelawareRiverBasin/Run09_13_2020/ward_sandford_20yr_chip38N-74E_o/Annual/etasw_2003.tif', 'out/DelawareRiverBasin/Run09_13_2020/ward_sandford_20yr_chip38N-76E_o/Annual/etasw_2003.tif', 'out/DelawareRiverBasin/Run09_13_2020/ward_sandford_20yr_chip38N-78E_o/Annual/etasw_2003.tif', 'out/DelawareRiverBasin/Run09_13_2020/ward_sandford_20yr_chip40N-74E_o/Annual/etasw_2003.tif', 'out/DelawareRiverBasin/Run09_13_2020/ward_sandford_20yr_chip40N-76E_o/Annual/etasw_2003.tif', 'out/DelawareRiverBasin/Run09_13_2020/ward_sandford_20yr_chip40N-78E_o/Annual/etasw_2003.tif', 'out/DelawareRiverBasin/Run09_13_2020/ward_sandford_20yr_chip42N-74E_o/Annual/etasw_2003.tif', 'out/DelawareRiverBasin/Run09_13_2020/ward_sandford_20yr_chip42N-76E_o/Annual/etasw_2003.tif', 'out/DelawareRiverBasin/Run09_13_2020/ward_sandford_20yr_chip42N-78E_o/Annual/etasw_2003.tif', 'out/DelawareRiverBasin/Run09_13_2020/ward_sandford_20yr_chip44N-74E_o/Annual/etasw_2003.tif', 'out/DelawareRiverBasin/Run09_13_2020/ward_sandford_20yr_chip44N-76E_o/Annual/etasw_2003.tif', 'out/DelawareRiverBasin/Run09_13_2020/ward_sandford_20yr_chip44N-78E_o/Annual/etasw_2003.tif']\n",
      "out/DelawareRiverBasin/Run09_13_2020/ward_sandford_20yr_chip38N-74E_o/Annual/etasw_2003.tif 0.12394976615905762\n",
      "out/DelawareRiverBasin/Run09_13_2020/ward_sandford_20yr_chip38N-76E_o/Annual/etasw_2003.tif 0.20831918716430664\n",
      "out/DelawareRiverBasin/Run09_13_2020/ward_sandford_20yr_chip38N-78E_o/Annual/etasw_2003.tif 0.3057067394256592\n",
      "out/DelawareRiverBasin/Run09_13_2020/ward_sandford_20yr_chip40N-74E_o/Annual/etasw_2003.tif 0.3861546516418457\n",
      "out/DelawareRiverBasin/Run09_13_2020/ward_sandford_20yr_chip40N-76E_o/Annual/etasw_2003.tif 0.4650230407714844\n",
      "out/DelawareRiverBasin/Run09_13_2020/ward_sandford_20yr_chip40N-78E_o/Annual/etasw_2003.tif 0.5627377033233643\n",
      "out/DelawareRiverBasin/Run09_13_2020/ward_sandford_20yr_chip42N-74E_o/Annual/etasw_2003.tif 0.6527261734008789\n",
      "out/DelawareRiverBasin/Run09_13_2020/ward_sandford_20yr_chip42N-76E_o/Annual/etasw_2003.tif 0.7406954765319824\n",
      "out/DelawareRiverBasin/Run09_13_2020/ward_sandford_20yr_chip42N-78E_o/Annual/etasw_2003.tif 0.8276207447052002\n",
      "out/DelawareRiverBasin/Run09_13_2020/ward_sandford_20yr_chip44N-74E_o/Annual/etasw_2003.tif 0.927276611328125\n",
      "out/DelawareRiverBasin/Run09_13_2020/ward_sandford_20yr_chip44N-76E_o/Annual/etasw_2003.tif 1.022918462753296\n",
      "out/DelawareRiverBasin/Run09_13_2020/ward_sandford_20yr_chip44N-78E_o/Annual/etasw_2003.tif 1.111290693283081\n",
      "<xarray.Dataset>\n",
      "Dimensions:  (x: 2886, y: 3845)\n",
      "Coordinates:\n",
      "  * x        (x) float64 -78.0 -78.0 -78.0 -77.99 ... -72.01 -72.0 -72.0 -72.0\n",
      "  * y        (y) float64 36.0 36.0 36.0 36.01 36.01 ... 43.99 44.0 44.0 44.0\n",
      "Data variables:\n",
      "    etasw_   (y, x) float64 999.7 984.9 978.5 978.6 ... 596.8 595.8 656.9 650.5\n",
      "out/DelawareRiverBasin/Run09_13_2020/ward_sandford_20yr_chip38N-74E_o/Annual/etasw_2003.tif\n",
      "enduser/DelawareRiverBasin/Run09_13_2020/ward_sandford_customer/\n",
      "OUTPUT==enduser/DelawareRiverBasin/Run09_13_2020/ward_sandford_customer/Annual/etasw_2003.tif\n"
     ]
    },
    {
     "name": "stderr",
     "output_type": "stream",
     "text": [
      "/home/jupyter-kagone/.local/lib/python3.7/site-packages/pyproj/crs/crs.py:280: FutureWarning: '+init=<authority>:<code>' syntax is deprecated. '<authority>:<code>' is the preferred initialization method. When making the change, be mindful of axis order changes: https://pyproj4.github.io/pyproj/stable/gotchas.html#axis-order-changes-in-proj-6\n",
      "  projstring = _prepare_from_string(projparams)\n",
      "2020-09-14 02:11:20,126 - Mos_mosaic - INFO - dev-et-data/out/DelawareRiverBasin/Run09_13_2020/ward_sandford_20yr_chip38N-74E_o/Annual/etasw_2004.tif, ['out/DelawareRiverBasin/Run09_13_2020/ward_sandford_20yr_chip38N-74E_o/', 'out/DelawareRiverBasin/Run09_13_2020/ward_sandford_20yr_chip38N-76E_o/', 'out/DelawareRiverBasin/Run09_13_2020/ward_sandford_20yr_chip38N-78E_o/', 'out/DelawareRiverBasin/Run09_13_2020/ward_sandford_20yr_chip40N-74E_o/', 'out/DelawareRiverBasin/Run09_13_2020/ward_sandford_20yr_chip40N-76E_o/', 'out/DelawareRiverBasin/Run09_13_2020/ward_sandford_20yr_chip40N-78E_o/', 'out/DelawareRiverBasin/Run09_13_2020/ward_sandford_20yr_chip42N-74E_o/', 'out/DelawareRiverBasin/Run09_13_2020/ward_sandford_20yr_chip42N-76E_o/', 'out/DelawareRiverBasin/Run09_13_2020/ward_sandford_20yr_chip42N-78E_o/', 'out/DelawareRiverBasin/Run09_13_2020/ward_sandford_20yr_chip44N-74E_o/', 'out/DelawareRiverBasin/Run09_13_2020/ward_sandford_20yr_chip44N-76E_o/', 'out/DelawareRiverBasin/Run09_13_2020/ward_sandford_20yr_chip44N-78E_o/']\n"
     ]
    },
    {
     "name": "stdout",
     "output_type": "stream",
     "text": [
      "['out/DelawareRiverBasin/Run09_13_2020/ward_sandford_20yr_chip38N-74E_o/Annual/etasw_2004.tif', 'out/DelawareRiverBasin/Run09_13_2020/ward_sandford_20yr_chip38N-76E_o/Annual/etasw_2004.tif', 'out/DelawareRiverBasin/Run09_13_2020/ward_sandford_20yr_chip38N-78E_o/Annual/etasw_2004.tif', 'out/DelawareRiverBasin/Run09_13_2020/ward_sandford_20yr_chip40N-74E_o/Annual/etasw_2004.tif', 'out/DelawareRiverBasin/Run09_13_2020/ward_sandford_20yr_chip40N-76E_o/Annual/etasw_2004.tif', 'out/DelawareRiverBasin/Run09_13_2020/ward_sandford_20yr_chip40N-78E_o/Annual/etasw_2004.tif', 'out/DelawareRiverBasin/Run09_13_2020/ward_sandford_20yr_chip42N-74E_o/Annual/etasw_2004.tif', 'out/DelawareRiverBasin/Run09_13_2020/ward_sandford_20yr_chip42N-76E_o/Annual/etasw_2004.tif', 'out/DelawareRiverBasin/Run09_13_2020/ward_sandford_20yr_chip42N-78E_o/Annual/etasw_2004.tif', 'out/DelawareRiverBasin/Run09_13_2020/ward_sandford_20yr_chip44N-74E_o/Annual/etasw_2004.tif', 'out/DelawareRiverBasin/Run09_13_2020/ward_sandford_20yr_chip44N-76E_o/Annual/etasw_2004.tif', 'out/DelawareRiverBasin/Run09_13_2020/ward_sandford_20yr_chip44N-78E_o/Annual/etasw_2004.tif']\n",
      "out/DelawareRiverBasin/Run09_13_2020/ward_sandford_20yr_chip38N-74E_o/Annual/etasw_2004.tif 0.10526466369628906\n",
      "out/DelawareRiverBasin/Run09_13_2020/ward_sandford_20yr_chip38N-76E_o/Annual/etasw_2004.tif 0.16874384880065918\n",
      "out/DelawareRiverBasin/Run09_13_2020/ward_sandford_20yr_chip38N-78E_o/Annual/etasw_2004.tif 0.28569889068603516\n",
      "out/DelawareRiverBasin/Run09_13_2020/ward_sandford_20yr_chip40N-74E_o/Annual/etasw_2004.tif 0.3781149387359619\n",
      "out/DelawareRiverBasin/Run09_13_2020/ward_sandford_20yr_chip40N-76E_o/Annual/etasw_2004.tif 0.4632225036621094\n",
      "out/DelawareRiverBasin/Run09_13_2020/ward_sandford_20yr_chip40N-78E_o/Annual/etasw_2004.tif 0.5547323226928711\n",
      "out/DelawareRiverBasin/Run09_13_2020/ward_sandford_20yr_chip42N-74E_o/Annual/etasw_2004.tif 0.6334445476531982\n",
      "out/DelawareRiverBasin/Run09_13_2020/ward_sandford_20yr_chip42N-76E_o/Annual/etasw_2004.tif 0.7692084312438965\n",
      "out/DelawareRiverBasin/Run09_13_2020/ward_sandford_20yr_chip42N-78E_o/Annual/etasw_2004.tif 0.862947940826416\n",
      "out/DelawareRiverBasin/Run09_13_2020/ward_sandford_20yr_chip44N-74E_o/Annual/etasw_2004.tif 0.9470517635345459\n",
      "out/DelawareRiverBasin/Run09_13_2020/ward_sandford_20yr_chip44N-76E_o/Annual/etasw_2004.tif 1.0414178371429443\n",
      "out/DelawareRiverBasin/Run09_13_2020/ward_sandford_20yr_chip44N-78E_o/Annual/etasw_2004.tif 1.1409327983856201\n",
      "<xarray.Dataset>\n",
      "Dimensions:  (x: 2886, y: 3845)\n",
      "Coordinates:\n",
      "  * x        (x) float64 -78.0 -78.0 -78.0 -77.99 ... -72.01 -72.0 -72.0 -72.0\n",
      "  * y        (y) float64 36.0 36.0 36.0 36.01 36.01 ... 43.99 44.0 44.0 44.0\n",
      "Data variables:\n",
      "    etasw_   (y, x) float64 942.3 928.6 926.8 926.4 ... 607.7 606.8 662.6 655.5\n",
      "out/DelawareRiverBasin/Run09_13_2020/ward_sandford_20yr_chip38N-74E_o/Annual/etasw_2004.tif\n",
      "enduser/DelawareRiverBasin/Run09_13_2020/ward_sandford_customer/\n",
      "OUTPUT==enduser/DelawareRiverBasin/Run09_13_2020/ward_sandford_customer/Annual/etasw_2004.tif\n"
     ]
    },
    {
     "name": "stderr",
     "output_type": "stream",
     "text": [
      "/home/jupyter-kagone/.local/lib/python3.7/site-packages/pyproj/crs/crs.py:280: FutureWarning: '+init=<authority>:<code>' syntax is deprecated. '<authority>:<code>' is the preferred initialization method. When making the change, be mindful of axis order changes: https://pyproj4.github.io/pyproj/stable/gotchas.html#axis-order-changes-in-proj-6\n",
      "  projstring = _prepare_from_string(projparams)\n",
      "2020-09-14 02:11:31,750 - Mos_mosaic - INFO - dev-et-data/out/DelawareRiverBasin/Run09_13_2020/ward_sandford_20yr_chip38N-74E_o/Annual/etasw_2005.tif, ['out/DelawareRiverBasin/Run09_13_2020/ward_sandford_20yr_chip38N-74E_o/', 'out/DelawareRiverBasin/Run09_13_2020/ward_sandford_20yr_chip38N-76E_o/', 'out/DelawareRiverBasin/Run09_13_2020/ward_sandford_20yr_chip38N-78E_o/', 'out/DelawareRiverBasin/Run09_13_2020/ward_sandford_20yr_chip40N-74E_o/', 'out/DelawareRiverBasin/Run09_13_2020/ward_sandford_20yr_chip40N-76E_o/', 'out/DelawareRiverBasin/Run09_13_2020/ward_sandford_20yr_chip40N-78E_o/', 'out/DelawareRiverBasin/Run09_13_2020/ward_sandford_20yr_chip42N-74E_o/', 'out/DelawareRiverBasin/Run09_13_2020/ward_sandford_20yr_chip42N-76E_o/', 'out/DelawareRiverBasin/Run09_13_2020/ward_sandford_20yr_chip42N-78E_o/', 'out/DelawareRiverBasin/Run09_13_2020/ward_sandford_20yr_chip44N-74E_o/', 'out/DelawareRiverBasin/Run09_13_2020/ward_sandford_20yr_chip44N-76E_o/', 'out/DelawareRiverBasin/Run09_13_2020/ward_sandford_20yr_chip44N-78E_o/']\n"
     ]
    },
    {
     "name": "stdout",
     "output_type": "stream",
     "text": [
      "['out/DelawareRiverBasin/Run09_13_2020/ward_sandford_20yr_chip38N-74E_o/Annual/etasw_2005.tif', 'out/DelawareRiverBasin/Run09_13_2020/ward_sandford_20yr_chip38N-76E_o/Annual/etasw_2005.tif', 'out/DelawareRiverBasin/Run09_13_2020/ward_sandford_20yr_chip38N-78E_o/Annual/etasw_2005.tif', 'out/DelawareRiverBasin/Run09_13_2020/ward_sandford_20yr_chip40N-74E_o/Annual/etasw_2005.tif', 'out/DelawareRiverBasin/Run09_13_2020/ward_sandford_20yr_chip40N-76E_o/Annual/etasw_2005.tif', 'out/DelawareRiverBasin/Run09_13_2020/ward_sandford_20yr_chip40N-78E_o/Annual/etasw_2005.tif', 'out/DelawareRiverBasin/Run09_13_2020/ward_sandford_20yr_chip42N-74E_o/Annual/etasw_2005.tif', 'out/DelawareRiverBasin/Run09_13_2020/ward_sandford_20yr_chip42N-76E_o/Annual/etasw_2005.tif', 'out/DelawareRiverBasin/Run09_13_2020/ward_sandford_20yr_chip42N-78E_o/Annual/etasw_2005.tif', 'out/DelawareRiverBasin/Run09_13_2020/ward_sandford_20yr_chip44N-74E_o/Annual/etasw_2005.tif', 'out/DelawareRiverBasin/Run09_13_2020/ward_sandford_20yr_chip44N-76E_o/Annual/etasw_2005.tif', 'out/DelawareRiverBasin/Run09_13_2020/ward_sandford_20yr_chip44N-78E_o/Annual/etasw_2005.tif']\n",
      "out/DelawareRiverBasin/Run09_13_2020/ward_sandford_20yr_chip38N-74E_o/Annual/etasw_2005.tif 0.13387584686279297\n",
      "out/DelawareRiverBasin/Run09_13_2020/ward_sandford_20yr_chip38N-76E_o/Annual/etasw_2005.tif 0.21543383598327637\n",
      "out/DelawareRiverBasin/Run09_13_2020/ward_sandford_20yr_chip38N-78E_o/Annual/etasw_2005.tif 0.29303765296936035\n",
      "out/DelawareRiverBasin/Run09_13_2020/ward_sandford_20yr_chip40N-74E_o/Annual/etasw_2005.tif 0.40982604026794434\n",
      "out/DelawareRiverBasin/Run09_13_2020/ward_sandford_20yr_chip40N-76E_o/Annual/etasw_2005.tif 0.49518871307373047\n",
      "out/DelawareRiverBasin/Run09_13_2020/ward_sandford_20yr_chip40N-78E_o/Annual/etasw_2005.tif 0.5674698352813721\n",
      "out/DelawareRiverBasin/Run09_13_2020/ward_sandford_20yr_chip42N-74E_o/Annual/etasw_2005.tif 0.6740882396697998\n",
      "out/DelawareRiverBasin/Run09_13_2020/ward_sandford_20yr_chip42N-76E_o/Annual/etasw_2005.tif 0.758732795715332\n",
      "out/DelawareRiverBasin/Run09_13_2020/ward_sandford_20yr_chip42N-78E_o/Annual/etasw_2005.tif 0.831547737121582\n",
      "out/DelawareRiverBasin/Run09_13_2020/ward_sandford_20yr_chip44N-74E_o/Annual/etasw_2005.tif 0.9224686622619629\n",
      "out/DelawareRiverBasin/Run09_13_2020/ward_sandford_20yr_chip44N-76E_o/Annual/etasw_2005.tif 1.0462243556976318\n",
      "out/DelawareRiverBasin/Run09_13_2020/ward_sandford_20yr_chip44N-78E_o/Annual/etasw_2005.tif 1.1381561756134033\n",
      "<xarray.Dataset>\n",
      "Dimensions:  (x: 2886, y: 3845)\n",
      "Coordinates:\n",
      "  * x        (x) float64 -78.0 -78.0 -78.0 -77.99 ... -72.01 -72.0 -72.0 -72.0\n",
      "  * y        (y) float64 36.0 36.0 36.0 36.01 36.01 ... 43.99 44.0 44.0 44.0\n",
      "Data variables:\n",
      "    etasw_   (y, x) float64 750.2 734.9 731.8 731.9 ... 603.1 601.8 664.9 658.6\n",
      "out/DelawareRiverBasin/Run09_13_2020/ward_sandford_20yr_chip38N-74E_o/Annual/etasw_2005.tif\n",
      "enduser/DelawareRiverBasin/Run09_13_2020/ward_sandford_customer/\n",
      "OUTPUT==enduser/DelawareRiverBasin/Run09_13_2020/ward_sandford_customer/Annual/etasw_2005.tif\n"
     ]
    },
    {
     "name": "stderr",
     "output_type": "stream",
     "text": [
      "/home/jupyter-kagone/.local/lib/python3.7/site-packages/pyproj/crs/crs.py:280: FutureWarning: '+init=<authority>:<code>' syntax is deprecated. '<authority>:<code>' is the preferred initialization method. When making the change, be mindful of axis order changes: https://pyproj4.github.io/pyproj/stable/gotchas.html#axis-order-changes-in-proj-6\n",
      "  projstring = _prepare_from_string(projparams)\n",
      "2020-09-14 02:11:43,322 - Mos_mosaic - INFO - dev-et-data/out/DelawareRiverBasin/Run09_13_2020/ward_sandford_20yr_chip38N-74E_o/Annual/etasw_2006.tif, ['out/DelawareRiverBasin/Run09_13_2020/ward_sandford_20yr_chip38N-74E_o/', 'out/DelawareRiverBasin/Run09_13_2020/ward_sandford_20yr_chip38N-76E_o/', 'out/DelawareRiverBasin/Run09_13_2020/ward_sandford_20yr_chip38N-78E_o/', 'out/DelawareRiverBasin/Run09_13_2020/ward_sandford_20yr_chip40N-74E_o/', 'out/DelawareRiverBasin/Run09_13_2020/ward_sandford_20yr_chip40N-76E_o/', 'out/DelawareRiverBasin/Run09_13_2020/ward_sandford_20yr_chip40N-78E_o/', 'out/DelawareRiverBasin/Run09_13_2020/ward_sandford_20yr_chip42N-74E_o/', 'out/DelawareRiverBasin/Run09_13_2020/ward_sandford_20yr_chip42N-76E_o/', 'out/DelawareRiverBasin/Run09_13_2020/ward_sandford_20yr_chip42N-78E_o/', 'out/DelawareRiverBasin/Run09_13_2020/ward_sandford_20yr_chip44N-74E_o/', 'out/DelawareRiverBasin/Run09_13_2020/ward_sandford_20yr_chip44N-76E_o/', 'out/DelawareRiverBasin/Run09_13_2020/ward_sandford_20yr_chip44N-78E_o/']\n"
     ]
    },
    {
     "name": "stdout",
     "output_type": "stream",
     "text": [
      "['out/DelawareRiverBasin/Run09_13_2020/ward_sandford_20yr_chip38N-74E_o/Annual/etasw_2006.tif', 'out/DelawareRiverBasin/Run09_13_2020/ward_sandford_20yr_chip38N-76E_o/Annual/etasw_2006.tif', 'out/DelawareRiverBasin/Run09_13_2020/ward_sandford_20yr_chip38N-78E_o/Annual/etasw_2006.tif', 'out/DelawareRiverBasin/Run09_13_2020/ward_sandford_20yr_chip40N-74E_o/Annual/etasw_2006.tif', 'out/DelawareRiverBasin/Run09_13_2020/ward_sandford_20yr_chip40N-76E_o/Annual/etasw_2006.tif', 'out/DelawareRiverBasin/Run09_13_2020/ward_sandford_20yr_chip40N-78E_o/Annual/etasw_2006.tif', 'out/DelawareRiverBasin/Run09_13_2020/ward_sandford_20yr_chip42N-74E_o/Annual/etasw_2006.tif', 'out/DelawareRiverBasin/Run09_13_2020/ward_sandford_20yr_chip42N-76E_o/Annual/etasw_2006.tif', 'out/DelawareRiverBasin/Run09_13_2020/ward_sandford_20yr_chip42N-78E_o/Annual/etasw_2006.tif', 'out/DelawareRiverBasin/Run09_13_2020/ward_sandford_20yr_chip44N-74E_o/Annual/etasw_2006.tif', 'out/DelawareRiverBasin/Run09_13_2020/ward_sandford_20yr_chip44N-76E_o/Annual/etasw_2006.tif', 'out/DelawareRiverBasin/Run09_13_2020/ward_sandford_20yr_chip44N-78E_o/Annual/etasw_2006.tif']\n",
      "out/DelawareRiverBasin/Run09_13_2020/ward_sandford_20yr_chip38N-74E_o/Annual/etasw_2006.tif 0.12163472175598145\n",
      "out/DelawareRiverBasin/Run09_13_2020/ward_sandford_20yr_chip38N-76E_o/Annual/etasw_2006.tif 0.2365398406982422\n",
      "out/DelawareRiverBasin/Run09_13_2020/ward_sandford_20yr_chip38N-78E_o/Annual/etasw_2006.tif 0.3223106861114502\n",
      "out/DelawareRiverBasin/Run09_13_2020/ward_sandford_20yr_chip40N-74E_o/Annual/etasw_2006.tif 0.4135165214538574\n",
      "out/DelawareRiverBasin/Run09_13_2020/ward_sandford_20yr_chip40N-76E_o/Annual/etasw_2006.tif 0.4921112060546875\n",
      "out/DelawareRiverBasin/Run09_13_2020/ward_sandford_20yr_chip40N-78E_o/Annual/etasw_2006.tif 0.588524580001831\n",
      "out/DelawareRiverBasin/Run09_13_2020/ward_sandford_20yr_chip42N-74E_o/Annual/etasw_2006.tif 0.6737701892852783\n",
      "out/DelawareRiverBasin/Run09_13_2020/ward_sandford_20yr_chip42N-76E_o/Annual/etasw_2006.tif 0.754417896270752\n",
      "out/DelawareRiverBasin/Run09_13_2020/ward_sandford_20yr_chip42N-78E_o/Annual/etasw_2006.tif 0.8431320190429688\n",
      "out/DelawareRiverBasin/Run09_13_2020/ward_sandford_20yr_chip44N-74E_o/Annual/etasw_2006.tif 0.9367489814758301\n",
      "out/DelawareRiverBasin/Run09_13_2020/ward_sandford_20yr_chip44N-76E_o/Annual/etasw_2006.tif 1.0192899703979492\n",
      "out/DelawareRiverBasin/Run09_13_2020/ward_sandford_20yr_chip44N-78E_o/Annual/etasw_2006.tif 1.0799024105072021\n",
      "<xarray.Dataset>\n",
      "Dimensions:  (x: 2886, y: 3845)\n",
      "Coordinates:\n",
      "  * x        (x) float64 -78.0 -78.0 -78.0 -77.99 ... -72.01 -72.0 -72.0 -72.0\n",
      "  * y        (y) float64 36.0 36.0 36.0 36.01 36.01 ... 43.99 44.0 44.0 44.0\n",
      "Data variables:\n",
      "    etasw_   (y, x) float64 966.4 939.9 935.6 935.6 ... 686.8 685.7 750.9 744.4\n",
      "out/DelawareRiverBasin/Run09_13_2020/ward_sandford_20yr_chip38N-74E_o/Annual/etasw_2006.tif\n",
      "enduser/DelawareRiverBasin/Run09_13_2020/ward_sandford_customer/\n",
      "OUTPUT==enduser/DelawareRiverBasin/Run09_13_2020/ward_sandford_customer/Annual/etasw_2006.tif\n"
     ]
    },
    {
     "name": "stderr",
     "output_type": "stream",
     "text": [
      "/home/jupyter-kagone/.local/lib/python3.7/site-packages/pyproj/crs/crs.py:280: FutureWarning: '+init=<authority>:<code>' syntax is deprecated. '<authority>:<code>' is the preferred initialization method. When making the change, be mindful of axis order changes: https://pyproj4.github.io/pyproj/stable/gotchas.html#axis-order-changes-in-proj-6\n",
      "  projstring = _prepare_from_string(projparams)\n",
      "2020-09-14 02:11:55,484 - Mos_mosaic - INFO - dev-et-data/out/DelawareRiverBasin/Run09_13_2020/ward_sandford_20yr_chip38N-74E_o/Annual/etasw_2007.tif, ['out/DelawareRiverBasin/Run09_13_2020/ward_sandford_20yr_chip38N-74E_o/', 'out/DelawareRiverBasin/Run09_13_2020/ward_sandford_20yr_chip38N-76E_o/', 'out/DelawareRiverBasin/Run09_13_2020/ward_sandford_20yr_chip38N-78E_o/', 'out/DelawareRiverBasin/Run09_13_2020/ward_sandford_20yr_chip40N-74E_o/', 'out/DelawareRiverBasin/Run09_13_2020/ward_sandford_20yr_chip40N-76E_o/', 'out/DelawareRiverBasin/Run09_13_2020/ward_sandford_20yr_chip40N-78E_o/', 'out/DelawareRiverBasin/Run09_13_2020/ward_sandford_20yr_chip42N-74E_o/', 'out/DelawareRiverBasin/Run09_13_2020/ward_sandford_20yr_chip42N-76E_o/', 'out/DelawareRiverBasin/Run09_13_2020/ward_sandford_20yr_chip42N-78E_o/', 'out/DelawareRiverBasin/Run09_13_2020/ward_sandford_20yr_chip44N-74E_o/', 'out/DelawareRiverBasin/Run09_13_2020/ward_sandford_20yr_chip44N-76E_o/', 'out/DelawareRiverBasin/Run09_13_2020/ward_sandford_20yr_chip44N-78E_o/']\n"
     ]
    },
    {
     "name": "stdout",
     "output_type": "stream",
     "text": [
      "['out/DelawareRiverBasin/Run09_13_2020/ward_sandford_20yr_chip38N-74E_o/Annual/etasw_2007.tif', 'out/DelawareRiverBasin/Run09_13_2020/ward_sandford_20yr_chip38N-76E_o/Annual/etasw_2007.tif', 'out/DelawareRiverBasin/Run09_13_2020/ward_sandford_20yr_chip38N-78E_o/Annual/etasw_2007.tif', 'out/DelawareRiverBasin/Run09_13_2020/ward_sandford_20yr_chip40N-74E_o/Annual/etasw_2007.tif', 'out/DelawareRiverBasin/Run09_13_2020/ward_sandford_20yr_chip40N-76E_o/Annual/etasw_2007.tif', 'out/DelawareRiverBasin/Run09_13_2020/ward_sandford_20yr_chip40N-78E_o/Annual/etasw_2007.tif', 'out/DelawareRiverBasin/Run09_13_2020/ward_sandford_20yr_chip42N-74E_o/Annual/etasw_2007.tif', 'out/DelawareRiverBasin/Run09_13_2020/ward_sandford_20yr_chip42N-76E_o/Annual/etasw_2007.tif', 'out/DelawareRiverBasin/Run09_13_2020/ward_sandford_20yr_chip42N-78E_o/Annual/etasw_2007.tif', 'out/DelawareRiverBasin/Run09_13_2020/ward_sandford_20yr_chip44N-74E_o/Annual/etasw_2007.tif', 'out/DelawareRiverBasin/Run09_13_2020/ward_sandford_20yr_chip44N-76E_o/Annual/etasw_2007.tif', 'out/DelawareRiverBasin/Run09_13_2020/ward_sandford_20yr_chip44N-78E_o/Annual/etasw_2007.tif']\n",
      "out/DelawareRiverBasin/Run09_13_2020/ward_sandford_20yr_chip38N-74E_o/Annual/etasw_2007.tif 0.10220503807067871\n",
      "out/DelawareRiverBasin/Run09_13_2020/ward_sandford_20yr_chip38N-76E_o/Annual/etasw_2007.tif 0.24304819107055664\n",
      "out/DelawareRiverBasin/Run09_13_2020/ward_sandford_20yr_chip38N-78E_o/Annual/etasw_2007.tif 0.31473612785339355\n",
      "out/DelawareRiverBasin/Run09_13_2020/ward_sandford_20yr_chip40N-74E_o/Annual/etasw_2007.tif 0.3829514980316162\n",
      "out/DelawareRiverBasin/Run09_13_2020/ward_sandford_20yr_chip40N-76E_o/Annual/etasw_2007.tif 0.47388577461242676\n",
      "out/DelawareRiverBasin/Run09_13_2020/ward_sandford_20yr_chip40N-78E_o/Annual/etasw_2007.tif 0.5525856018066406\n",
      "out/DelawareRiverBasin/Run09_13_2020/ward_sandford_20yr_chip42N-74E_o/Annual/etasw_2007.tif 0.6447031497955322\n",
      "out/DelawareRiverBasin/Run09_13_2020/ward_sandford_20yr_chip42N-76E_o/Annual/etasw_2007.tif 0.7268075942993164\n",
      "out/DelawareRiverBasin/Run09_13_2020/ward_sandford_20yr_chip42N-78E_o/Annual/etasw_2007.tif 0.7955834865570068\n",
      "out/DelawareRiverBasin/Run09_13_2020/ward_sandford_20yr_chip44N-74E_o/Annual/etasw_2007.tif 0.8969779014587402\n",
      "out/DelawareRiverBasin/Run09_13_2020/ward_sandford_20yr_chip44N-76E_o/Annual/etasw_2007.tif 0.9728786945343018\n",
      "out/DelawareRiverBasin/Run09_13_2020/ward_sandford_20yr_chip44N-78E_o/Annual/etasw_2007.tif 1.0454580783843994\n",
      "<xarray.Dataset>\n",
      "Dimensions:  (x: 2886, y: 3845)\n",
      "Coordinates:\n",
      "  * x        (x) float64 -78.0 -78.0 -78.0 -77.99 ... -72.01 -72.0 -72.0 -72.0\n",
      "  * y        (y) float64 36.0 36.0 36.0 36.01 36.01 ... 43.99 44.0 44.0 44.0\n",
      "Data variables:\n",
      "    etasw_   (y, x) float64 649.7 634.7 631.1 631.2 ... 559.6 558.4 625.6 619.5\n",
      "out/DelawareRiverBasin/Run09_13_2020/ward_sandford_20yr_chip38N-74E_o/Annual/etasw_2007.tif\n",
      "enduser/DelawareRiverBasin/Run09_13_2020/ward_sandford_customer/\n",
      "OUTPUT==enduser/DelawareRiverBasin/Run09_13_2020/ward_sandford_customer/Annual/etasw_2007.tif\n"
     ]
    },
    {
     "name": "stderr",
     "output_type": "stream",
     "text": [
      "/home/jupyter-kagone/.local/lib/python3.7/site-packages/pyproj/crs/crs.py:280: FutureWarning: '+init=<authority>:<code>' syntax is deprecated. '<authority>:<code>' is the preferred initialization method. When making the change, be mindful of axis order changes: https://pyproj4.github.io/pyproj/stable/gotchas.html#axis-order-changes-in-proj-6\n",
      "  projstring = _prepare_from_string(projparams)\n",
      "2020-09-14 02:12:07,581 - Mos_mosaic - INFO - dev-et-data/out/DelawareRiverBasin/Run09_13_2020/ward_sandford_20yr_chip38N-74E_o/Annual/etasw_2008.tif, ['out/DelawareRiverBasin/Run09_13_2020/ward_sandford_20yr_chip38N-74E_o/', 'out/DelawareRiverBasin/Run09_13_2020/ward_sandford_20yr_chip38N-76E_o/', 'out/DelawareRiverBasin/Run09_13_2020/ward_sandford_20yr_chip38N-78E_o/', 'out/DelawareRiverBasin/Run09_13_2020/ward_sandford_20yr_chip40N-74E_o/', 'out/DelawareRiverBasin/Run09_13_2020/ward_sandford_20yr_chip40N-76E_o/', 'out/DelawareRiverBasin/Run09_13_2020/ward_sandford_20yr_chip40N-78E_o/', 'out/DelawareRiverBasin/Run09_13_2020/ward_sandford_20yr_chip42N-74E_o/', 'out/DelawareRiverBasin/Run09_13_2020/ward_sandford_20yr_chip42N-76E_o/', 'out/DelawareRiverBasin/Run09_13_2020/ward_sandford_20yr_chip42N-78E_o/', 'out/DelawareRiverBasin/Run09_13_2020/ward_sandford_20yr_chip44N-74E_o/', 'out/DelawareRiverBasin/Run09_13_2020/ward_sandford_20yr_chip44N-76E_o/', 'out/DelawareRiverBasin/Run09_13_2020/ward_sandford_20yr_chip44N-78E_o/']\n"
     ]
    },
    {
     "name": "stdout",
     "output_type": "stream",
     "text": [
      "['out/DelawareRiverBasin/Run09_13_2020/ward_sandford_20yr_chip38N-74E_o/Annual/etasw_2008.tif', 'out/DelawareRiverBasin/Run09_13_2020/ward_sandford_20yr_chip38N-76E_o/Annual/etasw_2008.tif', 'out/DelawareRiverBasin/Run09_13_2020/ward_sandford_20yr_chip38N-78E_o/Annual/etasw_2008.tif', 'out/DelawareRiverBasin/Run09_13_2020/ward_sandford_20yr_chip40N-74E_o/Annual/etasw_2008.tif', 'out/DelawareRiverBasin/Run09_13_2020/ward_sandford_20yr_chip40N-76E_o/Annual/etasw_2008.tif', 'out/DelawareRiverBasin/Run09_13_2020/ward_sandford_20yr_chip40N-78E_o/Annual/etasw_2008.tif', 'out/DelawareRiverBasin/Run09_13_2020/ward_sandford_20yr_chip42N-74E_o/Annual/etasw_2008.tif', 'out/DelawareRiverBasin/Run09_13_2020/ward_sandford_20yr_chip42N-76E_o/Annual/etasw_2008.tif', 'out/DelawareRiverBasin/Run09_13_2020/ward_sandford_20yr_chip42N-78E_o/Annual/etasw_2008.tif', 'out/DelawareRiverBasin/Run09_13_2020/ward_sandford_20yr_chip44N-74E_o/Annual/etasw_2008.tif', 'out/DelawareRiverBasin/Run09_13_2020/ward_sandford_20yr_chip44N-76E_o/Annual/etasw_2008.tif', 'out/DelawareRiverBasin/Run09_13_2020/ward_sandford_20yr_chip44N-78E_o/Annual/etasw_2008.tif']\n",
      "out/DelawareRiverBasin/Run09_13_2020/ward_sandford_20yr_chip38N-74E_o/Annual/etasw_2008.tif 0.09993410110473633\n",
      "out/DelawareRiverBasin/Run09_13_2020/ward_sandford_20yr_chip38N-76E_o/Annual/etasw_2008.tif 0.18454980850219727\n",
      "out/DelawareRiverBasin/Run09_13_2020/ward_sandford_20yr_chip38N-78E_o/Annual/etasw_2008.tif 0.2507779598236084\n",
      "out/DelawareRiverBasin/Run09_13_2020/ward_sandford_20yr_chip40N-74E_o/Annual/etasw_2008.tif 0.32171201705932617\n",
      "out/DelawareRiverBasin/Run09_13_2020/ward_sandford_20yr_chip40N-76E_o/Annual/etasw_2008.tif 0.3961062431335449\n",
      "out/DelawareRiverBasin/Run09_13_2020/ward_sandford_20yr_chip40N-78E_o/Annual/etasw_2008.tif 0.4762864112854004\n",
      "out/DelawareRiverBasin/Run09_13_2020/ward_sandford_20yr_chip42N-74E_o/Annual/etasw_2008.tif 0.5636417865753174\n",
      "out/DelawareRiverBasin/Run09_13_2020/ward_sandford_20yr_chip42N-76E_o/Annual/etasw_2008.tif 0.6593084335327148\n",
      "out/DelawareRiverBasin/Run09_13_2020/ward_sandford_20yr_chip42N-78E_o/Annual/etasw_2008.tif 0.7433209419250488\n",
      "out/DelawareRiverBasin/Run09_13_2020/ward_sandford_20yr_chip44N-74E_o/Annual/etasw_2008.tif 0.8227229118347168\n",
      "out/DelawareRiverBasin/Run09_13_2020/ward_sandford_20yr_chip44N-76E_o/Annual/etasw_2008.tif 0.8992838859558105\n",
      "out/DelawareRiverBasin/Run09_13_2020/ward_sandford_20yr_chip44N-78E_o/Annual/etasw_2008.tif 0.9852488040924072\n",
      "<xarray.Dataset>\n",
      "Dimensions:  (x: 2886, y: 3845)\n",
      "Coordinates:\n",
      "  * x        (x) float64 -78.0 -78.0 -78.0 -77.99 ... -72.01 -72.0 -72.0 -72.0\n",
      "  * y        (y) float64 36.0 36.0 36.0 36.01 36.01 ... 43.99 44.0 44.0 44.0\n",
      "Data variables:\n",
      "    etasw_   (y, x) float64 877.9 861.6 855.4 855.2 ... 610.0 608.8 687.4 680.8\n",
      "out/DelawareRiverBasin/Run09_13_2020/ward_sandford_20yr_chip38N-74E_o/Annual/etasw_2008.tif\n",
      "enduser/DelawareRiverBasin/Run09_13_2020/ward_sandford_customer/\n",
      "OUTPUT==enduser/DelawareRiverBasin/Run09_13_2020/ward_sandford_customer/Annual/etasw_2008.tif\n"
     ]
    },
    {
     "name": "stderr",
     "output_type": "stream",
     "text": [
      "/home/jupyter-kagone/.local/lib/python3.7/site-packages/pyproj/crs/crs.py:280: FutureWarning: '+init=<authority>:<code>' syntax is deprecated. '<authority>:<code>' is the preferred initialization method. When making the change, be mindful of axis order changes: https://pyproj4.github.io/pyproj/stable/gotchas.html#axis-order-changes-in-proj-6\n",
      "  projstring = _prepare_from_string(projparams)\n",
      "2020-09-14 02:12:19,676 - Mos_mosaic - INFO - dev-et-data/out/DelawareRiverBasin/Run09_13_2020/ward_sandford_20yr_chip38N-74E_o/Annual/etasw_2009.tif, ['out/DelawareRiverBasin/Run09_13_2020/ward_sandford_20yr_chip38N-74E_o/', 'out/DelawareRiverBasin/Run09_13_2020/ward_sandford_20yr_chip38N-76E_o/', 'out/DelawareRiverBasin/Run09_13_2020/ward_sandford_20yr_chip38N-78E_o/', 'out/DelawareRiverBasin/Run09_13_2020/ward_sandford_20yr_chip40N-74E_o/', 'out/DelawareRiverBasin/Run09_13_2020/ward_sandford_20yr_chip40N-76E_o/', 'out/DelawareRiverBasin/Run09_13_2020/ward_sandford_20yr_chip40N-78E_o/', 'out/DelawareRiverBasin/Run09_13_2020/ward_sandford_20yr_chip42N-74E_o/', 'out/DelawareRiverBasin/Run09_13_2020/ward_sandford_20yr_chip42N-76E_o/', 'out/DelawareRiverBasin/Run09_13_2020/ward_sandford_20yr_chip42N-78E_o/', 'out/DelawareRiverBasin/Run09_13_2020/ward_sandford_20yr_chip44N-74E_o/', 'out/DelawareRiverBasin/Run09_13_2020/ward_sandford_20yr_chip44N-76E_o/', 'out/DelawareRiverBasin/Run09_13_2020/ward_sandford_20yr_chip44N-78E_o/']\n"
     ]
    },
    {
     "name": "stdout",
     "output_type": "stream",
     "text": [
      "['out/DelawareRiverBasin/Run09_13_2020/ward_sandford_20yr_chip38N-74E_o/Annual/etasw_2009.tif', 'out/DelawareRiverBasin/Run09_13_2020/ward_sandford_20yr_chip38N-76E_o/Annual/etasw_2009.tif', 'out/DelawareRiverBasin/Run09_13_2020/ward_sandford_20yr_chip38N-78E_o/Annual/etasw_2009.tif', 'out/DelawareRiverBasin/Run09_13_2020/ward_sandford_20yr_chip40N-74E_o/Annual/etasw_2009.tif', 'out/DelawareRiverBasin/Run09_13_2020/ward_sandford_20yr_chip40N-76E_o/Annual/etasw_2009.tif', 'out/DelawareRiverBasin/Run09_13_2020/ward_sandford_20yr_chip40N-78E_o/Annual/etasw_2009.tif', 'out/DelawareRiverBasin/Run09_13_2020/ward_sandford_20yr_chip42N-74E_o/Annual/etasw_2009.tif', 'out/DelawareRiverBasin/Run09_13_2020/ward_sandford_20yr_chip42N-76E_o/Annual/etasw_2009.tif', 'out/DelawareRiverBasin/Run09_13_2020/ward_sandford_20yr_chip42N-78E_o/Annual/etasw_2009.tif', 'out/DelawareRiverBasin/Run09_13_2020/ward_sandford_20yr_chip44N-74E_o/Annual/etasw_2009.tif', 'out/DelawareRiverBasin/Run09_13_2020/ward_sandford_20yr_chip44N-76E_o/Annual/etasw_2009.tif', 'out/DelawareRiverBasin/Run09_13_2020/ward_sandford_20yr_chip44N-78E_o/Annual/etasw_2009.tif']\n",
      "out/DelawareRiverBasin/Run09_13_2020/ward_sandford_20yr_chip38N-74E_o/Annual/etasw_2009.tif 0.09962606430053711\n",
      "out/DelawareRiverBasin/Run09_13_2020/ward_sandford_20yr_chip38N-76E_o/Annual/etasw_2009.tif 0.18736743927001953\n",
      "out/DelawareRiverBasin/Run09_13_2020/ward_sandford_20yr_chip38N-78E_o/Annual/etasw_2009.tif 0.2640714645385742\n",
      "out/DelawareRiverBasin/Run09_13_2020/ward_sandford_20yr_chip40N-74E_o/Annual/etasw_2009.tif 0.3672525882720947\n",
      "out/DelawareRiverBasin/Run09_13_2020/ward_sandford_20yr_chip40N-76E_o/Annual/etasw_2009.tif 0.4502730369567871\n",
      "out/DelawareRiverBasin/Run09_13_2020/ward_sandford_20yr_chip40N-78E_o/Annual/etasw_2009.tif 0.5635247230529785\n",
      "out/DelawareRiverBasin/Run09_13_2020/ward_sandford_20yr_chip42N-74E_o/Annual/etasw_2009.tif 0.675670862197876\n",
      "out/DelawareRiverBasin/Run09_13_2020/ward_sandford_20yr_chip42N-76E_o/Annual/etasw_2009.tif 0.764157772064209\n",
      "out/DelawareRiverBasin/Run09_13_2020/ward_sandford_20yr_chip42N-78E_o/Annual/etasw_2009.tif 0.8431918621063232\n",
      "out/DelawareRiverBasin/Run09_13_2020/ward_sandford_20yr_chip44N-74E_o/Annual/etasw_2009.tif 0.9411861896514893\n",
      "out/DelawareRiverBasin/Run09_13_2020/ward_sandford_20yr_chip44N-76E_o/Annual/etasw_2009.tif 1.0244224071502686\n",
      "out/DelawareRiverBasin/Run09_13_2020/ward_sandford_20yr_chip44N-78E_o/Annual/etasw_2009.tif 1.092911720275879\n",
      "<xarray.Dataset>\n",
      "Dimensions:  (x: 2886, y: 3845)\n",
      "Coordinates:\n",
      "  * x        (x) float64 -78.0 -78.0 -78.0 -77.99 ... -72.01 -72.0 -72.0 -72.0\n",
      "  * y        (y) float64 36.0 36.0 36.0 36.01 36.01 ... 43.99 44.0 44.0 44.0\n",
      "Data variables:\n",
      "    etasw_   (y, x) float64 754.2 740.4 732.9 733.1 ... 623.4 622.3 684.8 677.6\n",
      "out/DelawareRiverBasin/Run09_13_2020/ward_sandford_20yr_chip38N-74E_o/Annual/etasw_2009.tif\n",
      "enduser/DelawareRiverBasin/Run09_13_2020/ward_sandford_customer/\n",
      "OUTPUT==enduser/DelawareRiverBasin/Run09_13_2020/ward_sandford_customer/Annual/etasw_2009.tif\n"
     ]
    },
    {
     "name": "stderr",
     "output_type": "stream",
     "text": [
      "/home/jupyter-kagone/.local/lib/python3.7/site-packages/pyproj/crs/crs.py:280: FutureWarning: '+init=<authority>:<code>' syntax is deprecated. '<authority>:<code>' is the preferred initialization method. When making the change, be mindful of axis order changes: https://pyproj4.github.io/pyproj/stable/gotchas.html#axis-order-changes-in-proj-6\n",
      "  projstring = _prepare_from_string(projparams)\n",
      "2020-09-14 02:12:32,807 - Mos_mosaic - INFO - dev-et-data/out/DelawareRiverBasin/Run09_13_2020/ward_sandford_20yr_chip38N-74E_o/Annual/etasw_2010.tif, ['out/DelawareRiverBasin/Run09_13_2020/ward_sandford_20yr_chip38N-74E_o/', 'out/DelawareRiverBasin/Run09_13_2020/ward_sandford_20yr_chip38N-76E_o/', 'out/DelawareRiverBasin/Run09_13_2020/ward_sandford_20yr_chip38N-78E_o/', 'out/DelawareRiverBasin/Run09_13_2020/ward_sandford_20yr_chip40N-74E_o/', 'out/DelawareRiverBasin/Run09_13_2020/ward_sandford_20yr_chip40N-76E_o/', 'out/DelawareRiverBasin/Run09_13_2020/ward_sandford_20yr_chip40N-78E_o/', 'out/DelawareRiverBasin/Run09_13_2020/ward_sandford_20yr_chip42N-74E_o/', 'out/DelawareRiverBasin/Run09_13_2020/ward_sandford_20yr_chip42N-76E_o/', 'out/DelawareRiverBasin/Run09_13_2020/ward_sandford_20yr_chip42N-78E_o/', 'out/DelawareRiverBasin/Run09_13_2020/ward_sandford_20yr_chip44N-74E_o/', 'out/DelawareRiverBasin/Run09_13_2020/ward_sandford_20yr_chip44N-76E_o/', 'out/DelawareRiverBasin/Run09_13_2020/ward_sandford_20yr_chip44N-78E_o/']\n"
     ]
    },
    {
     "name": "stdout",
     "output_type": "stream",
     "text": [
      "['out/DelawareRiverBasin/Run09_13_2020/ward_sandford_20yr_chip38N-74E_o/Annual/etasw_2010.tif', 'out/DelawareRiverBasin/Run09_13_2020/ward_sandford_20yr_chip38N-76E_o/Annual/etasw_2010.tif', 'out/DelawareRiverBasin/Run09_13_2020/ward_sandford_20yr_chip38N-78E_o/Annual/etasw_2010.tif', 'out/DelawareRiverBasin/Run09_13_2020/ward_sandford_20yr_chip40N-74E_o/Annual/etasw_2010.tif', 'out/DelawareRiverBasin/Run09_13_2020/ward_sandford_20yr_chip40N-76E_o/Annual/etasw_2010.tif', 'out/DelawareRiverBasin/Run09_13_2020/ward_sandford_20yr_chip40N-78E_o/Annual/etasw_2010.tif', 'out/DelawareRiverBasin/Run09_13_2020/ward_sandford_20yr_chip42N-74E_o/Annual/etasw_2010.tif', 'out/DelawareRiverBasin/Run09_13_2020/ward_sandford_20yr_chip42N-76E_o/Annual/etasw_2010.tif', 'out/DelawareRiverBasin/Run09_13_2020/ward_sandford_20yr_chip42N-78E_o/Annual/etasw_2010.tif', 'out/DelawareRiverBasin/Run09_13_2020/ward_sandford_20yr_chip44N-74E_o/Annual/etasw_2010.tif', 'out/DelawareRiverBasin/Run09_13_2020/ward_sandford_20yr_chip44N-76E_o/Annual/etasw_2010.tif', 'out/DelawareRiverBasin/Run09_13_2020/ward_sandford_20yr_chip44N-78E_o/Annual/etasw_2010.tif']\n",
      "out/DelawareRiverBasin/Run09_13_2020/ward_sandford_20yr_chip38N-74E_o/Annual/etasw_2010.tif 0.12397885322570801\n",
      "out/DelawareRiverBasin/Run09_13_2020/ward_sandford_20yr_chip38N-76E_o/Annual/etasw_2010.tif 0.23282957077026367\n",
      "out/DelawareRiverBasin/Run09_13_2020/ward_sandford_20yr_chip38N-78E_o/Annual/etasw_2010.tif 0.3333592414855957\n",
      "out/DelawareRiverBasin/Run09_13_2020/ward_sandford_20yr_chip40N-74E_o/Annual/etasw_2010.tif 0.4181687831878662\n",
      "out/DelawareRiverBasin/Run09_13_2020/ward_sandford_20yr_chip40N-76E_o/Annual/etasw_2010.tif 0.49302053451538086\n",
      "out/DelawareRiverBasin/Run09_13_2020/ward_sandford_20yr_chip40N-78E_o/Annual/etasw_2010.tif 0.5916073322296143\n",
      "out/DelawareRiverBasin/Run09_13_2020/ward_sandford_20yr_chip42N-74E_o/Annual/etasw_2010.tif 0.667489767074585\n",
      "out/DelawareRiverBasin/Run09_13_2020/ward_sandford_20yr_chip42N-76E_o/Annual/etasw_2010.tif 0.7774448394775391\n",
      "out/DelawareRiverBasin/Run09_13_2020/ward_sandford_20yr_chip42N-78E_o/Annual/etasw_2010.tif 0.9250991344451904\n",
      "out/DelawareRiverBasin/Run09_13_2020/ward_sandford_20yr_chip44N-74E_o/Annual/etasw_2010.tif 1.019709825515747\n",
      "out/DelawareRiverBasin/Run09_13_2020/ward_sandford_20yr_chip44N-76E_o/Annual/etasw_2010.tif 1.1050693988800049\n",
      "out/DelawareRiverBasin/Run09_13_2020/ward_sandford_20yr_chip44N-78E_o/Annual/etasw_2010.tif 1.1972639560699463\n",
      "<xarray.Dataset>\n",
      "Dimensions:  (x: 2886, y: 3845)\n",
      "Coordinates:\n",
      "  * x        (x) float64 -78.0 -78.0 -78.0 -77.99 ... -72.01 -72.0 -72.0 -72.0\n",
      "  * y        (y) float64 36.0 36.0 36.0 36.01 36.01 ... 43.99 44.0 44.0 44.0\n",
      "Data variables:\n",
      "    etasw_   (y, x) float64 782.4 753.4 739.3 739.6 ... 587.9 586.8 658.5 652.0\n",
      "out/DelawareRiverBasin/Run09_13_2020/ward_sandford_20yr_chip38N-74E_o/Annual/etasw_2010.tif\n",
      "enduser/DelawareRiverBasin/Run09_13_2020/ward_sandford_customer/\n",
      "OUTPUT==enduser/DelawareRiverBasin/Run09_13_2020/ward_sandford_customer/Annual/etasw_2010.tif\n"
     ]
    },
    {
     "name": "stderr",
     "output_type": "stream",
     "text": [
      "/home/jupyter-kagone/.local/lib/python3.7/site-packages/pyproj/crs/crs.py:280: FutureWarning: '+init=<authority>:<code>' syntax is deprecated. '<authority>:<code>' is the preferred initialization method. When making the change, be mindful of axis order changes: https://pyproj4.github.io/pyproj/stable/gotchas.html#axis-order-changes-in-proj-6\n",
      "  projstring = _prepare_from_string(projparams)\n",
      "2020-09-14 02:12:44,668 - Mos_mosaic - INFO - dev-et-data/out/DelawareRiverBasin/Run09_13_2020/ward_sandford_20yr_chip38N-74E_o/Annual/etasw_2011.tif, ['out/DelawareRiverBasin/Run09_13_2020/ward_sandford_20yr_chip38N-74E_o/', 'out/DelawareRiverBasin/Run09_13_2020/ward_sandford_20yr_chip38N-76E_o/', 'out/DelawareRiverBasin/Run09_13_2020/ward_sandford_20yr_chip38N-78E_o/', 'out/DelawareRiverBasin/Run09_13_2020/ward_sandford_20yr_chip40N-74E_o/', 'out/DelawareRiverBasin/Run09_13_2020/ward_sandford_20yr_chip40N-76E_o/', 'out/DelawareRiverBasin/Run09_13_2020/ward_sandford_20yr_chip40N-78E_o/', 'out/DelawareRiverBasin/Run09_13_2020/ward_sandford_20yr_chip42N-74E_o/', 'out/DelawareRiverBasin/Run09_13_2020/ward_sandford_20yr_chip42N-76E_o/', 'out/DelawareRiverBasin/Run09_13_2020/ward_sandford_20yr_chip42N-78E_o/', 'out/DelawareRiverBasin/Run09_13_2020/ward_sandford_20yr_chip44N-74E_o/', 'out/DelawareRiverBasin/Run09_13_2020/ward_sandford_20yr_chip44N-76E_o/', 'out/DelawareRiverBasin/Run09_13_2020/ward_sandford_20yr_chip44N-78E_o/']\n"
     ]
    },
    {
     "name": "stdout",
     "output_type": "stream",
     "text": [
      "['out/DelawareRiverBasin/Run09_13_2020/ward_sandford_20yr_chip38N-74E_o/Annual/etasw_2011.tif', 'out/DelawareRiverBasin/Run09_13_2020/ward_sandford_20yr_chip38N-76E_o/Annual/etasw_2011.tif', 'out/DelawareRiverBasin/Run09_13_2020/ward_sandford_20yr_chip38N-78E_o/Annual/etasw_2011.tif', 'out/DelawareRiverBasin/Run09_13_2020/ward_sandford_20yr_chip40N-74E_o/Annual/etasw_2011.tif', 'out/DelawareRiverBasin/Run09_13_2020/ward_sandford_20yr_chip40N-76E_o/Annual/etasw_2011.tif', 'out/DelawareRiverBasin/Run09_13_2020/ward_sandford_20yr_chip40N-78E_o/Annual/etasw_2011.tif', 'out/DelawareRiverBasin/Run09_13_2020/ward_sandford_20yr_chip42N-74E_o/Annual/etasw_2011.tif', 'out/DelawareRiverBasin/Run09_13_2020/ward_sandford_20yr_chip42N-76E_o/Annual/etasw_2011.tif', 'out/DelawareRiverBasin/Run09_13_2020/ward_sandford_20yr_chip42N-78E_o/Annual/etasw_2011.tif', 'out/DelawareRiverBasin/Run09_13_2020/ward_sandford_20yr_chip44N-74E_o/Annual/etasw_2011.tif', 'out/DelawareRiverBasin/Run09_13_2020/ward_sandford_20yr_chip44N-76E_o/Annual/etasw_2011.tif', 'out/DelawareRiverBasin/Run09_13_2020/ward_sandford_20yr_chip44N-78E_o/Annual/etasw_2011.tif']\n",
      "out/DelawareRiverBasin/Run09_13_2020/ward_sandford_20yr_chip38N-74E_o/Annual/etasw_2011.tif 0.12864995002746582\n",
      "out/DelawareRiverBasin/Run09_13_2020/ward_sandford_20yr_chip38N-76E_o/Annual/etasw_2011.tif 0.22266340255737305\n",
      "out/DelawareRiverBasin/Run09_13_2020/ward_sandford_20yr_chip38N-78E_o/Annual/etasw_2011.tif 0.3225891590118408\n",
      "out/DelawareRiverBasin/Run09_13_2020/ward_sandford_20yr_chip40N-74E_o/Annual/etasw_2011.tif 0.4090287685394287\n",
      "out/DelawareRiverBasin/Run09_13_2020/ward_sandford_20yr_chip40N-76E_o/Annual/etasw_2011.tif 0.4834461212158203\n",
      "out/DelawareRiverBasin/Run09_13_2020/ward_sandford_20yr_chip40N-78E_o/Annual/etasw_2011.tif 0.5502743721008301\n",
      "out/DelawareRiverBasin/Run09_13_2020/ward_sandford_20yr_chip42N-74E_o/Annual/etasw_2011.tif 0.6515097618103027\n",
      "out/DelawareRiverBasin/Run09_13_2020/ward_sandford_20yr_chip42N-76E_o/Annual/etasw_2011.tif 0.7582964897155762\n",
      "out/DelawareRiverBasin/Run09_13_2020/ward_sandford_20yr_chip42N-78E_o/Annual/etasw_2011.tif 0.8669099807739258\n",
      "out/DelawareRiverBasin/Run09_13_2020/ward_sandford_20yr_chip44N-74E_o/Annual/etasw_2011.tif 0.9650142192840576\n",
      "out/DelawareRiverBasin/Run09_13_2020/ward_sandford_20yr_chip44N-76E_o/Annual/etasw_2011.tif 1.0631606578826904\n",
      "out/DelawareRiverBasin/Run09_13_2020/ward_sandford_20yr_chip44N-78E_o/Annual/etasw_2011.tif 1.1893818378448486\n",
      "<xarray.Dataset>\n",
      "Dimensions:  (x: 2886, y: 3845)\n",
      "Coordinates:\n",
      "  * x        (x) float64 -78.0 -78.0 -78.0 -77.99 ... -72.01 -72.0 -72.0 -72.0\n",
      "  * y        (y) float64 36.0 36.0 36.0 36.01 36.01 ... 43.99 44.0 44.0 44.0\n",
      "Data variables:\n",
      "    etasw_   (y, x) float64 855.1 840.1 831.9 831.4 ... 630.6 629.5 707.6 703.2\n",
      "out/DelawareRiverBasin/Run09_13_2020/ward_sandford_20yr_chip38N-74E_o/Annual/etasw_2011.tif\n",
      "enduser/DelawareRiverBasin/Run09_13_2020/ward_sandford_customer/\n",
      "OUTPUT==enduser/DelawareRiverBasin/Run09_13_2020/ward_sandford_customer/Annual/etasw_2011.tif\n"
     ]
    },
    {
     "name": "stderr",
     "output_type": "stream",
     "text": [
      "/home/jupyter-kagone/.local/lib/python3.7/site-packages/pyproj/crs/crs.py:280: FutureWarning: '+init=<authority>:<code>' syntax is deprecated. '<authority>:<code>' is the preferred initialization method. When making the change, be mindful of axis order changes: https://pyproj4.github.io/pyproj/stable/gotchas.html#axis-order-changes-in-proj-6\n",
      "  projstring = _prepare_from_string(projparams)\n"
     ]
    }
   ],
   "source": [
    "mos.run_mosaic()"
   ]
  },
  {
   "cell_type": "code",
   "execution_count": 5,
   "metadata": {},
   "outputs": [
    {
     "name": "stdout",
     "output_type": "stream",
     "text": [
      "total 148744\r\n",
      "-rw-r--r-- 1 jupyter-kagone jupyter-kagone  3184541 Sep 13 21:32  00-mosaic-prototype-code-xarray-merge-tiles-to-bigger.ipynb\r\n",
      "-rw-r--r-- 1 jupyter-kagone jupyter-kagone     1035 Sep 11 20:14  00-notes.ipynb\r\n",
      "-rw-r--r-- 1 jupyter-kagone jupyter-kagone    62495 Sep 14 02:12  10-WIP-log-mosaic-test-build-library-one-routine-at-time-WIP-WIP-WIP.ipynb\r\n",
      "-rw-r--r-- 1 jupyter-kagone jupyter-kagone   108517 Sep 13 22:29  10-log-mosaic-test-build-library-one-routine-at-time.ipynb\r\n",
      "-rw-r--r-- 1 jupyter-kagone jupyter-kagone    52291 Sep 11 19:41 'Visualize geoTIFF.ipynb'\r\n",
      "-rw-r--r-- 1 jupyter-kagone jupyter-kagone      178 Sep 14 02:12  b_cog.tif.aux.xml\r\n",
      "-rw-r--r-- 1 jupyter-kagone jupyter-kagone 59741327 Sep 13 22:45  cog_annual_etasw_.tif\r\n",
      "-rw-r--r-- 1 jupyter-kagone jupyter-kagone      177 Sep 13 22:45  cog_annual_etasw_.tif.aux.xml\r\n",
      "drwxr-xr-x 2 jupyter-kagone jupyter-kagone     4096 Sep 13 21:06  log\r\n",
      "-rw-r--r-- 1 jupyter-kagone jupyter-kagone   321283 Sep 13 22:48  simple_tif_to_xarray_masked_and_plotted_mic_drop.ipynb\r\n",
      "-rw-r--r-- 1 jupyter-kagone jupyter-kagone 88804656 Sep 13 22:27  tony2006.tif\r\n"
     ]
    }
   ],
   "source": [
    "!ls -l"
   ]
  },
  {
   "cell_type": "code",
   "execution_count": 6,
   "metadata": {},
   "outputs": [
    {
     "name": "stdout",
     "output_type": "stream",
     "text": [
      "                           PRE /\r\n",
      "                           PRE NA_data_for_cloud/\r\n",
      "                           PRE NDVI_filled/\r\n",
      "                           PRE cache/\r\n",
      "                           PRE dev-et-data/\r\n",
      "                           PRE enduser/\r\n",
      "                           PRE greg/\r\n",
      "                           PRE in/\r\n",
      "                           PRE incoming/\r\n",
      "                           PRE out/\r\n",
      "                           PRE raw/\r\n",
      "                           PRE temp/\r\n",
      "                           PRE zarr/\r\n",
      "2020-05-05 23:59:59         62 Readme-bucket.md\r\n",
      "2020-09-02 22:08:37     267506 run.log\r\n",
      "2020-05-05 23:50:00         13 tony.txt\r\n"
     ]
    }
   ],
   "source": [
    "! aws s3 ls dev-et-data/"
   ]
  },
  {
   "cell_type": "code",
   "execution_count": 7,
   "metadata": {},
   "outputs": [
    {
     "name": "stdout",
     "output_type": "stream",
     "text": [
      "<PAMDataset>\r\n",
      "  <PAMRasterBand band=\"1\">\r\n",
      "    <Description>etasw_</Description>\r\n",
      "    <NoDataValue le_hex_equiv=\"000000000000F87F\">nan</NoDataValue>\r\n",
      "  </PAMRasterBand>\r\n",
      "</PAMDataset>\r\n"
     ]
    }
   ],
   "source": [
    "! cat b_cog.tif.aux.xml"
   ]
  },
  {
   "cell_type": "code",
   "execution_count": 8,
   "metadata": {},
   "outputs": [
    {
     "name": "stdout",
     "output_type": "stream",
     "text": [
      "2020-09-14 02:10:33   60088978 etasw_1999.tif\r\n",
      "2020-09-14 02:10:45   59870100 etasw_2000.tif\r\n",
      "2020-09-14 02:10:57   59814768 etasw_2001.tif\r\n",
      "2020-09-14 02:11:08   59577303 etasw_2002.tif\r\n",
      "2020-09-14 02:11:20   59668590 etasw_2003.tif\r\n",
      "2020-09-14 02:11:31   59715524 etasw_2004.tif\r\n",
      "2020-09-14 02:11:43   59870795 etasw_2005.tif\r\n",
      "2020-09-14 02:11:54   59731610 etasw_2006.tif\r\n",
      "2020-09-14 02:12:06   59741375 etasw_2007.tif\r\n",
      "2020-09-14 02:12:19   59728499 etasw_2008.tif\r\n",
      "2020-09-14 02:12:31   59822634 etasw_2009.tif\r\n",
      "2020-09-14 02:12:44   59945614 etasw_2010.tif\r\n",
      "2020-09-14 02:12:56   59723515 etasw_2011.tif\r\n"
     ]
    }
   ],
   "source": [
    "! aws s3 ls s3://dev-et-data/enduser/DelawareRiverBasin/Run09_13_2020/ward_sandford_customer/Annual/"
   ]
  },
  {
   "cell_type": "code",
   "execution_count": 9,
   "metadata": {},
   "outputs": [
    {
     "name": "stdout",
     "output_type": "stream",
     "text": [
      "{\"blockxsize\": 512, \"blockysize\": 512, \"bounds\": [-78.00085750968124, 35.998921986074585, -71.99865901392728, 44.00046632391505], \"colorinterp\": [\"gray\"], \"compress\": \"deflate\", \"count\": 1, \"crs\": \"EPSG:4326\", \"descriptions\": [\"etasw_\"], \"driver\": \"GTiff\", \"dtype\": \"float64\", \"height\": 3846, \"indexes\": [1], \"interleave\": \"band\", \"lnglat\": [-74.99975826180426, 39.99969415499481], \"mask_flags\": [[\"nodata\"]], \"nodata\": NaN, \"res\": [0.00208048474722841, 0.00208048474722841], \"shape\": [3846, 2885], \"tiled\": true, \"transform\": [0.00208048474722841, 0.0, -78.00085750968124, 0.0, -0.00208048474722841, 44.00046632391505, 0.0, 0.0, 1.0], \"units\": [null], \"width\": 2885}\r\n"
     ]
    }
   ],
   "source": [
    "! rio info s3://dev-et-data/enduser/DelawareRiverBasin/Run09_13_2020/ward_sandford_customer/Annual/etasw_1999.tif"
   ]
  },
  {
   "cell_type": "code",
   "execution_count": null,
   "metadata": {},
   "outputs": [],
   "source": []
  }
 ],
 "metadata": {
  "kernelspec": {
   "display_name": "Python 3",
   "language": "python",
   "name": "python3"
  },
  "language_info": {
   "codemirror_mode": {
    "name": "ipython",
    "version": 3
   },
   "file_extension": ".py",
   "mimetype": "text/x-python",
   "name": "python",
   "nbconvert_exporter": "python",
   "pygments_lexer": "ipython3",
   "version": "3.7.3"
  }
 },
 "nbformat": 4,
 "nbformat_minor": 4
}
