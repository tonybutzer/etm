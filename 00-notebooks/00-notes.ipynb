{
 "cells": [
  {
   "cell_type": "markdown",
   "metadata": {},
   "source": [
    "# Reference \n",
    "\n",
    "- https://github.com/tonybutzer/pangeo-et/blob/f56b347835bb1ed83bbf59c99dc517bb0cdf5fc5/00-notebooks/00-ET-inputs-and-outputs/00-visualize-etasw-annual-outputs.ipynb\n",
    "\n",
    "\n",
    "- https://github.com/tonybutzer/pangeo-et/blob/2a887d763aa1c5ecb7e5431238b0db885589c5c0/00-notebooks/20-index-intersections-geopandas-first/00-geopandas-within-test.ipynb"
   ]
  },
  {
   "cell_type": "code",
   "execution_count": null,
   "metadata": {},
   "outputs": [],
   "source": []
  }
 ],
 "metadata": {
  "kernelspec": {
   "display_name": "Python 3",
   "language": "python",
   "name": "python3"
  },
  "language_info": {
   "codemirror_mode": {
    "name": "ipython",
    "version": 3
   },
   "file_extension": ".py",
   "mimetype": "text/x-python",
   "name": "python",
   "nbconvert_exporter": "python",
   "pygments_lexer": "ipython3",
   "version": "3.7.3"
  }
 },
 "nbformat": 4,
 "nbformat_minor": 4
}
