{
 "cells": [
  {
   "cell_type": "code",
   "execution_count": 8,
   "metadata": {},
   "outputs": [],
   "source": [
    "from etmLib.mos_mosaic_class import Mos_mosaic"
   ]
  },
  {
   "cell_type": "code",
   "execution_count": 9,
   "metadata": {},
   "outputs": [
    {
     "name": "stderr",
     "output_type": "stream",
     "text": [
      "2020-09-13 23:31:11,101 - Mos_mosaic - INFO - Logging Begins\n",
      "2020-09-13 23:31:11,102 - Mos_mosaic - INFO - dev-et-data out/DelawareRiverBasin/Run09_13_2020/ , ['etasw', 'dd']\n"
     ]
    },
    {
     "name": "stdout",
     "output_type": "stream",
     "text": [
      "hello from Mos_mosaic class\n"
     ]
    }
   ],
   "source": [
    "bucket = 'dev-et-data'\n",
    "prefix_path = 'out/DelawareRiverBasin/Run09_13_2020/'\n",
    "year = 'Annual'\n",
    "products = ['etasw', 'dd']\n",
    "out_prefix_path = ' enduser/DelawareRiverBasin/Run09_13_2020/ward_sandford_customer'\n",
    "\n",
    "mos = Mos_mosaic(bucket, prefix_path, year, out_prefix_path, products)"
   ]
  },
  {
   "cell_type": "code",
   "execution_count": 10,
   "metadata": {},
   "outputs": [],
   "source": [
    "#!mkdir -p ./log"
   ]
  },
  {
   "cell_type": "code",
   "execution_count": 11,
   "metadata": {},
   "outputs": [
    {
     "name": "stderr",
     "output_type": "stream",
     "text": [
      "2020-09-13 23:31:13,076 - Mos_mosaic - INFO - run_mosaic\n",
      "2020-09-13 23:31:13,077 - Mos_mosaic - INFO - Mosaic this product: etasw\n",
      "2020-09-13 23:31:13,078 - Mos_mosaic - INFO - Mosaic this product: dd\n",
      "2020-09-13 23:31:13,080 - Mos_mosaic - INFO - out/DelawareRiverBasin/Run09_13_2020/\n",
      "2020-09-13 23:31:13,356 - Mos_mosaic - INFO - target year is Annual\n",
      "2020-09-13 23:31:13,356 - Mos_mosaic - INFO - sub is out/DelawareRiverBasin/Run09_13_2020/ward_sandford_20yr_chip38N-74E_o/Annual/\n"
     ]
    },
    {
     "name": "stdout",
     "output_type": "stream",
     "text": [
      "out/DelawareRiverBasin/Run09_13_2020/ward_sandford_20yr_chip38N-74E_o/\n",
      "out/DelawareRiverBasin/Run09_13_2020/ward_sandford_20yr_chip38N-76E_o/\n",
      "out/DelawareRiverBasin/Run09_13_2020/ward_sandford_20yr_chip38N-78E_o/\n",
      "out/DelawareRiverBasin/Run09_13_2020/ward_sandford_20yr_chip40N-74E_o/\n",
      "out/DelawareRiverBasin/Run09_13_2020/ward_sandford_20yr_chip40N-76E_o/\n",
      "out/DelawareRiverBasin/Run09_13_2020/ward_sandford_20yr_chip40N-78E_o/\n",
      "out/DelawareRiverBasin/Run09_13_2020/ward_sandford_20yr_chip42N-74E_o/\n",
      "out/DelawareRiverBasin/Run09_13_2020/ward_sandford_20yr_chip42N-76E_o/\n",
      "out/DelawareRiverBasin/Run09_13_2020/ward_sandford_20yr_chip42N-78E_o/\n",
      "out/DelawareRiverBasin/Run09_13_2020/ward_sandford_20yr_chip44N-74E_o/\n",
      "out/DelawareRiverBasin/Run09_13_2020/ward_sandford_20yr_chip44N-76E_o/\n",
      "out/DelawareRiverBasin/Run09_13_2020/ward_sandford_20yr_chip44N-78E_o/\n",
      "out/DelawareRiverBasin/Run09_13_2020/ward_sandford_20yr_chip38N-74E_o/1999/\n",
      "out/DelawareRiverBasin/Run09_13_2020/ward_sandford_20yr_chip38N-74E_o/2000/\n",
      "out/DelawareRiverBasin/Run09_13_2020/ward_sandford_20yr_chip38N-74E_o/2001/\n",
      "out/DelawareRiverBasin/Run09_13_2020/ward_sandford_20yr_chip38N-74E_o/2002/\n",
      "out/DelawareRiverBasin/Run09_13_2020/ward_sandford_20yr_chip38N-74E_o/2003/\n",
      "out/DelawareRiverBasin/Run09_13_2020/ward_sandford_20yr_chip38N-74E_o/2004/\n",
      "out/DelawareRiverBasin/Run09_13_2020/ward_sandford_20yr_chip38N-74E_o/2005/\n",
      "out/DelawareRiverBasin/Run09_13_2020/ward_sandford_20yr_chip38N-74E_o/2006/\n",
      "out/DelawareRiverBasin/Run09_13_2020/ward_sandford_20yr_chip38N-74E_o/2007/\n",
      "out/DelawareRiverBasin/Run09_13_2020/ward_sandford_20yr_chip38N-74E_o/2008/\n",
      "out/DelawareRiverBasin/Run09_13_2020/ward_sandford_20yr_chip38N-74E_o/2009/\n",
      "out/DelawareRiverBasin/Run09_13_2020/ward_sandford_20yr_chip38N-74E_o/Annual/\n"
     ]
    },
    {
     "name": "stderr",
     "output_type": "stream",
     "text": [
      "2020-09-13 23:31:13,570 - Mos_mosaic - INFO - dev-et-data/out/DelawareRiverBasin/Run09_13_2020/ward_sandford_20yr_chip38N-74E_o/Annual/etasw_1999.tif, ['out/DelawareRiverBasin/Run09_13_2020/ward_sandford_20yr_chip38N-74E_o/', 'out/DelawareRiverBasin/Run09_13_2020/ward_sandford_20yr_chip38N-76E_o/', 'out/DelawareRiverBasin/Run09_13_2020/ward_sandford_20yr_chip38N-78E_o/', 'out/DelawareRiverBasin/Run09_13_2020/ward_sandford_20yr_chip40N-74E_o/', 'out/DelawareRiverBasin/Run09_13_2020/ward_sandford_20yr_chip40N-76E_o/', 'out/DelawareRiverBasin/Run09_13_2020/ward_sandford_20yr_chip40N-78E_o/', 'out/DelawareRiverBasin/Run09_13_2020/ward_sandford_20yr_chip42N-74E_o/', 'out/DelawareRiverBasin/Run09_13_2020/ward_sandford_20yr_chip42N-76E_o/', 'out/DelawareRiverBasin/Run09_13_2020/ward_sandford_20yr_chip42N-78E_o/', 'out/DelawareRiverBasin/Run09_13_2020/ward_sandford_20yr_chip44N-74E_o/', 'out/DelawareRiverBasin/Run09_13_2020/ward_sandford_20yr_chip44N-76E_o/', 'out/DelawareRiverBasin/Run09_13_2020/ward_sandford_20yr_chip44N-78E_o/']\n",
      "2020-09-13 23:31:13,571 - Mos_mosaic - INFO - dev-et-data/out/DelawareRiverBasin/Run09_13_2020/ward_sandford_20yr_chip38N-74E_o/Annual/etasw_2000.tif, ['out/DelawareRiverBasin/Run09_13_2020/ward_sandford_20yr_chip38N-74E_o/', 'out/DelawareRiverBasin/Run09_13_2020/ward_sandford_20yr_chip38N-76E_o/', 'out/DelawareRiverBasin/Run09_13_2020/ward_sandford_20yr_chip38N-78E_o/', 'out/DelawareRiverBasin/Run09_13_2020/ward_sandford_20yr_chip40N-74E_o/', 'out/DelawareRiverBasin/Run09_13_2020/ward_sandford_20yr_chip40N-76E_o/', 'out/DelawareRiverBasin/Run09_13_2020/ward_sandford_20yr_chip40N-78E_o/', 'out/DelawareRiverBasin/Run09_13_2020/ward_sandford_20yr_chip42N-74E_o/', 'out/DelawareRiverBasin/Run09_13_2020/ward_sandford_20yr_chip42N-76E_o/', 'out/DelawareRiverBasin/Run09_13_2020/ward_sandford_20yr_chip42N-78E_o/', 'out/DelawareRiverBasin/Run09_13_2020/ward_sandford_20yr_chip44N-74E_o/', 'out/DelawareRiverBasin/Run09_13_2020/ward_sandford_20yr_chip44N-76E_o/', 'out/DelawareRiverBasin/Run09_13_2020/ward_sandford_20yr_chip44N-78E_o/']\n",
      "2020-09-13 23:31:13,572 - Mos_mosaic - INFO - dev-et-data/out/DelawareRiverBasin/Run09_13_2020/ward_sandford_20yr_chip38N-74E_o/Annual/etasw_2001.tif, ['out/DelawareRiverBasin/Run09_13_2020/ward_sandford_20yr_chip38N-74E_o/', 'out/DelawareRiverBasin/Run09_13_2020/ward_sandford_20yr_chip38N-76E_o/', 'out/DelawareRiverBasin/Run09_13_2020/ward_sandford_20yr_chip38N-78E_o/', 'out/DelawareRiverBasin/Run09_13_2020/ward_sandford_20yr_chip40N-74E_o/', 'out/DelawareRiverBasin/Run09_13_2020/ward_sandford_20yr_chip40N-76E_o/', 'out/DelawareRiverBasin/Run09_13_2020/ward_sandford_20yr_chip40N-78E_o/', 'out/DelawareRiverBasin/Run09_13_2020/ward_sandford_20yr_chip42N-74E_o/', 'out/DelawareRiverBasin/Run09_13_2020/ward_sandford_20yr_chip42N-76E_o/', 'out/DelawareRiverBasin/Run09_13_2020/ward_sandford_20yr_chip42N-78E_o/', 'out/DelawareRiverBasin/Run09_13_2020/ward_sandford_20yr_chip44N-74E_o/', 'out/DelawareRiverBasin/Run09_13_2020/ward_sandford_20yr_chip44N-76E_o/', 'out/DelawareRiverBasin/Run09_13_2020/ward_sandford_20yr_chip44N-78E_o/']\n",
      "2020-09-13 23:31:13,573 - Mos_mosaic - INFO - dev-et-data/out/DelawareRiverBasin/Run09_13_2020/ward_sandford_20yr_chip38N-74E_o/Annual/etasw_2002.tif, ['out/DelawareRiverBasin/Run09_13_2020/ward_sandford_20yr_chip38N-74E_o/', 'out/DelawareRiverBasin/Run09_13_2020/ward_sandford_20yr_chip38N-76E_o/', 'out/DelawareRiverBasin/Run09_13_2020/ward_sandford_20yr_chip38N-78E_o/', 'out/DelawareRiverBasin/Run09_13_2020/ward_sandford_20yr_chip40N-74E_o/', 'out/DelawareRiverBasin/Run09_13_2020/ward_sandford_20yr_chip40N-76E_o/', 'out/DelawareRiverBasin/Run09_13_2020/ward_sandford_20yr_chip40N-78E_o/', 'out/DelawareRiverBasin/Run09_13_2020/ward_sandford_20yr_chip42N-74E_o/', 'out/DelawareRiverBasin/Run09_13_2020/ward_sandford_20yr_chip42N-76E_o/', 'out/DelawareRiverBasin/Run09_13_2020/ward_sandford_20yr_chip42N-78E_o/', 'out/DelawareRiverBasin/Run09_13_2020/ward_sandford_20yr_chip44N-74E_o/', 'out/DelawareRiverBasin/Run09_13_2020/ward_sandford_20yr_chip44N-76E_o/', 'out/DelawareRiverBasin/Run09_13_2020/ward_sandford_20yr_chip44N-78E_o/']\n",
      "2020-09-13 23:31:13,574 - Mos_mosaic - INFO - dev-et-data/out/DelawareRiverBasin/Run09_13_2020/ward_sandford_20yr_chip38N-74E_o/Annual/etasw_2003.tif, ['out/DelawareRiverBasin/Run09_13_2020/ward_sandford_20yr_chip38N-74E_o/', 'out/DelawareRiverBasin/Run09_13_2020/ward_sandford_20yr_chip38N-76E_o/', 'out/DelawareRiverBasin/Run09_13_2020/ward_sandford_20yr_chip38N-78E_o/', 'out/DelawareRiverBasin/Run09_13_2020/ward_sandford_20yr_chip40N-74E_o/', 'out/DelawareRiverBasin/Run09_13_2020/ward_sandford_20yr_chip40N-76E_o/', 'out/DelawareRiverBasin/Run09_13_2020/ward_sandford_20yr_chip40N-78E_o/', 'out/DelawareRiverBasin/Run09_13_2020/ward_sandford_20yr_chip42N-74E_o/', 'out/DelawareRiverBasin/Run09_13_2020/ward_sandford_20yr_chip42N-76E_o/', 'out/DelawareRiverBasin/Run09_13_2020/ward_sandford_20yr_chip42N-78E_o/', 'out/DelawareRiverBasin/Run09_13_2020/ward_sandford_20yr_chip44N-74E_o/', 'out/DelawareRiverBasin/Run09_13_2020/ward_sandford_20yr_chip44N-76E_o/', 'out/DelawareRiverBasin/Run09_13_2020/ward_sandford_20yr_chip44N-78E_o/']\n",
      "2020-09-13 23:31:13,575 - Mos_mosaic - INFO - dev-et-data/out/DelawareRiverBasin/Run09_13_2020/ward_sandford_20yr_chip38N-74E_o/Annual/etasw_2004.tif, ['out/DelawareRiverBasin/Run09_13_2020/ward_sandford_20yr_chip38N-74E_o/', 'out/DelawareRiverBasin/Run09_13_2020/ward_sandford_20yr_chip38N-76E_o/', 'out/DelawareRiverBasin/Run09_13_2020/ward_sandford_20yr_chip38N-78E_o/', 'out/DelawareRiverBasin/Run09_13_2020/ward_sandford_20yr_chip40N-74E_o/', 'out/DelawareRiverBasin/Run09_13_2020/ward_sandford_20yr_chip40N-76E_o/', 'out/DelawareRiverBasin/Run09_13_2020/ward_sandford_20yr_chip40N-78E_o/', 'out/DelawareRiverBasin/Run09_13_2020/ward_sandford_20yr_chip42N-74E_o/', 'out/DelawareRiverBasin/Run09_13_2020/ward_sandford_20yr_chip42N-76E_o/', 'out/DelawareRiverBasin/Run09_13_2020/ward_sandford_20yr_chip42N-78E_o/', 'out/DelawareRiverBasin/Run09_13_2020/ward_sandford_20yr_chip44N-74E_o/', 'out/DelawareRiverBasin/Run09_13_2020/ward_sandford_20yr_chip44N-76E_o/', 'out/DelawareRiverBasin/Run09_13_2020/ward_sandford_20yr_chip44N-78E_o/']\n",
      "2020-09-13 23:31:13,577 - Mos_mosaic - INFO - dev-et-data/out/DelawareRiverBasin/Run09_13_2020/ward_sandford_20yr_chip38N-74E_o/Annual/etasw_2005.tif, ['out/DelawareRiverBasin/Run09_13_2020/ward_sandford_20yr_chip38N-74E_o/', 'out/DelawareRiverBasin/Run09_13_2020/ward_sandford_20yr_chip38N-76E_o/', 'out/DelawareRiverBasin/Run09_13_2020/ward_sandford_20yr_chip38N-78E_o/', 'out/DelawareRiverBasin/Run09_13_2020/ward_sandford_20yr_chip40N-74E_o/', 'out/DelawareRiverBasin/Run09_13_2020/ward_sandford_20yr_chip40N-76E_o/', 'out/DelawareRiverBasin/Run09_13_2020/ward_sandford_20yr_chip40N-78E_o/', 'out/DelawareRiverBasin/Run09_13_2020/ward_sandford_20yr_chip42N-74E_o/', 'out/DelawareRiverBasin/Run09_13_2020/ward_sandford_20yr_chip42N-76E_o/', 'out/DelawareRiverBasin/Run09_13_2020/ward_sandford_20yr_chip42N-78E_o/', 'out/DelawareRiverBasin/Run09_13_2020/ward_sandford_20yr_chip44N-74E_o/', 'out/DelawareRiverBasin/Run09_13_2020/ward_sandford_20yr_chip44N-76E_o/', 'out/DelawareRiverBasin/Run09_13_2020/ward_sandford_20yr_chip44N-78E_o/']\n",
      "2020-09-13 23:31:13,577 - Mos_mosaic - INFO - dev-et-data/out/DelawareRiverBasin/Run09_13_2020/ward_sandford_20yr_chip38N-74E_o/Annual/etasw_2006.tif, ['out/DelawareRiverBasin/Run09_13_2020/ward_sandford_20yr_chip38N-74E_o/', 'out/DelawareRiverBasin/Run09_13_2020/ward_sandford_20yr_chip38N-76E_o/', 'out/DelawareRiverBasin/Run09_13_2020/ward_sandford_20yr_chip38N-78E_o/', 'out/DelawareRiverBasin/Run09_13_2020/ward_sandford_20yr_chip40N-74E_o/', 'out/DelawareRiverBasin/Run09_13_2020/ward_sandford_20yr_chip40N-76E_o/', 'out/DelawareRiverBasin/Run09_13_2020/ward_sandford_20yr_chip40N-78E_o/', 'out/DelawareRiverBasin/Run09_13_2020/ward_sandford_20yr_chip42N-74E_o/', 'out/DelawareRiverBasin/Run09_13_2020/ward_sandford_20yr_chip42N-76E_o/', 'out/DelawareRiverBasin/Run09_13_2020/ward_sandford_20yr_chip42N-78E_o/', 'out/DelawareRiverBasin/Run09_13_2020/ward_sandford_20yr_chip44N-74E_o/', 'out/DelawareRiverBasin/Run09_13_2020/ward_sandford_20yr_chip44N-76E_o/', 'out/DelawareRiverBasin/Run09_13_2020/ward_sandford_20yr_chip44N-78E_o/']\n"
     ]
    },
    {
     "name": "stderr",
     "output_type": "stream",
     "text": [
      "2020-09-13 23:31:13,579 - Mos_mosaic - INFO - dev-et-data/out/DelawareRiverBasin/Run09_13_2020/ward_sandford_20yr_chip38N-74E_o/Annual/etasw_2007.tif, ['out/DelawareRiverBasin/Run09_13_2020/ward_sandford_20yr_chip38N-74E_o/', 'out/DelawareRiverBasin/Run09_13_2020/ward_sandford_20yr_chip38N-76E_o/', 'out/DelawareRiverBasin/Run09_13_2020/ward_sandford_20yr_chip38N-78E_o/', 'out/DelawareRiverBasin/Run09_13_2020/ward_sandford_20yr_chip40N-74E_o/', 'out/DelawareRiverBasin/Run09_13_2020/ward_sandford_20yr_chip40N-76E_o/', 'out/DelawareRiverBasin/Run09_13_2020/ward_sandford_20yr_chip40N-78E_o/', 'out/DelawareRiverBasin/Run09_13_2020/ward_sandford_20yr_chip42N-74E_o/', 'out/DelawareRiverBasin/Run09_13_2020/ward_sandford_20yr_chip42N-76E_o/', 'out/DelawareRiverBasin/Run09_13_2020/ward_sandford_20yr_chip42N-78E_o/', 'out/DelawareRiverBasin/Run09_13_2020/ward_sandford_20yr_chip44N-74E_o/', 'out/DelawareRiverBasin/Run09_13_2020/ward_sandford_20yr_chip44N-76E_o/', 'out/DelawareRiverBasin/Run09_13_2020/ward_sandford_20yr_chip44N-78E_o/']\n",
      "2020-09-13 23:31:13,580 - Mos_mosaic - INFO - dev-et-data/out/DelawareRiverBasin/Run09_13_2020/ward_sandford_20yr_chip38N-74E_o/Annual/etasw_2008.tif, ['out/DelawareRiverBasin/Run09_13_2020/ward_sandford_20yr_chip38N-74E_o/', 'out/DelawareRiverBasin/Run09_13_2020/ward_sandford_20yr_chip38N-76E_o/', 'out/DelawareRiverBasin/Run09_13_2020/ward_sandford_20yr_chip38N-78E_o/', 'out/DelawareRiverBasin/Run09_13_2020/ward_sandford_20yr_chip40N-74E_o/', 'out/DelawareRiverBasin/Run09_13_2020/ward_sandford_20yr_chip40N-76E_o/', 'out/DelawareRiverBasin/Run09_13_2020/ward_sandford_20yr_chip40N-78E_o/', 'out/DelawareRiverBasin/Run09_13_2020/ward_sandford_20yr_chip42N-74E_o/', 'out/DelawareRiverBasin/Run09_13_2020/ward_sandford_20yr_chip42N-76E_o/', 'out/DelawareRiverBasin/Run09_13_2020/ward_sandford_20yr_chip42N-78E_o/', 'out/DelawareRiverBasin/Run09_13_2020/ward_sandford_20yr_chip44N-74E_o/', 'out/DelawareRiverBasin/Run09_13_2020/ward_sandford_20yr_chip44N-76E_o/', 'out/DelawareRiverBasin/Run09_13_2020/ward_sandford_20yr_chip44N-78E_o/']\n"
     ]
    },
    {
     "name": "stdout",
     "output_type": "stream",
     "text": [
      "[('dev-et-data/out/DelawareRiverBasin/Run09_13_2020/ward_sandford_20yr_chip38N-74E_o/Annual/dd_1999.tif', 7411614), ('dev-et-data/out/DelawareRiverBasin/Run09_13_2020/ward_sandford_20yr_chip38N-74E_o/Annual/dd_2000.tif', 7411614), ('dev-et-data/out/DelawareRiverBasin/Run09_13_2020/ward_sandford_20yr_chip38N-74E_o/Annual/dd_2001.tif', 7411614), ('dev-et-data/out/DelawareRiverBasin/Run09_13_2020/ward_sandford_20yr_chip38N-74E_o/Annual/dd_2002.tif', 7411614), ('dev-et-data/out/DelawareRiverBasin/Run09_13_2020/ward_sandford_20yr_chip38N-74E_o/Annual/dd_2003.tif', 7411614), ('dev-et-data/out/DelawareRiverBasin/Run09_13_2020/ward_sandford_20yr_chip38N-74E_o/Annual/dd_2004.tif', 7411614), ('dev-et-data/out/DelawareRiverBasin/Run09_13_2020/ward_sandford_20yr_chip38N-74E_o/Annual/dd_2005.tif', 7411614), ('dev-et-data/out/DelawareRiverBasin/Run09_13_2020/ward_sandford_20yr_chip38N-74E_o/Annual/dd_2006.tif', 7411614), ('dev-et-data/out/DelawareRiverBasin/Run09_13_2020/ward_sandford_20yr_chip38N-74E_o/Annual/dd_2007.tif', 7411614), ('dev-et-data/out/DelawareRiverBasin/Run09_13_2020/ward_sandford_20yr_chip38N-74E_o/Annual/dd_2008.tif', 7411614), ('dev-et-data/out/DelawareRiverBasin/Run09_13_2020/ward_sandford_20yr_chip38N-74E_o/Annual/etasw_1999.tif', 7411614), ('dev-et-data/out/DelawareRiverBasin/Run09_13_2020/ward_sandford_20yr_chip38N-74E_o/Annual/etasw_2000.tif', 7411614), ('dev-et-data/out/DelawareRiverBasin/Run09_13_2020/ward_sandford_20yr_chip38N-74E_o/Annual/etasw_2001.tif', 7411614), ('dev-et-data/out/DelawareRiverBasin/Run09_13_2020/ward_sandford_20yr_chip38N-74E_o/Annual/etasw_2002.tif', 7411614), ('dev-et-data/out/DelawareRiverBasin/Run09_13_2020/ward_sandford_20yr_chip38N-74E_o/Annual/etasw_2003.tif', 7411614), ('dev-et-data/out/DelawareRiverBasin/Run09_13_2020/ward_sandford_20yr_chip38N-74E_o/Annual/etasw_2004.tif', 7411614), ('dev-et-data/out/DelawareRiverBasin/Run09_13_2020/ward_sandford_20yr_chip38N-74E_o/Annual/etasw_2005.tif', 7411614), ('dev-et-data/out/DelawareRiverBasin/Run09_13_2020/ward_sandford_20yr_chip38N-74E_o/Annual/etasw_2006.tif', 7411614), ('dev-et-data/out/DelawareRiverBasin/Run09_13_2020/ward_sandford_20yr_chip38N-74E_o/Annual/etasw_2007.tif', 7411614), ('dev-et-data/out/DelawareRiverBasin/Run09_13_2020/ward_sandford_20yr_chip38N-74E_o/Annual/etasw_2008.tif', 7411614), ('dev-et-data/out/DelawareRiverBasin/Run09_13_2020/ward_sandford_20yr_chip38N-74E_o/Annual/etc_1999.tif', 7411614), ('dev-et-data/out/DelawareRiverBasin/Run09_13_2020/ward_sandford_20yr_chip38N-74E_o/Annual/etc_2000.tif', 7411614), ('dev-et-data/out/DelawareRiverBasin/Run09_13_2020/ward_sandford_20yr_chip38N-74E_o/Annual/etc_2001.tif', 7411614), ('dev-et-data/out/DelawareRiverBasin/Run09_13_2020/ward_sandford_20yr_chip38N-74E_o/Annual/etc_2002.tif', 7411614), ('dev-et-data/out/DelawareRiverBasin/Run09_13_2020/ward_sandford_20yr_chip38N-74E_o/Annual/etc_2003.tif', 7411614), ('dev-et-data/out/DelawareRiverBasin/Run09_13_2020/ward_sandford_20yr_chip38N-74E_o/Annual/etc_2004.tif', 7411614), ('dev-et-data/out/DelawareRiverBasin/Run09_13_2020/ward_sandford_20yr_chip38N-74E_o/Annual/etc_2005.tif', 7411614), ('dev-et-data/out/DelawareRiverBasin/Run09_13_2020/ward_sandford_20yr_chip38N-74E_o/Annual/etc_2006.tif', 7411614), ('dev-et-data/out/DelawareRiverBasin/Run09_13_2020/ward_sandford_20yr_chip38N-74E_o/Annual/etc_2007.tif', 7411614), ('dev-et-data/out/DelawareRiverBasin/Run09_13_2020/ward_sandford_20yr_chip38N-74E_o/Annual/etc_2008.tif', 7411614), ('dev-et-data/out/DelawareRiverBasin/Run09_13_2020/ward_sandford_20yr_chip38N-74E_o/Annual/netet_1999.tif', 7411614), ('dev-et-data/out/DelawareRiverBasin/Run09_13_2020/ward_sandford_20yr_chip38N-74E_o/Annual/netet_2000.tif', 7411614), ('dev-et-data/out/DelawareRiverBasin/Run09_13_2020/ward_sandford_20yr_chip38N-74E_o/Annual/netet_2001.tif', 7411614), ('dev-et-data/out/DelawareRiverBasin/Run09_13_2020/ward_sandford_20yr_chip38N-74E_o/Annual/netet_2002.tif', 7411614), ('dev-et-data/out/DelawareRiverBasin/Run09_13_2020/ward_sandford_20yr_chip38N-74E_o/Annual/netet_2003.tif', 7411614), ('dev-et-data/out/DelawareRiverBasin/Run09_13_2020/ward_sandford_20yr_chip38N-74E_o/Annual/netet_2004.tif', 7411614), ('dev-et-data/out/DelawareRiverBasin/Run09_13_2020/ward_sandford_20yr_chip38N-74E_o/Annual/netet_2005.tif', 7411614), ('dev-et-data/out/DelawareRiverBasin/Run09_13_2020/ward_sandford_20yr_chip38N-74E_o/Annual/netet_2006.tif', 7411614), ('dev-et-data/out/DelawareRiverBasin/Run09_13_2020/ward_sandford_20yr_chip38N-74E_o/Annual/netet_2007.tif', 7411614), ('dev-et-data/out/DelawareRiverBasin/Run09_13_2020/ward_sandford_20yr_chip38N-74E_o/Annual/netet_2008.tif', 7411614), ('dev-et-data/out/DelawareRiverBasin/Run09_13_2020/ward_sandford_20yr_chip38N-74E_o/Annual/rain_1999.tif', 7411614), ('dev-et-data/out/DelawareRiverBasin/Run09_13_2020/ward_sandford_20yr_chip38N-74E_o/Annual/rain_2000.tif', 7411614), ('dev-et-data/out/DelawareRiverBasin/Run09_13_2020/ward_sandford_20yr_chip38N-74E_o/Annual/rain_2001.tif', 7411614), ('dev-et-data/out/DelawareRiverBasin/Run09_13_2020/ward_sandford_20yr_chip38N-74E_o/Annual/rain_2002.tif', 7411614), ('dev-et-data/out/DelawareRiverBasin/Run09_13_2020/ward_sandford_20yr_chip38N-74E_o/Annual/rain_2003.tif', 7411614), ('dev-et-data/out/DelawareRiverBasin/Run09_13_2020/ward_sandford_20yr_chip38N-74E_o/Annual/rain_2004.tif', 7411614), ('dev-et-data/out/DelawareRiverBasin/Run09_13_2020/ward_sandford_20yr_chip38N-74E_o/Annual/rain_2005.tif', 7411614), ('dev-et-data/out/DelawareRiverBasin/Run09_13_2020/ward_sandford_20yr_chip38N-74E_o/Annual/rain_2006.tif', 7411614), ('dev-et-data/out/DelawareRiverBasin/Run09_13_2020/ward_sandford_20yr_chip38N-74E_o/Annual/rain_2007.tif', 7411614), ('dev-et-data/out/DelawareRiverBasin/Run09_13_2020/ward_sandford_20yr_chip38N-74E_o/Annual/rain_2008.tif', 7411614), ('dev-et-data/out/DelawareRiverBasin/Run09_13_2020/ward_sandford_20yr_chip38N-74E_o/Annual/srf_1999.tif', 7411614), ('dev-et-data/out/DelawareRiverBasin/Run09_13_2020/ward_sandford_20yr_chip38N-74E_o/Annual/srf_2000.tif', 7411614), ('dev-et-data/out/DelawareRiverBasin/Run09_13_2020/ward_sandford_20yr_chip38N-74E_o/Annual/srf_2001.tif', 7411614), ('dev-et-data/out/DelawareRiverBasin/Run09_13_2020/ward_sandford_20yr_chip38N-74E_o/Annual/srf_2002.tif', 7411614), ('dev-et-data/out/DelawareRiverBasin/Run09_13_2020/ward_sandford_20yr_chip38N-74E_o/Annual/srf_2003.tif', 7411614), ('dev-et-data/out/DelawareRiverBasin/Run09_13_2020/ward_sandford_20yr_chip38N-74E_o/Annual/srf_2004.tif', 7411614), ('dev-et-data/out/DelawareRiverBasin/Run09_13_2020/ward_sandford_20yr_chip38N-74E_o/Annual/srf_2005.tif', 7411614), ('dev-et-data/out/DelawareRiverBasin/Run09_13_2020/ward_sandford_20yr_chip38N-74E_o/Annual/srf_2006.tif', 7411614), ('dev-et-data/out/DelawareRiverBasin/Run09_13_2020/ward_sandford_20yr_chip38N-74E_o/Annual/srf_2007.tif', 7411614), ('dev-et-data/out/DelawareRiverBasin/Run09_13_2020/ward_sandford_20yr_chip38N-74E_o/Annual/srf_2008.tif', 7411614), ('dev-et-data/out/DelawareRiverBasin/Run09_13_2020/ward_sandford_20yr_chip38N-74E_o/Annual/swe_1999.tif', 7411614), ('dev-et-data/out/DelawareRiverBasin/Run09_13_2020/ward_sandford_20yr_chip38N-74E_o/Annual/swe_2000.tif', 7411614), ('dev-et-data/out/DelawareRiverBasin/Run09_13_2020/ward_sandford_20yr_chip38N-74E_o/Annual/swe_2001.tif', 7411614), ('dev-et-data/out/DelawareRiverBasin/Run09_13_2020/ward_sandford_20yr_chip38N-74E_o/Annual/swe_2002.tif', 7411614), ('dev-et-data/out/DelawareRiverBasin/Run09_13_2020/ward_sandford_20yr_chip38N-74E_o/Annual/swe_2003.tif', 7411614), ('dev-et-data/out/DelawareRiverBasin/Run09_13_2020/ward_sandford_20yr_chip38N-74E_o/Annual/swe_2004.tif', 7411614), ('dev-et-data/out/DelawareRiverBasin/Run09_13_2020/ward_sandford_20yr_chip38N-74E_o/Annual/swe_2005.tif', 7411614), ('dev-et-data/out/DelawareRiverBasin/Run09_13_2020/ward_sandford_20yr_chip38N-74E_o/Annual/swe_2006.tif', 7411614), ('dev-et-data/out/DelawareRiverBasin/Run09_13_2020/ward_sandford_20yr_chip38N-74E_o/Annual/swe_2007.tif', 7411614), ('dev-et-data/out/DelawareRiverBasin/Run09_13_2020/ward_sandford_20yr_chip38N-74E_o/Annual/swe_2008.tif', 7411614)]\n",
      "dev-et-data/out/DelawareRiverBasin/Run09_13_2020/ward_sandford_20yr_chip38N-74E_o/Annual/etasw_1999.tif\n",
      "dev-et-data/out/DelawareRiverBasin/Run09_13_2020/ward_sandford_20yr_chip38N-74E_o/Annual/etasw_2000.tif\n",
      "dev-et-data/out/DelawareRiverBasin/Run09_13_2020/ward_sandford_20yr_chip38N-74E_o/Annual/etasw_2001.tif\n",
      "dev-et-data/out/DelawareRiverBasin/Run09_13_2020/ward_sandford_20yr_chip38N-74E_o/Annual/etasw_2002.tif\n",
      "dev-et-data/out/DelawareRiverBasin/Run09_13_2020/ward_sandford_20yr_chip38N-74E_o/Annual/etasw_2003.tif\n",
      "dev-et-data/out/DelawareRiverBasin/Run09_13_2020/ward_sandford_20yr_chip38N-74E_o/Annual/etasw_2004.tif\n",
      "dev-et-data/out/DelawareRiverBasin/Run09_13_2020/ward_sandford_20yr_chip38N-74E_o/Annual/etasw_2005.tif\n",
      "dev-et-data/out/DelawareRiverBasin/Run09_13_2020/ward_sandford_20yr_chip38N-74E_o/Annual/etasw_2006.tif\n",
      "dev-et-data/out/DelawareRiverBasin/Run09_13_2020/ward_sandford_20yr_chip38N-74E_o/Annual/etasw_2007.tif\n",
      "dev-et-data/out/DelawareRiverBasin/Run09_13_2020/ward_sandford_20yr_chip38N-74E_o/Annual/etasw_2008.tif\n",
      "['out/DelawareRiverBasin/Run09_13_2020/ward_sandford_20yr_chip38N-74E_o/Annual/etasw_1999.tif', 'out/DelawareRiverBasin/Run09_13_2020/ward_sandford_20yr_chip38N-76E_o/Annual/etasw_1999.tif', 'out/DelawareRiverBasin/Run09_13_2020/ward_sandford_20yr_chip38N-78E_o/Annual/etasw_1999.tif', 'out/DelawareRiverBasin/Run09_13_2020/ward_sandford_20yr_chip40N-74E_o/Annual/etasw_1999.tif', 'out/DelawareRiverBasin/Run09_13_2020/ward_sandford_20yr_chip40N-76E_o/Annual/etasw_1999.tif', 'out/DelawareRiverBasin/Run09_13_2020/ward_sandford_20yr_chip40N-78E_o/Annual/etasw_1999.tif', 'out/DelawareRiverBasin/Run09_13_2020/ward_sandford_20yr_chip42N-74E_o/Annual/etasw_1999.tif', 'out/DelawareRiverBasin/Run09_13_2020/ward_sandford_20yr_chip42N-76E_o/Annual/etasw_1999.tif', 'out/DelawareRiverBasin/Run09_13_2020/ward_sandford_20yr_chip42N-78E_o/Annual/etasw_1999.tif', 'out/DelawareRiverBasin/Run09_13_2020/ward_sandford_20yr_chip44N-74E_o/Annual/etasw_1999.tif', 'out/DelawareRiverBasin/Run09_13_2020/ward_sandford_20yr_chip44N-76E_o/Annual/etasw_1999.tif', 'out/DelawareRiverBasin/Run09_13_2020/ward_sandford_20yr_chip44N-78E_o/Annual/etasw_1999.tif']\n",
      "['out/DelawareRiverBasin/Run09_13_2020/ward_sandford_20yr_chip38N-74E_o/Annual/etasw_2000.tif', 'out/DelawareRiverBasin/Run09_13_2020/ward_sandford_20yr_chip38N-76E_o/Annual/etasw_2000.tif', 'out/DelawareRiverBasin/Run09_13_2020/ward_sandford_20yr_chip38N-78E_o/Annual/etasw_2000.tif', 'out/DelawareRiverBasin/Run09_13_2020/ward_sandford_20yr_chip40N-74E_o/Annual/etasw_2000.tif', 'out/DelawareRiverBasin/Run09_13_2020/ward_sandford_20yr_chip40N-76E_o/Annual/etasw_2000.tif', 'out/DelawareRiverBasin/Run09_13_2020/ward_sandford_20yr_chip40N-78E_o/Annual/etasw_2000.tif', 'out/DelawareRiverBasin/Run09_13_2020/ward_sandford_20yr_chip42N-74E_o/Annual/etasw_2000.tif', 'out/DelawareRiverBasin/Run09_13_2020/ward_sandford_20yr_chip42N-76E_o/Annual/etasw_2000.tif', 'out/DelawareRiverBasin/Run09_13_2020/ward_sandford_20yr_chip42N-78E_o/Annual/etasw_2000.tif', 'out/DelawareRiverBasin/Run09_13_2020/ward_sandford_20yr_chip44N-74E_o/Annual/etasw_2000.tif', 'out/DelawareRiverBasin/Run09_13_2020/ward_sandford_20yr_chip44N-76E_o/Annual/etasw_2000.tif', 'out/DelawareRiverBasin/Run09_13_2020/ward_sandford_20yr_chip44N-78E_o/Annual/etasw_2000.tif']\n",
      "['out/DelawareRiverBasin/Run09_13_2020/ward_sandford_20yr_chip38N-74E_o/Annual/etasw_2001.tif', 'out/DelawareRiverBasin/Run09_13_2020/ward_sandford_20yr_chip38N-76E_o/Annual/etasw_2001.tif', 'out/DelawareRiverBasin/Run09_13_2020/ward_sandford_20yr_chip38N-78E_o/Annual/etasw_2001.tif', 'out/DelawareRiverBasin/Run09_13_2020/ward_sandford_20yr_chip40N-74E_o/Annual/etasw_2001.tif', 'out/DelawareRiverBasin/Run09_13_2020/ward_sandford_20yr_chip40N-76E_o/Annual/etasw_2001.tif', 'out/DelawareRiverBasin/Run09_13_2020/ward_sandford_20yr_chip40N-78E_o/Annual/etasw_2001.tif', 'out/DelawareRiverBasin/Run09_13_2020/ward_sandford_20yr_chip42N-74E_o/Annual/etasw_2001.tif', 'out/DelawareRiverBasin/Run09_13_2020/ward_sandford_20yr_chip42N-76E_o/Annual/etasw_2001.tif', 'out/DelawareRiverBasin/Run09_13_2020/ward_sandford_20yr_chip42N-78E_o/Annual/etasw_2001.tif', 'out/DelawareRiverBasin/Run09_13_2020/ward_sandford_20yr_chip44N-74E_o/Annual/etasw_2001.tif', 'out/DelawareRiverBasin/Run09_13_2020/ward_sandford_20yr_chip44N-76E_o/Annual/etasw_2001.tif', 'out/DelawareRiverBasin/Run09_13_2020/ward_sandford_20yr_chip44N-78E_o/Annual/etasw_2001.tif']\n",
      "['out/DelawareRiverBasin/Run09_13_2020/ward_sandford_20yr_chip38N-74E_o/Annual/etasw_2002.tif', 'out/DelawareRiverBasin/Run09_13_2020/ward_sandford_20yr_chip38N-76E_o/Annual/etasw_2002.tif', 'out/DelawareRiverBasin/Run09_13_2020/ward_sandford_20yr_chip38N-78E_o/Annual/etasw_2002.tif', 'out/DelawareRiverBasin/Run09_13_2020/ward_sandford_20yr_chip40N-74E_o/Annual/etasw_2002.tif', 'out/DelawareRiverBasin/Run09_13_2020/ward_sandford_20yr_chip40N-76E_o/Annual/etasw_2002.tif', 'out/DelawareRiverBasin/Run09_13_2020/ward_sandford_20yr_chip40N-78E_o/Annual/etasw_2002.tif', 'out/DelawareRiverBasin/Run09_13_2020/ward_sandford_20yr_chip42N-74E_o/Annual/etasw_2002.tif', 'out/DelawareRiverBasin/Run09_13_2020/ward_sandford_20yr_chip42N-76E_o/Annual/etasw_2002.tif', 'out/DelawareRiverBasin/Run09_13_2020/ward_sandford_20yr_chip42N-78E_o/Annual/etasw_2002.tif', 'out/DelawareRiverBasin/Run09_13_2020/ward_sandford_20yr_chip44N-74E_o/Annual/etasw_2002.tif', 'out/DelawareRiverBasin/Run09_13_2020/ward_sandford_20yr_chip44N-76E_o/Annual/etasw_2002.tif', 'out/DelawareRiverBasin/Run09_13_2020/ward_sandford_20yr_chip44N-78E_o/Annual/etasw_2002.tif']\n",
      "['out/DelawareRiverBasin/Run09_13_2020/ward_sandford_20yr_chip38N-74E_o/Annual/etasw_2003.tif', 'out/DelawareRiverBasin/Run09_13_2020/ward_sandford_20yr_chip38N-76E_o/Annual/etasw_2003.tif', 'out/DelawareRiverBasin/Run09_13_2020/ward_sandford_20yr_chip38N-78E_o/Annual/etasw_2003.tif', 'out/DelawareRiverBasin/Run09_13_2020/ward_sandford_20yr_chip40N-74E_o/Annual/etasw_2003.tif', 'out/DelawareRiverBasin/Run09_13_2020/ward_sandford_20yr_chip40N-76E_o/Annual/etasw_2003.tif', 'out/DelawareRiverBasin/Run09_13_2020/ward_sandford_20yr_chip40N-78E_o/Annual/etasw_2003.tif', 'out/DelawareRiverBasin/Run09_13_2020/ward_sandford_20yr_chip42N-74E_o/Annual/etasw_2003.tif', 'out/DelawareRiverBasin/Run09_13_2020/ward_sandford_20yr_chip42N-76E_o/Annual/etasw_2003.tif', 'out/DelawareRiverBasin/Run09_13_2020/ward_sandford_20yr_chip42N-78E_o/Annual/etasw_2003.tif', 'out/DelawareRiverBasin/Run09_13_2020/ward_sandford_20yr_chip44N-74E_o/Annual/etasw_2003.tif', 'out/DelawareRiverBasin/Run09_13_2020/ward_sandford_20yr_chip44N-76E_o/Annual/etasw_2003.tif', 'out/DelawareRiverBasin/Run09_13_2020/ward_sandford_20yr_chip44N-78E_o/Annual/etasw_2003.tif']\n",
      "['out/DelawareRiverBasin/Run09_13_2020/ward_sandford_20yr_chip38N-74E_o/Annual/etasw_2004.tif', 'out/DelawareRiverBasin/Run09_13_2020/ward_sandford_20yr_chip38N-76E_o/Annual/etasw_2004.tif', 'out/DelawareRiverBasin/Run09_13_2020/ward_sandford_20yr_chip38N-78E_o/Annual/etasw_2004.tif', 'out/DelawareRiverBasin/Run09_13_2020/ward_sandford_20yr_chip40N-74E_o/Annual/etasw_2004.tif', 'out/DelawareRiverBasin/Run09_13_2020/ward_sandford_20yr_chip40N-76E_o/Annual/etasw_2004.tif', 'out/DelawareRiverBasin/Run09_13_2020/ward_sandford_20yr_chip40N-78E_o/Annual/etasw_2004.tif', 'out/DelawareRiverBasin/Run09_13_2020/ward_sandford_20yr_chip42N-74E_o/Annual/etasw_2004.tif', 'out/DelawareRiverBasin/Run09_13_2020/ward_sandford_20yr_chip42N-76E_o/Annual/etasw_2004.tif', 'out/DelawareRiverBasin/Run09_13_2020/ward_sandford_20yr_chip42N-78E_o/Annual/etasw_2004.tif', 'out/DelawareRiverBasin/Run09_13_2020/ward_sandford_20yr_chip44N-74E_o/Annual/etasw_2004.tif', 'out/DelawareRiverBasin/Run09_13_2020/ward_sandford_20yr_chip44N-76E_o/Annual/etasw_2004.tif', 'out/DelawareRiverBasin/Run09_13_2020/ward_sandford_20yr_chip44N-78E_o/Annual/etasw_2004.tif']\n",
      "['out/DelawareRiverBasin/Run09_13_2020/ward_sandford_20yr_chip38N-74E_o/Annual/etasw_2005.tif', 'out/DelawareRiverBasin/Run09_13_2020/ward_sandford_20yr_chip38N-76E_o/Annual/etasw_2005.tif', 'out/DelawareRiverBasin/Run09_13_2020/ward_sandford_20yr_chip38N-78E_o/Annual/etasw_2005.tif', 'out/DelawareRiverBasin/Run09_13_2020/ward_sandford_20yr_chip40N-74E_o/Annual/etasw_2005.tif', 'out/DelawareRiverBasin/Run09_13_2020/ward_sandford_20yr_chip40N-76E_o/Annual/etasw_2005.tif', 'out/DelawareRiverBasin/Run09_13_2020/ward_sandford_20yr_chip40N-78E_o/Annual/etasw_2005.tif', 'out/DelawareRiverBasin/Run09_13_2020/ward_sandford_20yr_chip42N-74E_o/Annual/etasw_2005.tif', 'out/DelawareRiverBasin/Run09_13_2020/ward_sandford_20yr_chip42N-76E_o/Annual/etasw_2005.tif', 'out/DelawareRiverBasin/Run09_13_2020/ward_sandford_20yr_chip42N-78E_o/Annual/etasw_2005.tif', 'out/DelawareRiverBasin/Run09_13_2020/ward_sandford_20yr_chip44N-74E_o/Annual/etasw_2005.tif', 'out/DelawareRiverBasin/Run09_13_2020/ward_sandford_20yr_chip44N-76E_o/Annual/etasw_2005.tif', 'out/DelawareRiverBasin/Run09_13_2020/ward_sandford_20yr_chip44N-78E_o/Annual/etasw_2005.tif']\n",
      "['out/DelawareRiverBasin/Run09_13_2020/ward_sandford_20yr_chip38N-74E_o/Annual/etasw_2006.tif', 'out/DelawareRiverBasin/Run09_13_2020/ward_sandford_20yr_chip38N-76E_o/Annual/etasw_2006.tif', 'out/DelawareRiverBasin/Run09_13_2020/ward_sandford_20yr_chip38N-78E_o/Annual/etasw_2006.tif', 'out/DelawareRiverBasin/Run09_13_2020/ward_sandford_20yr_chip40N-74E_o/Annual/etasw_2006.tif', 'out/DelawareRiverBasin/Run09_13_2020/ward_sandford_20yr_chip40N-76E_o/Annual/etasw_2006.tif', 'out/DelawareRiverBasin/Run09_13_2020/ward_sandford_20yr_chip40N-78E_o/Annual/etasw_2006.tif', 'out/DelawareRiverBasin/Run09_13_2020/ward_sandford_20yr_chip42N-74E_o/Annual/etasw_2006.tif', 'out/DelawareRiverBasin/Run09_13_2020/ward_sandford_20yr_chip42N-76E_o/Annual/etasw_2006.tif', 'out/DelawareRiverBasin/Run09_13_2020/ward_sandford_20yr_chip42N-78E_o/Annual/etasw_2006.tif', 'out/DelawareRiverBasin/Run09_13_2020/ward_sandford_20yr_chip44N-74E_o/Annual/etasw_2006.tif', 'out/DelawareRiverBasin/Run09_13_2020/ward_sandford_20yr_chip44N-76E_o/Annual/etasw_2006.tif', 'out/DelawareRiverBasin/Run09_13_2020/ward_sandford_20yr_chip44N-78E_o/Annual/etasw_2006.tif']\n",
      "['out/DelawareRiverBasin/Run09_13_2020/ward_sandford_20yr_chip38N-74E_o/Annual/etasw_2007.tif', 'out/DelawareRiverBasin/Run09_13_2020/ward_sandford_20yr_chip38N-76E_o/Annual/etasw_2007.tif', 'out/DelawareRiverBasin/Run09_13_2020/ward_sandford_20yr_chip38N-78E_o/Annual/etasw_2007.tif', 'out/DelawareRiverBasin/Run09_13_2020/ward_sandford_20yr_chip40N-74E_o/Annual/etasw_2007.tif', 'out/DelawareRiverBasin/Run09_13_2020/ward_sandford_20yr_chip40N-76E_o/Annual/etasw_2007.tif', 'out/DelawareRiverBasin/Run09_13_2020/ward_sandford_20yr_chip40N-78E_o/Annual/etasw_2007.tif', 'out/DelawareRiverBasin/Run09_13_2020/ward_sandford_20yr_chip42N-74E_o/Annual/etasw_2007.tif', 'out/DelawareRiverBasin/Run09_13_2020/ward_sandford_20yr_chip42N-76E_o/Annual/etasw_2007.tif', 'out/DelawareRiverBasin/Run09_13_2020/ward_sandford_20yr_chip42N-78E_o/Annual/etasw_2007.tif', 'out/DelawareRiverBasin/Run09_13_2020/ward_sandford_20yr_chip44N-74E_o/Annual/etasw_2007.tif', 'out/DelawareRiverBasin/Run09_13_2020/ward_sandford_20yr_chip44N-76E_o/Annual/etasw_2007.tif', 'out/DelawareRiverBasin/Run09_13_2020/ward_sandford_20yr_chip44N-78E_o/Annual/etasw_2007.tif']\n",
      "['out/DelawareRiverBasin/Run09_13_2020/ward_sandford_20yr_chip38N-74E_o/Annual/etasw_2008.tif', 'out/DelawareRiverBasin/Run09_13_2020/ward_sandford_20yr_chip38N-76E_o/Annual/etasw_2008.tif', 'out/DelawareRiverBasin/Run09_13_2020/ward_sandford_20yr_chip38N-78E_o/Annual/etasw_2008.tif', 'out/DelawareRiverBasin/Run09_13_2020/ward_sandford_20yr_chip40N-74E_o/Annual/etasw_2008.tif', 'out/DelawareRiverBasin/Run09_13_2020/ward_sandford_20yr_chip40N-76E_o/Annual/etasw_2008.tif', 'out/DelawareRiverBasin/Run09_13_2020/ward_sandford_20yr_chip40N-78E_o/Annual/etasw_2008.tif', 'out/DelawareRiverBasin/Run09_13_2020/ward_sandford_20yr_chip42N-74E_o/Annual/etasw_2008.tif', 'out/DelawareRiverBasin/Run09_13_2020/ward_sandford_20yr_chip42N-76E_o/Annual/etasw_2008.tif', 'out/DelawareRiverBasin/Run09_13_2020/ward_sandford_20yr_chip42N-78E_o/Annual/etasw_2008.tif', 'out/DelawareRiverBasin/Run09_13_2020/ward_sandford_20yr_chip44N-74E_o/Annual/etasw_2008.tif', 'out/DelawareRiverBasin/Run09_13_2020/ward_sandford_20yr_chip44N-76E_o/Annual/etasw_2008.tif', 'out/DelawareRiverBasin/Run09_13_2020/ward_sandford_20yr_chip44N-78E_o/Annual/etasw_2008.tif']\n"
     ]
    },
    {
     "data": {
      "text/plain": [
       "['out/DelawareRiverBasin/Run09_13_2020/ward_sandford_20yr_chip38N-74E_o/Annual/etasw_2008.tif',\n",
       " 'out/DelawareRiverBasin/Run09_13_2020/ward_sandford_20yr_chip38N-76E_o/Annual/etasw_2008.tif',\n",
       " 'out/DelawareRiverBasin/Run09_13_2020/ward_sandford_20yr_chip38N-78E_o/Annual/etasw_2008.tif',\n",
       " 'out/DelawareRiverBasin/Run09_13_2020/ward_sandford_20yr_chip40N-74E_o/Annual/etasw_2008.tif',\n",
       " 'out/DelawareRiverBasin/Run09_13_2020/ward_sandford_20yr_chip40N-76E_o/Annual/etasw_2008.tif',\n",
       " 'out/DelawareRiverBasin/Run09_13_2020/ward_sandford_20yr_chip40N-78E_o/Annual/etasw_2008.tif',\n",
       " 'out/DelawareRiverBasin/Run09_13_2020/ward_sandford_20yr_chip42N-74E_o/Annual/etasw_2008.tif',\n",
       " 'out/DelawareRiverBasin/Run09_13_2020/ward_sandford_20yr_chip42N-76E_o/Annual/etasw_2008.tif',\n",
       " 'out/DelawareRiverBasin/Run09_13_2020/ward_sandford_20yr_chip42N-78E_o/Annual/etasw_2008.tif',\n",
       " 'out/DelawareRiverBasin/Run09_13_2020/ward_sandford_20yr_chip44N-74E_o/Annual/etasw_2008.tif',\n",
       " 'out/DelawareRiverBasin/Run09_13_2020/ward_sandford_20yr_chip44N-76E_o/Annual/etasw_2008.tif',\n",
       " 'out/DelawareRiverBasin/Run09_13_2020/ward_sandford_20yr_chip44N-78E_o/Annual/etasw_2008.tif']"
      ]
     },
     "execution_count": 11,
     "metadata": {},
     "output_type": "execute_result"
    }
   ],
   "source": [
    "mos.run_mosaic()"
   ]
  },
  {
   "cell_type": "code",
   "execution_count": null,
   "metadata": {},
   "outputs": [],
   "source": []
  }
 ],
 "metadata": {
  "kernelspec": {
   "display_name": "Python 3",
   "language": "python",
   "name": "python3"
  },
  "language_info": {
   "codemirror_mode": {
    "name": "ipython",
    "version": 3
   },
   "file_extension": ".py",
   "mimetype": "text/x-python",
   "name": "python",
   "nbconvert_exporter": "python",
   "pygments_lexer": "ipython3",
   "version": "3.7.3"
  }
 },
 "nbformat": 4,
 "nbformat_minor": 4
}
