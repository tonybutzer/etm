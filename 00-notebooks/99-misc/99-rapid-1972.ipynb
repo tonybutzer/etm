{
 "cells": [
  {
   "cell_type": "code",
   "execution_count": 2,
   "metadata": {},
   "outputs": [
    {
     "name": "stdout",
     "output_type": "stream",
     "text": [
      "00-clone-repo.ipynb  etasw_2014.tif  etasw_2016.tif\r\n",
      "99-rapid-1972.ipynb  etasw_2015.tif  etasw_2016361.tif\r\n",
      "\r\n",
      "files:\r\n",
      "Makefile  notebook-requirements.txt\r\n",
      "\r\n",
      "junkbox:\r\n",
      "pr  tmp\r\n",
      "\r\n",
      "output-et:\r\n",
      "00-notebooks  Makefile\tREADME.md  bucket-to-netapp\r\n",
      "\r\n",
      "tony:\r\n",
      "cloud-veg-et\r\n"
     ]
    }
   ],
   "source": [
    "! ls *"
   ]
  },
  {
   "cell_type": "code",
   "execution_count": null,
   "metadata": {},
   "outputs": [],
   "source": []
  }
 ],
 "metadata": {
  "kernelspec": {
   "display_name": "Python 3",
   "language": "python",
   "name": "python3"
  },
  "language_info": {
   "codemirror_mode": {
    "name": "ipython",
    "version": 3
   },
   "file_extension": ".py",
   "mimetype": "text/x-python",
   "name": "python",
   "nbconvert_exporter": "python",
   "pygments_lexer": "ipython3",
   "version": "3.7.3"
  }
 },
 "nbformat": 4,
 "nbformat_minor": 4
}
