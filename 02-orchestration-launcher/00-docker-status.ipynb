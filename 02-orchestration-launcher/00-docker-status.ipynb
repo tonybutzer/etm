{
 "cells": [
  {
   "cell_type": "code",
   "execution_count": 1,
   "metadata": {},
   "outputs": [],
   "source": [
    "import docker"
   ]
  },
  {
   "cell_type": "code",
   "execution_count": 2,
   "metadata": {},
   "outputs": [],
   "source": [
    "#! pip install --user docker"
   ]
  },
  {
   "cell_type": "code",
   "execution_count": 3,
   "metadata": {},
   "outputs": [],
   "source": [
    "#! docker ps"
   ]
  },
  {
   "cell_type": "code",
   "execution_count": 4,
   "metadata": {},
   "outputs": [],
   "source": [
    "# ubuntu@ip-10-12-68-246:~$ sudo usermod -aG docker jupyter-butzer"
   ]
  },
  {
   "cell_type": "code",
   "execution_count": 5,
   "metadata": {},
   "outputs": [],
   "source": [
    "#! docker ps"
   ]
  },
  {
   "cell_type": "code",
   "execution_count": 6,
   "metadata": {},
   "outputs": [],
   "source": [
    "# relogin"
   ]
  },
  {
   "cell_type": "code",
   "execution_count": 7,
   "metadata": {},
   "outputs": [
    {
     "name": "stdout",
     "output_type": "stream",
     "text": [
      "uid=1004(jupyter-butzer) gid=1006(jupyter-butzer) groups=1006(jupyter-butzer),999(docker),1002(jupyterhub-users)\r\n"
     ]
    }
   ],
   "source": [
    "! id"
   ]
  },
  {
   "cell_type": "markdown",
   "metadata": {},
   "source": [
    "# https://docker-py.readthedocs.io/en/stable/"
   ]
  },
  {
   "cell_type": "code",
   "execution_count": 8,
   "metadata": {},
   "outputs": [],
   "source": [
    "client = docker.from_env()"
   ]
  },
  {
   "cell_type": "code",
   "execution_count": 9,
   "metadata": {},
   "outputs": [],
   "source": [
    "#client.containers.run(\"ubuntu\", \"echo hello world\", detach=True)\n"
   ]
  },
  {
   "cell_type": "code",
   "execution_count": 10,
   "metadata": {},
   "outputs": [
    {
     "data": {
      "text/plain": [
       "b'usage: api_etm.py [-h] [-y YEAR] [-i IN] [-o OUT] [products [products ...]]\\n\\nRun the eto code\\n\\npositional arguments:\\n  products              the products (netet, etasw ...) to process - example:\\n                        etasw netet\\n\\noptional arguments:\\n  -h, --help            show this help message and exit\\n  -y YEAR, --year YEAR  specify year or Annual or all example: -y 1999\\n  -i IN, --in IN        input prefix_path =\\n                        out/DelawareRiverBasin/Run09_13_2020/\\n  -o OUT, --out OUT     out_prefix_path = enduser/DelawareRiverBasin/Run09_13_\\n                        2020/ward_sandford_customer/\\n'"
      ]
     },
     "execution_count": 10,
     "metadata": {},
     "output_type": "execute_result"
    }
   ],
   "source": [
    "client.containers.run(\"tbutzer/etm_docker_image\", \"python3 api_etm.py --help\")"
   ]
  },
  {
   "cell_type": "code",
   "execution_count": 11,
   "metadata": {},
   "outputs": [
    {
     "name": "stdout",
     "output_type": "stream",
     "text": [
      "python3 api_etm.py -i out/DelawareRiverBasin/Run10_07_2020/ -o enduser/DelawareRiverBasin/drb150/ -y 2049 swf dummy\n"
     ]
    }
   ],
   "source": [
    "cmd_opt = '-i out/DelawareRiverBasin/Run10_07_2020/ -o enduser/DelawareRiverBasin/drb150/ -y 2049 swf dummy'\n",
    "cmd = 'python3 api_etm.py '\n",
    "full_cmd = cmd + cmd_opt\n",
    "print(full_cmd)"
   ]
  },
  {
   "cell_type": "code",
   "execution_count": 12,
   "metadata": {},
   "outputs": [],
   "source": [
    "#client.containers.run(\"tbutzer/etm_docker_image\", full_cmd, detach=True)"
   ]
  },
  {
   "cell_type": "code",
   "execution_count": 13,
   "metadata": {},
   "outputs": [],
   "source": [
    "running_containers = client.containers.list()"
   ]
  },
  {
   "cell_type": "code",
   "execution_count": 14,
   "metadata": {},
   "outputs": [],
   "source": [
    "#dir(running_containers[0])"
   ]
  },
  {
   "cell_type": "code",
   "execution_count": 15,
   "metadata": {},
   "outputs": [
    {
     "data": {
      "text/plain": [
       "'running'"
      ]
     },
     "execution_count": 15,
     "metadata": {},
     "output_type": "execute_result"
    }
   ],
   "source": [
    "running_containers[0].status"
   ]
  },
  {
   "cell_type": "code",
   "execution_count": 16,
   "metadata": {},
   "outputs": [
    {
     "data": {
      "text/plain": [
       "'ab2131088e'"
      ]
     },
     "execution_count": 16,
     "metadata": {},
     "output_type": "execute_result"
    }
   ],
   "source": [
    "running_containers[0].short_id"
   ]
  },
  {
   "cell_type": "code",
   "execution_count": 17,
   "metadata": {},
   "outputs": [
    {
     "data": {
      "text/plain": [
       "'ab2131088e016cb10631880b5e612433f25631deed0be38f4cb87c81ec61ff21'"
      ]
     },
     "execution_count": 17,
     "metadata": {},
     "output_type": "execute_result"
    }
   ],
   "source": [
    "running_containers[0].id"
   ]
  },
  {
   "cell_type": "code",
   "execution_count": 18,
   "metadata": {},
   "outputs": [
    {
     "data": {
      "text/plain": [
       "'distracted_blackwell'"
      ]
     },
     "execution_count": 18,
     "metadata": {},
     "output_type": "execute_result"
    }
   ],
   "source": [
    "running_containers[0].name"
   ]
  },
  {
   "cell_type": "code",
   "execution_count": 19,
   "metadata": {},
   "outputs": [
    {
     "data": {
      "text/plain": [
       "{'Id': 'ab2131088e016cb10631880b5e612433f25631deed0be38f4cb87c81ec61ff21',\n",
       " 'Created': '2020-10-16T12:43:58.506317625Z',\n",
       " 'Path': 'python3',\n",
       " 'Args': ['api_etm.py',\n",
       "  '-i',\n",
       "  'out/DelawareRiverBasin/Run10_07_2020/',\n",
       "  '-o',\n",
       "  'enduser/DelawareRiverBasin/drb150/',\n",
       "  '-y',\n",
       "  'years_2070_2079',\n",
       "  'swf',\n",
       "  'dummy'],\n",
       " 'State': {'Status': 'running',\n",
       "  'Running': True,\n",
       "  'Paused': False,\n",
       "  'Restarting': False,\n",
       "  'OOMKilled': False,\n",
       "  'Dead': False,\n",
       "  'Pid': 8198,\n",
       "  'ExitCode': 0,\n",
       "  'Error': '',\n",
       "  'StartedAt': '2020-10-16T12:44:00.800240594Z',\n",
       "  'FinishedAt': '0001-01-01T00:00:00Z'},\n",
       " 'Image': 'sha256:e46fa2c1c3c18a86ed81668e1cef5a8c7d4d58a94190bd2aa474b8b6456c5d6e',\n",
       " 'ResolvConfPath': '/var/lib/docker/containers/ab2131088e016cb10631880b5e612433f25631deed0be38f4cb87c81ec61ff21/resolv.conf',\n",
       " 'HostnamePath': '/var/lib/docker/containers/ab2131088e016cb10631880b5e612433f25631deed0be38f4cb87c81ec61ff21/hostname',\n",
       " 'HostsPath': '/var/lib/docker/containers/ab2131088e016cb10631880b5e612433f25631deed0be38f4cb87c81ec61ff21/hosts',\n",
       " 'LogPath': '/var/lib/docker/containers/ab2131088e016cb10631880b5e612433f25631deed0be38f4cb87c81ec61ff21/ab2131088e016cb10631880b5e612433f25631deed0be38f4cb87c81ec61ff21-json.log',\n",
       " 'Name': '/distracted_blackwell',\n",
       " 'RestartCount': 0,\n",
       " 'Driver': 'overlay2',\n",
       " 'Platform': 'linux',\n",
       " 'MountLabel': '',\n",
       " 'ProcessLabel': '',\n",
       " 'AppArmorProfile': 'docker-default',\n",
       " 'ExecIDs': None,\n",
       " 'HostConfig': {'Binds': None,\n",
       "  'ContainerIDFile': '',\n",
       "  'LogConfig': {'Type': 'json-file', 'Config': {}},\n",
       "  'NetworkMode': 'default',\n",
       "  'PortBindings': {},\n",
       "  'RestartPolicy': {'Name': 'no', 'MaximumRetryCount': 0},\n",
       "  'AutoRemove': False,\n",
       "  'VolumeDriver': '',\n",
       "  'VolumesFrom': None,\n",
       "  'CapAdd': None,\n",
       "  'CapDrop': None,\n",
       "  'Capabilities': None,\n",
       "  'Dns': [],\n",
       "  'DnsOptions': [],\n",
       "  'DnsSearch': [],\n",
       "  'ExtraHosts': None,\n",
       "  'GroupAdd': None,\n",
       "  'IpcMode': 'private',\n",
       "  'Cgroup': '',\n",
       "  'Links': None,\n",
       "  'OomScoreAdj': 0,\n",
       "  'PidMode': '',\n",
       "  'Privileged': False,\n",
       "  'PublishAllPorts': False,\n",
       "  'ReadonlyRootfs': False,\n",
       "  'SecurityOpt': None,\n",
       "  'UTSMode': '',\n",
       "  'UsernsMode': '',\n",
       "  'ShmSize': 67108864,\n",
       "  'Runtime': 'runc',\n",
       "  'ConsoleSize': [0, 0],\n",
       "  'Isolation': '',\n",
       "  'CpuShares': 0,\n",
       "  'Memory': 0,\n",
       "  'NanoCpus': 0,\n",
       "  'CgroupParent': '',\n",
       "  'BlkioWeight': 0,\n",
       "  'BlkioWeightDevice': [],\n",
       "  'BlkioDeviceReadBps': None,\n",
       "  'BlkioDeviceWriteBps': None,\n",
       "  'BlkioDeviceReadIOps': None,\n",
       "  'BlkioDeviceWriteIOps': None,\n",
       "  'CpuPeriod': 0,\n",
       "  'CpuQuota': 0,\n",
       "  'CpuRealtimePeriod': 0,\n",
       "  'CpuRealtimeRuntime': 0,\n",
       "  'CpusetCpus': '',\n",
       "  'CpusetMems': '',\n",
       "  'Devices': [],\n",
       "  'DeviceCgroupRules': None,\n",
       "  'DeviceRequests': None,\n",
       "  'KernelMemory': 0,\n",
       "  'KernelMemoryTCP': 0,\n",
       "  'MemoryReservation': 0,\n",
       "  'MemorySwap': 0,\n",
       "  'MemorySwappiness': None,\n",
       "  'OomKillDisable': False,\n",
       "  'PidsLimit': None,\n",
       "  'Ulimits': None,\n",
       "  'CpuCount': 0,\n",
       "  'CpuPercent': 0,\n",
       "  'IOMaximumIOps': 0,\n",
       "  'IOMaximumBandwidth': 0,\n",
       "  'MaskedPaths': ['/proc/asound',\n",
       "   '/proc/acpi',\n",
       "   '/proc/kcore',\n",
       "   '/proc/keys',\n",
       "   '/proc/latency_stats',\n",
       "   '/proc/timer_list',\n",
       "   '/proc/timer_stats',\n",
       "   '/proc/sched_debug',\n",
       "   '/proc/scsi',\n",
       "   '/sys/firmware'],\n",
       "  'ReadonlyPaths': ['/proc/bus',\n",
       "   '/proc/fs',\n",
       "   '/proc/irq',\n",
       "   '/proc/sys',\n",
       "   '/proc/sysrq-trigger']},\n",
       " 'GraphDriver': {'Data': {'LowerDir': '/var/lib/docker/overlay2/03da94486a91b915ab695de7f92216e255781850ad4ee9bf85addb160c3bba5c-init/diff:/var/lib/docker/overlay2/4a9573eab2cb625062aef81d4d414a1f927c45ec1b070df0eb182c5dcb9d1d97/diff:/var/lib/docker/overlay2/270b012fee9e56c5829dada539e8d940d00a5beec5a0466bade0829f35460ef0/diff:/var/lib/docker/overlay2/8b8770d485748cd25809f8fed8b0c12a3e0b1ed9b1a5c5516867d19d7bd60d37/diff:/var/lib/docker/overlay2/39c0fb718422835b8c1ab69dd3677e0cf37d111ac71fbe458cead78e2a1ddf32/diff:/var/lib/docker/overlay2/9196d992187708ef2f84afd75189b32033f5ad454d8d73d8df8dba8250c4d9dd/diff:/var/lib/docker/overlay2/f2bcad9f61d8bffccd726266bd1909a15b72272dd45d3b6d7bbc1f45a943d2e8/diff:/var/lib/docker/overlay2/f4a3eb386288dca879566f2049117b42f39606e710be77f15b820e92615d5b94/diff:/var/lib/docker/overlay2/1aa8caf3407b3a6fce212116b3b2d1358982c5b40e70d1df2b01d3a0e38de6de/diff:/var/lib/docker/overlay2/bdf5c3d93e7be67009e3d3d65064fda552a73b65e0174ca38306250f97077e4e/diff:/var/lib/docker/overlay2/3358912e08199992f37eb9fbea7e6b2c214cc89106444cafd200747d89826a3f/diff:/var/lib/docker/overlay2/6947b0ac664d67887881f812f7ad2cc9fcf7d0ed9d3c28c035e2ea8c21067f6e/diff:/var/lib/docker/overlay2/aa0f7b59f5331fa6610dc91fe8794783ded7adaccd3e5ca9edfca18bdd953bdd/diff:/var/lib/docker/overlay2/94b92ab5ce9923c1b10da61c96a98cd67b5fec3a3e2030f607290f8aa72305b3/diff:/var/lib/docker/overlay2/9b9118dd986529ffc16d54f9143d13d61a3f6b365cdd8ae80c4bdf16e86a5aa8/diff:/var/lib/docker/overlay2/0a0a51ec8f657e64532cc063e48934a40d62bc99fadaab962c6c25e71439566c/diff:/var/lib/docker/overlay2/1ba8b37052df0a91f0b6abe618b014ae32b2c84a5091bbe60c29dd521ae30ce4/diff:/var/lib/docker/overlay2/aca82cb98317e4accdace4957fdf51020b5cd44fdd6c3f03daa2ea59069e551c/diff:/var/lib/docker/overlay2/99b6a8fa2eee0437ed0e6ee0979430489d7e709e08cc364e0b1e5aed2a1e9e2b/diff',\n",
       "   'MergedDir': '/var/lib/docker/overlay2/03da94486a91b915ab695de7f92216e255781850ad4ee9bf85addb160c3bba5c/merged',\n",
       "   'UpperDir': '/var/lib/docker/overlay2/03da94486a91b915ab695de7f92216e255781850ad4ee9bf85addb160c3bba5c/diff',\n",
       "   'WorkDir': '/var/lib/docker/overlay2/03da94486a91b915ab695de7f92216e255781850ad4ee9bf85addb160c3bba5c/work'},\n",
       "  'Name': 'overlay2'},\n",
       " 'Mounts': [],\n",
       " 'Config': {'Hostname': 'ab2131088e01',\n",
       "  'Domainname': '',\n",
       "  'User': '',\n",
       "  'AttachStdin': True,\n",
       "  'AttachStdout': True,\n",
       "  'AttachStderr': True,\n",
       "  'Tty': False,\n",
       "  'OpenStdin': True,\n",
       "  'StdinOnce': True,\n",
       "  'Env': ['PATH=/usr/local/bin:/usr/local/sbin:/usr/local/bin:/usr/sbin:/usr/bin:/sbin:/bin',\n",
       "   'LANG=C.UTF-8',\n",
       "   'GPG_KEY=E3FF2839C048B25C084DEBE9B26995E310250568',\n",
       "   'PYTHON_VERSION=3.8.5',\n",
       "   'PYTHON_PIP_VERSION=20.2.3',\n",
       "   'PYTHON_GET_PIP_URL=https://github.com/pypa/get-pip/raw/fa7dc83944936bf09a0e4cb5d5ec852c0d256599/get-pip.py',\n",
       "   'PYTHON_GET_PIP_SHA256=6e0bb0a2c2533361d7f297ed547237caf1b7507f197835974c0dd7eba998c53c',\n",
       "   'VERS=1.1',\n",
       "   'TONY_VERS=1.9'],\n",
       "  'Cmd': ['python3',\n",
       "   'api_etm.py',\n",
       "   '-i',\n",
       "   'out/DelawareRiverBasin/Run10_07_2020/',\n",
       "   '-o',\n",
       "   'enduser/DelawareRiverBasin/drb150/',\n",
       "   '-y',\n",
       "   'years_2070_2079',\n",
       "   'swf',\n",
       "   'dummy'],\n",
       "  'Image': 'tbutzer/etm_docker_image',\n",
       "  'Volumes': None,\n",
       "  'WorkingDir': '/home/etm/api_etm',\n",
       "  'Entrypoint': None,\n",
       "  'OnBuild': None,\n",
       "  'Labels': {}},\n",
       " 'NetworkSettings': {'Bridge': '',\n",
       "  'SandboxID': '8ab7bfcb26a1ab5ea2df023d44e24853353bd4787a339a9d80abd223f983936f',\n",
       "  'HairpinMode': False,\n",
       "  'LinkLocalIPv6Address': '',\n",
       "  'LinkLocalIPv6PrefixLen': 0,\n",
       "  'Ports': {},\n",
       "  'SandboxKey': '/var/run/docker/netns/8ab7bfcb26a1',\n",
       "  'SecondaryIPAddresses': None,\n",
       "  'SecondaryIPv6Addresses': None,\n",
       "  'EndpointID': '4999b29bed273a380a708448c628a4c6cccb0badf49854496bb1019a8465fbb1',\n",
       "  'Gateway': '172.17.0.1',\n",
       "  'GlobalIPv6Address': '',\n",
       "  'GlobalIPv6PrefixLen': 0,\n",
       "  'IPAddress': '172.17.0.16',\n",
       "  'IPPrefixLen': 16,\n",
       "  'IPv6Gateway': '',\n",
       "  'MacAddress': '02:42:ac:11:00:10',\n",
       "  'Networks': {'bridge': {'IPAMConfig': None,\n",
       "    'Links': None,\n",
       "    'Aliases': None,\n",
       "    'NetworkID': '90ea5ac9ac9885b0679c77a549eb5788abd406fb6a4f4dd77232cf6711750551',\n",
       "    'EndpointID': '4999b29bed273a380a708448c628a4c6cccb0badf49854496bb1019a8465fbb1',\n",
       "    'Gateway': '172.17.0.1',\n",
       "    'IPAddress': '172.17.0.16',\n",
       "    'IPPrefixLen': 16,\n",
       "    'IPv6Gateway': '',\n",
       "    'GlobalIPv6Address': '',\n",
       "    'GlobalIPv6PrefixLen': 0,\n",
       "    'MacAddress': '02:42:ac:11:00:10',\n",
       "    'DriverOpts': None}}}}"
      ]
     },
     "execution_count": 19,
     "metadata": {},
     "output_type": "execute_result"
    }
   ],
   "source": [
    "running_containers[0].attrs"
   ]
  },
  {
   "cell_type": "code",
   "execution_count": 20,
   "metadata": {},
   "outputs": [],
   "source": [
    "def _return_last_write(container):\n",
    "    bytesThing = container.logs()\n",
    "    newStringThing = bytesThing.decode(encoding='UTF-8')\n",
    "    lines = newStringThing.split('\\n')\n",
    "    last_write='bogus'\n",
    "    for l in lines:\n",
    "        if 'Writing' in l:\n",
    "            #print(l)\n",
    "            last_write = l\n",
    "    return (last_write)"
   ]
  },
  {
   "cell_type": "code",
   "execution_count": 21,
   "metadata": {},
   "outputs": [
    {
     "name": "stdout",
     "output_type": "stream",
     "text": [
      "Writing output to: /home/etm/api_etm/COG_swf_2077121.tif\n",
      "Writing output to: /home/etm/api_etm/COG_swf_2087118.tif\n",
      "Writing output to: /home/etm/api_etm/COG_swf_2017068.tif\n",
      "Writing output to: /home/etm/api_etm/COG_swf_1987108.tif\n",
      "Writing output to: /home/etm/api_etm/COG_swf_1967105.tif\n",
      "Writing output to: /home/etm/api_etm/COG_swf_1997114.tif\n",
      "Writing output to: /home/etm/api_etm/COG_swf_2057118.tif\n",
      "Writing output to: /home/etm/api_etm/COG_swf_2007071.tif\n",
      "Writing output to: /home/etm/api_etm/COG_swf_2067116.tif\n",
      "Writing output to: /home/etm/api_etm/COG_swf_2037114.tif\n",
      "Writing output to: /home/etm/api_etm/COG_swf_2027095.tif\n",
      "Writing output to: /home/etm/api_etm/COG_swf_1977104.tif\n",
      "Writing output to: /home/etm/api_etm/COG_swf_2047121.tif\n",
      "Writing output to: /home/etm/api_etm/COG_swf_2097133.tif\n",
      "Writing output to: /home/etm/api_etm/COG_swf_1957102.tif\n"
     ]
    }
   ],
   "source": [
    "for c in running_containers:\n",
    "    lw = _return_last_write(c)\n",
    "    print(lw)"
   ]
  },
  {
   "cell_type": "code",
   "execution_count": 22,
   "metadata": {},
   "outputs": [],
   "source": [
    "lws=[]\n",
    "for c in running_containers:\n",
    "    lw = _return_last_write(c)\n",
    "    #print(lw)\n",
    "    lws.append(lw)"
   ]
  },
  {
   "cell_type": "code",
   "execution_count": 23,
   "metadata": {},
   "outputs": [
    {
     "data": {
      "text/plain": [
       "['Writing output to: /home/etm/api_etm/COG_swf_2077123.tif',\n",
       " 'Writing output to: /home/etm/api_etm/COG_swf_2087120.tif',\n",
       " 'Writing output to: /home/etm/api_etm/COG_swf_2017070.tif',\n",
       " 'Writing output to: /home/etm/api_etm/COG_swf_1987110.tif',\n",
       " 'Writing output to: /home/etm/api_etm/COG_swf_1967107.tif',\n",
       " 'Writing output to: /home/etm/api_etm/COG_swf_1997115.tif',\n",
       " 'Writing output to: /home/etm/api_etm/COG_swf_2057120.tif',\n",
       " 'Writing output to: /home/etm/api_etm/COG_swf_2007072.tif',\n",
       " 'Writing output to: /home/etm/api_etm/COG_swf_2067117.tif',\n",
       " 'Writing output to: /home/etm/api_etm/COG_swf_2037115.tif',\n",
       " 'Writing output to: /home/etm/api_etm/COG_swf_2027097.tif',\n",
       " 'Writing output to: /home/etm/api_etm/COG_swf_1977105.tif',\n",
       " 'Writing output to: /home/etm/api_etm/COG_swf_2047123.tif',\n",
       " 'Writing output to: /home/etm/api_etm/COG_swf_2097135.tif',\n",
       " 'Writing output to: /home/etm/api_etm/COG_swf_1957104.tif']"
      ]
     },
     "execution_count": 23,
     "metadata": {},
     "output_type": "execute_result"
    }
   ],
   "source": [
    "lws"
   ]
  },
  {
   "cell_type": "code",
   "execution_count": 24,
   "metadata": {},
   "outputs": [],
   "source": [
    "a = lws.sort()"
   ]
  },
  {
   "cell_type": "code",
   "execution_count": 25,
   "metadata": {},
   "outputs": [
    {
     "data": {
      "text/plain": [
       "NoneType"
      ]
     },
     "execution_count": 25,
     "metadata": {},
     "output_type": "execute_result"
    }
   ],
   "source": [
    "type(a)"
   ]
  },
  {
   "cell_type": "code",
   "execution_count": 26,
   "metadata": {},
   "outputs": [
    {
     "data": {
      "text/plain": [
       "['Writing output to: /home/etm/api_etm/COG_swf_1957104.tif',\n",
       " 'Writing output to: /home/etm/api_etm/COG_swf_1967107.tif',\n",
       " 'Writing output to: /home/etm/api_etm/COG_swf_1977105.tif',\n",
       " 'Writing output to: /home/etm/api_etm/COG_swf_1987110.tif',\n",
       " 'Writing output to: /home/etm/api_etm/COG_swf_1997115.tif',\n",
       " 'Writing output to: /home/etm/api_etm/COG_swf_2007072.tif',\n",
       " 'Writing output to: /home/etm/api_etm/COG_swf_2017070.tif',\n",
       " 'Writing output to: /home/etm/api_etm/COG_swf_2027097.tif',\n",
       " 'Writing output to: /home/etm/api_etm/COG_swf_2037115.tif',\n",
       " 'Writing output to: /home/etm/api_etm/COG_swf_2047123.tif',\n",
       " 'Writing output to: /home/etm/api_etm/COG_swf_2057120.tif',\n",
       " 'Writing output to: /home/etm/api_etm/COG_swf_2067117.tif',\n",
       " 'Writing output to: /home/etm/api_etm/COG_swf_2077123.tif',\n",
       " 'Writing output to: /home/etm/api_etm/COG_swf_2087120.tif',\n",
       " 'Writing output to: /home/etm/api_etm/COG_swf_2097135.tif']"
      ]
     },
     "execution_count": 26,
     "metadata": {},
     "output_type": "execute_result"
    }
   ],
   "source": [
    "lws"
   ]
  },
  {
   "cell_type": "code",
   "execution_count": 38,
   "metadata": {},
   "outputs": [],
   "source": [
    "images = client.images.list()"
   ]
  },
  {
   "cell_type": "code",
   "execution_count": 39,
   "metadata": {},
   "outputs": [
    {
     "data": {
      "text/plain": [
       "['__class__',\n",
       " '__delattr__',\n",
       " '__dict__',\n",
       " '__dir__',\n",
       " '__doc__',\n",
       " '__eq__',\n",
       " '__format__',\n",
       " '__ge__',\n",
       " '__getattribute__',\n",
       " '__gt__',\n",
       " '__hash__',\n",
       " '__init__',\n",
       " '__init_subclass__',\n",
       " '__le__',\n",
       " '__lt__',\n",
       " '__module__',\n",
       " '__ne__',\n",
       " '__new__',\n",
       " '__reduce__',\n",
       " '__reduce_ex__',\n",
       " '__repr__',\n",
       " '__setattr__',\n",
       " '__sizeof__',\n",
       " '__str__',\n",
       " '__subclasshook__',\n",
       " '__weakref__',\n",
       " 'attrs',\n",
       " 'client',\n",
       " 'collection',\n",
       " 'history',\n",
       " 'id',\n",
       " 'id_attribute',\n",
       " 'labels',\n",
       " 'reload',\n",
       " 'save',\n",
       " 'short_id',\n",
       " 'tag',\n",
       " 'tags']"
      ]
     },
     "execution_count": 39,
     "metadata": {},
     "output_type": "execute_result"
    }
   ],
   "source": [
    "dir(images[0])"
   ]
  },
  {
   "cell_type": "code",
   "execution_count": 40,
   "metadata": {},
   "outputs": [
    {
     "name": "stdout",
     "output_type": "stream",
     "text": [
      "['tbutzer/etm_docker_image:latest']\n"
     ]
    }
   ],
   "source": [
    "print(images[0].tags)"
   ]
  },
  {
   "cell_type": "code",
   "execution_count": 41,
   "metadata": {},
   "outputs": [],
   "source": [
    "for image in images:\n",
    "    #print(image.tags)\n",
    "    #print(type(image.tags))\n",
    "    if not 'etm' in image.tags[0] and not 'ubuntu:latest' in image.tags[0]:\n",
    "        print(image)\n",
    "        # client.images.remove(image.tags[0])"
   ]
  },
  {
   "cell_type": "code",
   "execution_count": 42,
   "metadata": {},
   "outputs": [
    {
     "name": "stdout",
     "output_type": "stream",
     "text": [
      "['tbutzer/etm_docker_image:latest']\n",
      "['ubuntu:latest']\n"
     ]
    }
   ],
   "source": [
    "for image in images:\n",
    "    print(image.tags)\n",
    "    "
   ]
  },
  {
   "cell_type": "code",
   "execution_count": 43,
   "metadata": {},
   "outputs": [
    {
     "name": "stdout",
     "output_type": "stream",
     "text": [
      "['tbutzer/etm_docker_image:latest']\n",
      "['ubuntu:latest']\n"
     ]
    }
   ],
   "source": [
    "images = client.images.list()\n",
    "for image in images:\n",
    "    print(image.tags)"
   ]
  },
  {
   "cell_type": "code",
   "execution_count": null,
   "metadata": {},
   "outputs": [],
   "source": []
  }
 ],
 "metadata": {
  "kernelspec": {
   "display_name": "Python 3",
   "language": "python",
   "name": "python3"
  },
  "language_info": {
   "codemirror_mode": {
    "name": "ipython",
    "version": 3
   },
   "file_extension": ".py",
   "mimetype": "text/x-python",
   "name": "python",
   "nbconvert_exporter": "python",
   "pygments_lexer": "ipython3",
   "version": "3.7.3"
  }
 },
 "nbformat": 4,
 "nbformat_minor": 4
}
