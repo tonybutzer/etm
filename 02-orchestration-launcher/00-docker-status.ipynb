{
 "cells": [
  {
   "cell_type": "markdown",
   "metadata": {},
   "source": [
    "# Live example of our Mosaic Step"
   ]
  },
  {
   "cell_type": "code",
   "execution_count": 1,
   "metadata": {},
   "outputs": [],
   "source": [
    "import docker"
   ]
  },
  {
   "cell_type": "code",
   "execution_count": 2,
   "metadata": {},
   "outputs": [],
   "source": [
    "#! pip install --user docker"
   ]
  },
  {
   "cell_type": "code",
   "execution_count": 3,
   "metadata": {},
   "outputs": [],
   "source": [
    "#! docker ps"
   ]
  },
  {
   "cell_type": "code",
   "execution_count": 4,
   "metadata": {},
   "outputs": [],
   "source": [
    "# ubuntu@ip-10-12-68-246:~$ sudo usermod -aG docker jupyter-butzer"
   ]
  },
  {
   "cell_type": "code",
   "execution_count": 5,
   "metadata": {},
   "outputs": [
    {
     "name": "stdout",
     "output_type": "stream",
     "text": [
      "CONTAINER ID        IMAGE                      COMMAND                  CREATED              STATUS              PORTS               NAMES\r\n",
      "2f863848e061        tbutzer/etm_docker_image   \"python3 api_etm.py …\"   About a minute ago   Up About a minute                       nostalgic_nobel\r\n",
      "da9c49d95ae2        tbutzer/etm_docker_image   \"python3 api_etm.py …\"   About a minute ago   Up About a minute                       hopeful_aryabhata\r\n",
      "f1523760acae        tbutzer/etm_docker_image   \"python3 api_etm.py …\"   About a minute ago   Up About a minute                       nervous_goldwasser\r\n",
      "a90f81ab32a7        tbutzer/etm_docker_image   \"python3 api_etm.py …\"   About a minute ago   Up About a minute                       cool_fermat\r\n",
      "076221b15180        tbutzer/etm_docker_image   \"python3 api_etm.py …\"   18 minutes ago       Up 18 minutes                           strange_wilson\r\n",
      "0aa702601088        tbutzer/etm_docker_image   \"python3 api_etm.py …\"   26 hours ago         Up 26 hours                             brave_cannon\r\n",
      "ac2b3b7df2e8        tbutzer/etm_docker_image   \"python3 api_etm.py …\"   26 hours ago         Up 26 hours                             peaceful_cerf\r\n",
      "c35615fb8c13        tbutzer/etm_docker_image   \"python3 api_etm.py …\"   26 hours ago         Up 26 hours                             youthful_heyrovsky\r\n",
      "b554d6f7a6cf        tbutzer/etm_docker_image   \"python3 api_etm.py …\"   26 hours ago         Up 26 hours                             dreamy_colden\r\n",
      "f396e89a945d        tbutzer/etm_docker_image   \"python3 api_etm.py …\"   26 hours ago         Up 26 hours                             wizardly_zhukovsky\r\n",
      "9dbb8a6abc84        tbutzer/etm_docker_image   \"python3 api_etm.py …\"   26 hours ago         Up 26 hours                             magical_shockley\r\n",
      "ee847b645191        tbutzer/etm_docker_image   \"python3 api_etm.py …\"   26 hours ago         Up 26 hours                             pensive_heyrovsky\r\n",
      "f4cdc8c7353a        tbutzer/etm_docker_image   \"python3 api_etm.py …\"   26 hours ago         Up 26 hours                             hardcore_easley\r\n",
      "784e08814661        tbutzer/etm_docker_image   \"python3 api_etm.py …\"   26 hours ago         Up 26 hours                             sleepy_proskuriakova\r\n",
      "7116744694bd        tbutzer/etm_docker_image   \"python3 api_etm.py …\"   26 hours ago         Up 26 hours                             angry_cray\r\n",
      "efb116934aa2        tbutzer/etm_docker_image   \"python3 api_etm.py …\"   26 hours ago         Up 26 hours                             admiring_margulis\r\n",
      "aa58adb5d31e        tbutzer/etm_docker_image   \"python3 api_etm.py …\"   26 hours ago         Up 26 hours                             compassionate_burnell\r\n"
     ]
    }
   ],
   "source": [
    "! docker ps"
   ]
  },
  {
   "cell_type": "code",
   "execution_count": 6,
   "metadata": {},
   "outputs": [],
   "source": [
    "# relogin"
   ]
  },
  {
   "cell_type": "code",
   "execution_count": 7,
   "metadata": {},
   "outputs": [
    {
     "name": "stdout",
     "output_type": "stream",
     "text": [
      "uid=1004(jupyter-butzer) gid=1006(jupyter-butzer) groups=1006(jupyter-butzer),999(docker),1002(jupyterhub-users)\r\n"
     ]
    }
   ],
   "source": [
    "! id"
   ]
  },
  {
   "cell_type": "markdown",
   "metadata": {},
   "source": [
    "# https://docker-py.readthedocs.io/en/stable/"
   ]
  },
  {
   "cell_type": "code",
   "execution_count": 8,
   "metadata": {},
   "outputs": [],
   "source": [
    "client = docker.from_env()"
   ]
  },
  {
   "cell_type": "code",
   "execution_count": 9,
   "metadata": {},
   "outputs": [],
   "source": [
    "#client.containers.run(\"ubuntu\", \"echo hello world\", detach=True)\n"
   ]
  },
  {
   "cell_type": "code",
   "execution_count": 10,
   "metadata": {},
   "outputs": [
    {
     "data": {
      "text/plain": [
       "b'usage: api_etm.py [-h] [-y YEAR] [-i IN] [-o OUT] [products [products ...]]\\n\\nRun the eto code\\n\\npositional arguments:\\n  products              the products (netet, etasw ...) to process - example:\\n                        etasw netet\\n\\noptional arguments:\\n  -h, --help            show this help message and exit\\n  -y YEAR, --year YEAR  specify year or Annual or all example: -y 1999\\n  -i IN, --in IN        input prefix_path =\\n                        out/DelawareRiverBasin/Run09_13_2020/\\n  -o OUT, --out OUT     out_prefix_path = enduser/DelawareRiverBasin/Run09_13_\\n                        2020/ward_sandford_customer/\\n'"
      ]
     },
     "execution_count": 10,
     "metadata": {},
     "output_type": "execute_result"
    }
   ],
   "source": [
    "client.containers.run(\"tbutzer/etm_docker_image\", \"python3 api_etm.py --help\")"
   ]
  },
  {
   "cell_type": "code",
   "execution_count": 11,
   "metadata": {},
   "outputs": [
    {
     "name": "stdout",
     "output_type": "stream",
     "text": [
      "python3 api_etm.py -i out/DelawareRiverBasin/Run10_07_2020/ -o enduser/DelawareRiverBasin/drb150/ -y 2049 swf dummy\n"
     ]
    }
   ],
   "source": [
    "cmd_opt = '-i out/DelawareRiverBasin/Run10_07_2020/ -o enduser/DelawareRiverBasin/drb150/ -y 2049 swf dummy'\n",
    "cmd = 'python3 api_etm.py '\n",
    "full_cmd = cmd + cmd_opt\n",
    "print(full_cmd)"
   ]
  },
  {
   "cell_type": "code",
   "execution_count": 12,
   "metadata": {},
   "outputs": [],
   "source": [
    "#client.containers.run(\"tbutzer/etm_docker_image\", full_cmd, detach=True)"
   ]
  },
  {
   "cell_type": "code",
   "execution_count": 13,
   "metadata": {},
   "outputs": [],
   "source": [
    "running_containers = client.containers.list()"
   ]
  },
  {
   "cell_type": "code",
   "execution_count": 14,
   "metadata": {},
   "outputs": [],
   "source": [
    "#dir(running_containers[0])"
   ]
  },
  {
   "cell_type": "code",
   "execution_count": 15,
   "metadata": {},
   "outputs": [
    {
     "data": {
      "text/plain": [
       "'running'"
      ]
     },
     "execution_count": 15,
     "metadata": {},
     "output_type": "execute_result"
    }
   ],
   "source": [
    "running_containers[0].status"
   ]
  },
  {
   "cell_type": "code",
   "execution_count": 16,
   "metadata": {},
   "outputs": [
    {
     "data": {
      "text/plain": [
       "'2f863848e0'"
      ]
     },
     "execution_count": 16,
     "metadata": {},
     "output_type": "execute_result"
    }
   ],
   "source": [
    "running_containers[0].short_id"
   ]
  },
  {
   "cell_type": "code",
   "execution_count": 17,
   "metadata": {},
   "outputs": [
    {
     "data": {
      "text/plain": [
       "'2f863848e06130473c185c0dd5a93848031b9eb245de6d8ac7890994f5020971'"
      ]
     },
     "execution_count": 17,
     "metadata": {},
     "output_type": "execute_result"
    }
   ],
   "source": [
    "running_containers[0].id"
   ]
  },
  {
   "cell_type": "code",
   "execution_count": 18,
   "metadata": {},
   "outputs": [
    {
     "data": {
      "text/plain": [
       "'nostalgic_nobel'"
      ]
     },
     "execution_count": 18,
     "metadata": {},
     "output_type": "execute_result"
    }
   ],
   "source": [
    "running_containers[0].name"
   ]
  },
  {
   "cell_type": "markdown",
   "metadata": {},
   "source": [
    "# 150 years each of the 15 docker containers does 10 yesr\n",
    "\n",
    "## here are their names"
   ]
  },
  {
   "cell_type": "code",
   "execution_count": 19,
   "metadata": {},
   "outputs": [
    {
     "name": "stdout",
     "output_type": "stream",
     "text": [
      "1 nostalgic_nobel\n",
      "2 hopeful_aryabhata\n",
      "3 nervous_goldwasser\n",
      "4 cool_fermat\n",
      "5 strange_wilson\n",
      "6 brave_cannon\n",
      "7 peaceful_cerf\n",
      "8 youthful_heyrovsky\n",
      "9 dreamy_colden\n",
      "10 wizardly_zhukovsky\n",
      "11 magical_shockley\n",
      "12 pensive_heyrovsky\n",
      "13 hardcore_easley\n",
      "14 sleepy_proskuriakova\n",
      "15 angry_cray\n",
      "16 admiring_margulis\n",
      "17 compassionate_burnell\n"
     ]
    }
   ],
   "source": [
    "cnt=0\n",
    "for c in running_containers:\n",
    "    cnt=cnt+1\n",
    "    print(cnt, c.name)"
   ]
  },
  {
   "cell_type": "code",
   "execution_count": 20,
   "metadata": {},
   "outputs": [
    {
     "data": {
      "text/plain": [
       "{'Id': '2f863848e06130473c185c0dd5a93848031b9eb245de6d8ac7890994f5020971',\n",
       " 'Created': '2020-10-19T15:36:02.786841257Z',\n",
       " 'Path': 'python3',\n",
       " 'Args': ['api_etm.py',\n",
       "  '-i',\n",
       "  'out/DelawareRiverBasin/Run10_07_2020/',\n",
       "  '-o',\n",
       "  'enduser/DelawareRiverBasin/drb150/',\n",
       "  '-y',\n",
       "  'Annual',\n",
       "  'netet',\n",
       "  'dummy'],\n",
       " 'State': {'Status': 'running',\n",
       "  'Running': True,\n",
       "  'Paused': False,\n",
       "  'Restarting': False,\n",
       "  'OOMKilled': False,\n",
       "  'Dead': False,\n",
       "  'Pid': 20998,\n",
       "  'ExitCode': 0,\n",
       "  'Error': '',\n",
       "  'StartedAt': '2020-10-19T15:36:03.742641397Z',\n",
       "  'FinishedAt': '0001-01-01T00:00:00Z'},\n",
       " 'Image': 'sha256:e46fa2c1c3c18a86ed81668e1cef5a8c7d4d58a94190bd2aa474b8b6456c5d6e',\n",
       " 'ResolvConfPath': '/var/lib/docker/containers/2f863848e06130473c185c0dd5a93848031b9eb245de6d8ac7890994f5020971/resolv.conf',\n",
       " 'HostnamePath': '/var/lib/docker/containers/2f863848e06130473c185c0dd5a93848031b9eb245de6d8ac7890994f5020971/hostname',\n",
       " 'HostsPath': '/var/lib/docker/containers/2f863848e06130473c185c0dd5a93848031b9eb245de6d8ac7890994f5020971/hosts',\n",
       " 'LogPath': '/var/lib/docker/containers/2f863848e06130473c185c0dd5a93848031b9eb245de6d8ac7890994f5020971/2f863848e06130473c185c0dd5a93848031b9eb245de6d8ac7890994f5020971-json.log',\n",
       " 'Name': '/nostalgic_nobel',\n",
       " 'RestartCount': 0,\n",
       " 'Driver': 'overlay2',\n",
       " 'Platform': 'linux',\n",
       " 'MountLabel': '',\n",
       " 'ProcessLabel': '',\n",
       " 'AppArmorProfile': 'docker-default',\n",
       " 'ExecIDs': None,\n",
       " 'HostConfig': {'Binds': None,\n",
       "  'ContainerIDFile': '',\n",
       "  'LogConfig': {'Type': 'json-file', 'Config': {}},\n",
       "  'NetworkMode': 'default',\n",
       "  'PortBindings': {},\n",
       "  'RestartPolicy': {'Name': 'no', 'MaximumRetryCount': 0},\n",
       "  'AutoRemove': False,\n",
       "  'VolumeDriver': '',\n",
       "  'VolumesFrom': None,\n",
       "  'CapAdd': None,\n",
       "  'CapDrop': None,\n",
       "  'Capabilities': None,\n",
       "  'Dns': [],\n",
       "  'DnsOptions': [],\n",
       "  'DnsSearch': [],\n",
       "  'ExtraHosts': None,\n",
       "  'GroupAdd': None,\n",
       "  'IpcMode': 'private',\n",
       "  'Cgroup': '',\n",
       "  'Links': None,\n",
       "  'OomScoreAdj': 0,\n",
       "  'PidMode': '',\n",
       "  'Privileged': False,\n",
       "  'PublishAllPorts': False,\n",
       "  'ReadonlyRootfs': False,\n",
       "  'SecurityOpt': None,\n",
       "  'UTSMode': '',\n",
       "  'UsernsMode': '',\n",
       "  'ShmSize': 67108864,\n",
       "  'Runtime': 'runc',\n",
       "  'ConsoleSize': [0, 0],\n",
       "  'Isolation': '',\n",
       "  'CpuShares': 0,\n",
       "  'Memory': 0,\n",
       "  'NanoCpus': 0,\n",
       "  'CgroupParent': '',\n",
       "  'BlkioWeight': 0,\n",
       "  'BlkioWeightDevice': [],\n",
       "  'BlkioDeviceReadBps': None,\n",
       "  'BlkioDeviceWriteBps': None,\n",
       "  'BlkioDeviceReadIOps': None,\n",
       "  'BlkioDeviceWriteIOps': None,\n",
       "  'CpuPeriod': 0,\n",
       "  'CpuQuota': 0,\n",
       "  'CpuRealtimePeriod': 0,\n",
       "  'CpuRealtimeRuntime': 0,\n",
       "  'CpusetCpus': '',\n",
       "  'CpusetMems': '',\n",
       "  'Devices': [],\n",
       "  'DeviceCgroupRules': None,\n",
       "  'DeviceRequests': None,\n",
       "  'KernelMemory': 0,\n",
       "  'KernelMemoryTCP': 0,\n",
       "  'MemoryReservation': 0,\n",
       "  'MemorySwap': 0,\n",
       "  'MemorySwappiness': None,\n",
       "  'OomKillDisable': False,\n",
       "  'PidsLimit': None,\n",
       "  'Ulimits': None,\n",
       "  'CpuCount': 0,\n",
       "  'CpuPercent': 0,\n",
       "  'IOMaximumIOps': 0,\n",
       "  'IOMaximumBandwidth': 0,\n",
       "  'MaskedPaths': ['/proc/asound',\n",
       "   '/proc/acpi',\n",
       "   '/proc/kcore',\n",
       "   '/proc/keys',\n",
       "   '/proc/latency_stats',\n",
       "   '/proc/timer_list',\n",
       "   '/proc/timer_stats',\n",
       "   '/proc/sched_debug',\n",
       "   '/proc/scsi',\n",
       "   '/sys/firmware'],\n",
       "  'ReadonlyPaths': ['/proc/bus',\n",
       "   '/proc/fs',\n",
       "   '/proc/irq',\n",
       "   '/proc/sys',\n",
       "   '/proc/sysrq-trigger']},\n",
       " 'GraphDriver': {'Data': {'LowerDir': '/var/lib/docker/overlay2/6fcb6df359866cd96b48b2e712e5f9ac4adf9199c57be1f4eff69e418c9b11ee-init/diff:/var/lib/docker/overlay2/4a9573eab2cb625062aef81d4d414a1f927c45ec1b070df0eb182c5dcb9d1d97/diff:/var/lib/docker/overlay2/270b012fee9e56c5829dada539e8d940d00a5beec5a0466bade0829f35460ef0/diff:/var/lib/docker/overlay2/8b8770d485748cd25809f8fed8b0c12a3e0b1ed9b1a5c5516867d19d7bd60d37/diff:/var/lib/docker/overlay2/39c0fb718422835b8c1ab69dd3677e0cf37d111ac71fbe458cead78e2a1ddf32/diff:/var/lib/docker/overlay2/9196d992187708ef2f84afd75189b32033f5ad454d8d73d8df8dba8250c4d9dd/diff:/var/lib/docker/overlay2/f2bcad9f61d8bffccd726266bd1909a15b72272dd45d3b6d7bbc1f45a943d2e8/diff:/var/lib/docker/overlay2/f4a3eb386288dca879566f2049117b42f39606e710be77f15b820e92615d5b94/diff:/var/lib/docker/overlay2/1aa8caf3407b3a6fce212116b3b2d1358982c5b40e70d1df2b01d3a0e38de6de/diff:/var/lib/docker/overlay2/bdf5c3d93e7be67009e3d3d65064fda552a73b65e0174ca38306250f97077e4e/diff:/var/lib/docker/overlay2/3358912e08199992f37eb9fbea7e6b2c214cc89106444cafd200747d89826a3f/diff:/var/lib/docker/overlay2/6947b0ac664d67887881f812f7ad2cc9fcf7d0ed9d3c28c035e2ea8c21067f6e/diff:/var/lib/docker/overlay2/aa0f7b59f5331fa6610dc91fe8794783ded7adaccd3e5ca9edfca18bdd953bdd/diff:/var/lib/docker/overlay2/94b92ab5ce9923c1b10da61c96a98cd67b5fec3a3e2030f607290f8aa72305b3/diff:/var/lib/docker/overlay2/9b9118dd986529ffc16d54f9143d13d61a3f6b365cdd8ae80c4bdf16e86a5aa8/diff:/var/lib/docker/overlay2/0a0a51ec8f657e64532cc063e48934a40d62bc99fadaab962c6c25e71439566c/diff:/var/lib/docker/overlay2/1ba8b37052df0a91f0b6abe618b014ae32b2c84a5091bbe60c29dd521ae30ce4/diff:/var/lib/docker/overlay2/aca82cb98317e4accdace4957fdf51020b5cd44fdd6c3f03daa2ea59069e551c/diff:/var/lib/docker/overlay2/99b6a8fa2eee0437ed0e6ee0979430489d7e709e08cc364e0b1e5aed2a1e9e2b/diff',\n",
       "   'MergedDir': '/var/lib/docker/overlay2/6fcb6df359866cd96b48b2e712e5f9ac4adf9199c57be1f4eff69e418c9b11ee/merged',\n",
       "   'UpperDir': '/var/lib/docker/overlay2/6fcb6df359866cd96b48b2e712e5f9ac4adf9199c57be1f4eff69e418c9b11ee/diff',\n",
       "   'WorkDir': '/var/lib/docker/overlay2/6fcb6df359866cd96b48b2e712e5f9ac4adf9199c57be1f4eff69e418c9b11ee/work'},\n",
       "  'Name': 'overlay2'},\n",
       " 'Mounts': [],\n",
       " 'Config': {'Hostname': '2f863848e061',\n",
       "  'Domainname': '',\n",
       "  'User': '',\n",
       "  'AttachStdin': True,\n",
       "  'AttachStdout': True,\n",
       "  'AttachStderr': True,\n",
       "  'Tty': False,\n",
       "  'OpenStdin': True,\n",
       "  'StdinOnce': True,\n",
       "  'Env': ['PATH=/usr/local/bin:/usr/local/sbin:/usr/local/bin:/usr/sbin:/usr/bin:/sbin:/bin',\n",
       "   'LANG=C.UTF-8',\n",
       "   'GPG_KEY=E3FF2839C048B25C084DEBE9B26995E310250568',\n",
       "   'PYTHON_VERSION=3.8.5',\n",
       "   'PYTHON_PIP_VERSION=20.2.3',\n",
       "   'PYTHON_GET_PIP_URL=https://github.com/pypa/get-pip/raw/fa7dc83944936bf09a0e4cb5d5ec852c0d256599/get-pip.py',\n",
       "   'PYTHON_GET_PIP_SHA256=6e0bb0a2c2533361d7f297ed547237caf1b7507f197835974c0dd7eba998c53c',\n",
       "   'VERS=1.1',\n",
       "   'TONY_VERS=1.9'],\n",
       "  'Cmd': ['python3',\n",
       "   'api_etm.py',\n",
       "   '-i',\n",
       "   'out/DelawareRiverBasin/Run10_07_2020/',\n",
       "   '-o',\n",
       "   'enduser/DelawareRiverBasin/drb150/',\n",
       "   '-y',\n",
       "   'Annual',\n",
       "   'netet',\n",
       "   'dummy'],\n",
       "  'Image': 'tbutzer/etm_docker_image',\n",
       "  'Volumes': None,\n",
       "  'WorkingDir': '/home/etm/api_etm',\n",
       "  'Entrypoint': None,\n",
       "  'OnBuild': None,\n",
       "  'Labels': {}},\n",
       " 'NetworkSettings': {'Bridge': '',\n",
       "  'SandboxID': 'dfb970d192d8690e25e207affc8bad90a820e255b6ad4de420a21760718a3f68',\n",
       "  'HairpinMode': False,\n",
       "  'LinkLocalIPv6Address': '',\n",
       "  'LinkLocalIPv6PrefixLen': 0,\n",
       "  'Ports': {},\n",
       "  'SandboxKey': '/var/run/docker/netns/dfb970d192d8',\n",
       "  'SecondaryIPAddresses': None,\n",
       "  'SecondaryIPv6Addresses': None,\n",
       "  'EndpointID': '80553b3c6a00ecb50995db0491ef6052de617303d7e5a08413a116bb39d655a5',\n",
       "  'Gateway': '172.17.0.1',\n",
       "  'GlobalIPv6Address': '',\n",
       "  'GlobalIPv6PrefixLen': 0,\n",
       "  'IPAddress': '172.17.0.18',\n",
       "  'IPPrefixLen': 16,\n",
       "  'IPv6Gateway': '',\n",
       "  'MacAddress': '02:42:ac:11:00:12',\n",
       "  'Networks': {'bridge': {'IPAMConfig': None,\n",
       "    'Links': None,\n",
       "    'Aliases': None,\n",
       "    'NetworkID': '90ea5ac9ac9885b0679c77a549eb5788abd406fb6a4f4dd77232cf6711750551',\n",
       "    'EndpointID': '80553b3c6a00ecb50995db0491ef6052de617303d7e5a08413a116bb39d655a5',\n",
       "    'Gateway': '172.17.0.1',\n",
       "    'IPAddress': '172.17.0.18',\n",
       "    'IPPrefixLen': 16,\n",
       "    'IPv6Gateway': '',\n",
       "    'GlobalIPv6Address': '',\n",
       "    'GlobalIPv6PrefixLen': 0,\n",
       "    'MacAddress': '02:42:ac:11:00:12',\n",
       "    'DriverOpts': None}}}}"
      ]
     },
     "execution_count": 20,
     "metadata": {},
     "output_type": "execute_result"
    }
   ],
   "source": [
    "running_containers[0].attrs"
   ]
  },
  {
   "cell_type": "code",
   "execution_count": 21,
   "metadata": {},
   "outputs": [],
   "source": [
    "def _return_last_write(container):\n",
    "    bytesThing = container.logs()\n",
    "    newStringThing = bytesThing.decode(encoding='UTF-8')\n",
    "    lines = newStringThing.split('\\n')\n",
    "    last_write='bogus'\n",
    "    for l in lines:\n",
    "        if 'Writing' in l:\n",
    "            #print(l)\n",
    "            last_write = l\n",
    "    return (last_write)"
   ]
  },
  {
   "cell_type": "code",
   "execution_count": 22,
   "metadata": {},
   "outputs": [],
   "source": [
    "for c in running_containers:\n",
    "    lw = _return_last_write(c)\n",
    "    #print(lw)"
   ]
  },
  {
   "cell_type": "code",
   "execution_count": 23,
   "metadata": {},
   "outputs": [],
   "source": [
    "lws=[]\n",
    "for c in running_containers:\n",
    "    lw = _return_last_write(c)\n",
    "    #print(lw)\n",
    "    lws.append(lw)"
   ]
  },
  {
   "cell_type": "code",
   "execution_count": 24,
   "metadata": {},
   "outputs": [],
   "source": [
    "#lws"
   ]
  },
  {
   "cell_type": "code",
   "execution_count": 25,
   "metadata": {},
   "outputs": [],
   "source": [
    "a = lws.sort()"
   ]
  },
  {
   "cell_type": "code",
   "execution_count": 26,
   "metadata": {},
   "outputs": [
    {
     "data": {
      "text/plain": [
       "NoneType"
      ]
     },
     "execution_count": 26,
     "metadata": {},
     "output_type": "execute_result"
    }
   ],
   "source": [
    "type(a)"
   ]
  },
  {
   "cell_type": "markdown",
   "metadata": {},
   "source": [
    "# check up on the little guys - \n",
    "## what are you working on?\n",
    "\n",
    "### is this micro managment?"
   ]
  },
  {
   "cell_type": "code",
   "execution_count": 27,
   "metadata": {},
   "outputs": [
    {
     "data": {
      "text/plain": [
       "['Writing output to: /home/etm/api_etm/COG_dd_1951.tif',\n",
       " 'Writing output to: /home/etm/api_etm/COG_etasw_1996.tif',\n",
       " 'Writing output to: /home/etm/api_etm/COG_etc_1952.tif',\n",
       " 'Writing output to: /home/etm/api_etm/COG_netet_1951.tif',\n",
       " 'Writing output to: /home/etm/api_etm/COG_snwpk_1958150.tif',\n",
       " 'Writing output to: /home/etm/api_etm/COG_snwpk_1978152.tif',\n",
       " 'Writing output to: /home/etm/api_etm/COG_snwpk_1988162.tif',\n",
       " 'Writing output to: /home/etm/api_etm/COG_snwpk_1998141.tif',\n",
       " 'Writing output to: /home/etm/api_etm/COG_snwpk_2008150.tif',\n",
       " 'Writing output to: /home/etm/api_etm/COG_snwpk_2018141.tif',\n",
       " 'Writing output to: /home/etm/api_etm/COG_snwpk_2028142.tif',\n",
       " 'Writing output to: /home/etm/api_etm/COG_snwpk_2038147.tif',\n",
       " 'Writing output to: /home/etm/api_etm/COG_snwpk_2048170.tif',\n",
       " 'Writing output to: /home/etm/api_etm/COG_snwpk_2078160.tif',\n",
       " 'Writing output to: /home/etm/api_etm/COG_snwpk_2088160.tif',\n",
       " 'Writing output to: /home/etm/api_etm/COG_snwpk_2098171.tif',\n",
       " 'Writing output to: /home/etm/api_etm/COG_srf_1952.tif']"
      ]
     },
     "execution_count": 27,
     "metadata": {},
     "output_type": "execute_result"
    }
   ],
   "source": [
    "lws"
   ]
  },
  {
   "cell_type": "code",
   "execution_count": 28,
   "metadata": {},
   "outputs": [],
   "source": [
    "images = client.images.list()"
   ]
  },
  {
   "cell_type": "code",
   "execution_count": 29,
   "metadata": {},
   "outputs": [],
   "source": [
    "#dir(images[0])"
   ]
  },
  {
   "cell_type": "code",
   "execution_count": 30,
   "metadata": {},
   "outputs": [
    {
     "name": "stdout",
     "output_type": "stream",
     "text": [
      "['tbutzer/jupyter-rise:latest']\n"
     ]
    }
   ],
   "source": [
    "print(images[0].tags)"
   ]
  },
  {
   "cell_type": "markdown",
   "metadata": {},
   "source": [
    "# If you do a lot of Docker \n",
    "## You can end up with image sprawl"
   ]
  },
  {
   "cell_type": "code",
   "execution_count": 31,
   "metadata": {},
   "outputs": [
    {
     "name": "stdout",
     "output_type": "stream",
     "text": [
      "<Image: 'tbutzer/jupyter-rise:latest'>\n",
      "<Image: 'tbutzer/jupyter-lite:latest'>\n"
     ]
    }
   ],
   "source": [
    "for image in images:\n",
    "    #print(image.tags)\n",
    "    #print(type(image.tags))\n",
    "    if not 'etm' in image.tags[0] and not 'ubuntu:latest' in image.tags[0]:\n",
    "        print(image)\n",
    "        # client.images.remove(image.tags[0])"
   ]
  },
  {
   "cell_type": "code",
   "execution_count": 32,
   "metadata": {},
   "outputs": [
    {
     "name": "stdout",
     "output_type": "stream",
     "text": [
      "['tbutzer/jupyter-rise:latest']\n",
      "['tbutzer/etm_docker_image:latest']\n",
      "['ubuntu:latest']\n",
      "['tbutzer/jupyter-lite:latest']\n"
     ]
    }
   ],
   "source": [
    "for image in images:\n",
    "    print(image.tags)\n",
    "    "
   ]
  },
  {
   "cell_type": "code",
   "execution_count": 33,
   "metadata": {},
   "outputs": [
    {
     "name": "stdout",
     "output_type": "stream",
     "text": [
      "['tbutzer/jupyter-rise:latest']\n",
      "['tbutzer/etm_docker_image:latest']\n",
      "['ubuntu:latest']\n",
      "['tbutzer/jupyter-lite:latest']\n"
     ]
    }
   ],
   "source": [
    "images = client.images.list()\n",
    "for image in images:\n",
    "    print(image.tags)"
   ]
  },
  {
   "cell_type": "code",
   "execution_count": null,
   "metadata": {},
   "outputs": [],
   "source": []
  }
 ],
 "metadata": {
  "kernelspec": {
   "display_name": "Python 3",
   "language": "python",
   "name": "python3"
  },
  "language_info": {
   "codemirror_mode": {
    "name": "ipython",
    "version": 3
   },
   "file_extension": ".py",
   "mimetype": "text/x-python",
   "name": "python",
   "nbconvert_exporter": "python",
   "pygments_lexer": "ipython3",
   "version": "3.8.5"
  }
 },
 "nbformat": 4,
 "nbformat_minor": 4
}
