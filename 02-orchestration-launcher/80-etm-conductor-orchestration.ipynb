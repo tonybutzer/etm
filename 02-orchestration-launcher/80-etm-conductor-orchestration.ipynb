{
 "cells": [
  {
   "cell_type": "code",
   "execution_count": 1,
   "metadata": {},
   "outputs": [],
   "source": [
    "unmosaicked_input = 'out/DelawareRiverBasin/Run11_11_2020/'\n",
    "enduser_cog_output = 'enduser/DelawareRiverBasin/drb150_nofunswitch/'\n",
    "year='1954'\n",
    "product='dd'\n",
    "cmd_opt = '-i ' + unmosaicked_input + ' -o ' + enduser_cog_output + ' -y ' + year + ' ' + product + ' dummy'"
   ]
  },
  {
   "cell_type": "code",
   "execution_count": 2,
   "metadata": {},
   "outputs": [],
   "source": [
    "import docker"
   ]
  },
  {
   "cell_type": "markdown",
   "metadata": {},
   "source": [
    "## Run Notes: jupyter via docker container --\n",
    "# mount the docker socket on the jupyter\n",
    "\n",
    "I think your are not launching jupyterhub conatiner properly. You should mount the docker.sock file from host VM to container. So, that the jupyterhub container can Spawn single user Notebook containers on the host.\n",
    "\n",
    "- docker run -v /var/run/docker.sock:/var/run/docker.sock -p 8000:8000 my_jupyterhub"
   ]
  },
  {
   "cell_type": "markdown",
   "metadata": {},
   "source": [
    "# Todo\n",
    "\n",
    "- set up user to match 1000 ubuntu in jupyter - so file permissions don't get pooched!\n",
    "    - else ipynb files get owned by root - this is suboptimal :-)"
   ]
  },
  {
   "cell_type": "code",
   "execution_count": 3,
   "metadata": {},
   "outputs": [],
   "source": [
    "# get client\n",
    "client = docker.from_env()"
   ]
  },
  {
   "cell_type": "code",
   "execution_count": 4,
   "metadata": {},
   "outputs": [
    {
     "name": "stdout",
     "output_type": "stream",
     "text": [
      "crazy_robinson\n",
      "goofy_beaver\n",
      "determined_bartik\n",
      "jovial_kilby\n",
      "zen_goldwasser\n",
      "condescending_stonebraker\n",
      "vigilant_ride\n",
      "vibrant_mccarthy\n",
      "wonderful_booth\n",
      "intelligent_saha\n",
      "serene_hofstadter\n",
      "cranky_visvesvaraya\n",
      "pensive_jones\n",
      "admiring_faraday\n",
      "brave_hofstadter\n"
     ]
    }
   ],
   "source": [
    "running_containers = client.containers.list()\n",
    "for c in running_containers:\n",
    "    print(c.name)"
   ]
  },
  {
   "cell_type": "code",
   "execution_count": 5,
   "metadata": {},
   "outputs": [],
   "source": [
    "def start_container(client, docker_image, docker_full_cmd):\n",
    "    container = client.containers.run(docker_image, docker_full_cmd, detach=True)\n",
    "    print ( \"CONTAINER is \", container.name)\n",
    "    return(container)"
   ]
  },
  {
   "cell_type": "code",
   "execution_count": 6,
   "metadata": {},
   "outputs": [
    {
     "name": "stdout",
     "output_type": "stream",
     "text": [
      "2034\n",
      "-i out/DelawareRiverBasin/Run11_11_2020/ -o enduser/DelawareRiverBasin/drb150_nofunswitch/ -y 2034 dd dummy\n",
      "python3 api_etm.py -i out/DelawareRiverBasin/Run11_11_2020/ -o enduser/DelawareRiverBasin/drb150_nofunswitch/ -y 2034 dd dummy\n",
      "tbutzer/etm_docker_image\n",
      "CONTAINER is  sharp_cannon\n",
      "real name is sharp_cannon\n",
      "2035\n",
      "-i out/DelawareRiverBasin/Run11_11_2020/ -o enduser/DelawareRiverBasin/drb150_nofunswitch/ -y 2035 dd dummy\n",
      "python3 api_etm.py -i out/DelawareRiverBasin/Run11_11_2020/ -o enduser/DelawareRiverBasin/drb150_nofunswitch/ -y 2035 dd dummy\n",
      "tbutzer/etm_docker_image\n",
      "CONTAINER is  jovial_wiles\n",
      "real name is jovial_wiles\n",
      "2036\n",
      "-i out/DelawareRiverBasin/Run11_11_2020/ -o enduser/DelawareRiverBasin/drb150_nofunswitch/ -y 2036 dd dummy\n",
      "python3 api_etm.py -i out/DelawareRiverBasin/Run11_11_2020/ -o enduser/DelawareRiverBasin/drb150_nofunswitch/ -y 2036 dd dummy\n",
      "tbutzer/etm_docker_image\n",
      "CONTAINER is  agitated_mcnulty\n",
      "real name is agitated_mcnulty\n",
      "2037\n",
      "-i out/DelawareRiverBasin/Run11_11_2020/ -o enduser/DelawareRiverBasin/drb150_nofunswitch/ -y 2037 dd dummy\n",
      "python3 api_etm.py -i out/DelawareRiverBasin/Run11_11_2020/ -o enduser/DelawareRiverBasin/drb150_nofunswitch/ -y 2037 dd dummy\n",
      "tbutzer/etm_docker_image\n",
      "CONTAINER is  ecstatic_dhawan\n",
      "real name is ecstatic_dhawan\n",
      "2038\n",
      "-i out/DelawareRiverBasin/Run11_11_2020/ -o enduser/DelawareRiverBasin/drb150_nofunswitch/ -y 2038 dd dummy\n",
      "python3 api_etm.py -i out/DelawareRiverBasin/Run11_11_2020/ -o enduser/DelawareRiverBasin/drb150_nofunswitch/ -y 2038 dd dummy\n",
      "tbutzer/etm_docker_image\n",
      "CONTAINER is  elastic_mccarthy\n",
      "real name is elastic_mccarthy\n",
      "2039\n",
      "-i out/DelawareRiverBasin/Run11_11_2020/ -o enduser/DelawareRiverBasin/drb150_nofunswitch/ -y 2039 dd dummy\n",
      "python3 api_etm.py -i out/DelawareRiverBasin/Run11_11_2020/ -o enduser/DelawareRiverBasin/drb150_nofunswitch/ -y 2039 dd dummy\n",
      "tbutzer/etm_docker_image\n",
      "CONTAINER is  sleepy_swartz\n",
      "real name is sleepy_swartz\n"
     ]
    }
   ],
   "source": [
    "for yeari in range(2034, 2039+1):\n",
    "    print(yeari)\n",
    "    year=str(yeari)\n",
    "    cmd_opt = '-i ' + unmosaicked_input + ' -o ' + enduser_cog_output + ' -y ' + year + ' ' + product + ' dummy'\n",
    "    print(cmd_opt)\n",
    "    cmd = 'python3 api_etm.py '\n",
    "    full_cmd = cmd + cmd_opt\n",
    "    print(full_cmd)\n",
    "    docker_image =  \"tbutzer/etm_docker_image\"\n",
    "    print(docker_image)\n",
    "    c = start_container(client, docker_image, full_cmd)\n",
    "    print(\"real name is\", c.name)\n",
    "    "
   ]
  },
  {
   "cell_type": "code",
   "execution_count": 7,
   "metadata": {},
   "outputs": [
    {
     "name": "stdout",
     "output_type": "stream",
     "text": [
      "sleepy_swartz\n",
      "['api_etm.py', '-i', 'out/DelawareRiverBasin/Run11_11_2020/', '-o', 'enduser/DelawareRiverBasin/drb150_nofunswitch/', '-y', '2039', 'dd', 'dummy']\n",
      "elastic_mccarthy\n",
      "['api_etm.py', '-i', 'out/DelawareRiverBasin/Run11_11_2020/', '-o', 'enduser/DelawareRiverBasin/drb150_nofunswitch/', '-y', '2038', 'dd', 'dummy']\n",
      "ecstatic_dhawan\n",
      "['api_etm.py', '-i', 'out/DelawareRiverBasin/Run11_11_2020/', '-o', 'enduser/DelawareRiverBasin/drb150_nofunswitch/', '-y', '2037', 'dd', 'dummy']\n",
      "agitated_mcnulty\n",
      "['api_etm.py', '-i', 'out/DelawareRiverBasin/Run11_11_2020/', '-o', 'enduser/DelawareRiverBasin/drb150_nofunswitch/', '-y', '2036', 'dd', 'dummy']\n",
      "jovial_wiles\n",
      "['api_etm.py', '-i', 'out/DelawareRiverBasin/Run11_11_2020/', '-o', 'enduser/DelawareRiverBasin/drb150_nofunswitch/', '-y', '2035', 'dd', 'dummy']\n",
      "sharp_cannon\n",
      "['api_etm.py', '-i', 'out/DelawareRiverBasin/Run11_11_2020/', '-o', 'enduser/DelawareRiverBasin/drb150_nofunswitch/', '-y', '2034', 'dd', 'dummy']\n",
      "crazy_robinson\n",
      "['api_etm.py', '-i', 'out/DelawareRiverBasin/Run11_11_2020/', '-o', 'enduser/DelawareRiverBasin/drb150_nofunswitch/', '-y', '2079', 'dd', 'dummy']\n",
      "goofy_beaver\n",
      "['api_etm.py', '-i', 'out/DelawareRiverBasin/Run11_11_2020/', '-o', 'enduser/DelawareRiverBasin/drb150_nofunswitch/', '-y', '2078', 'dd', 'dummy']\n",
      "determined_bartik\n",
      "['api_etm.py', '-i', 'out/DelawareRiverBasin/Run11_11_2020/', '-o', 'enduser/DelawareRiverBasin/drb150_nofunswitch/', '-y', '2077', 'dd', 'dummy']\n",
      "jovial_kilby\n",
      "['api_etm.py', '-i', 'out/DelawareRiverBasin/Run11_11_2020/', '-o', 'enduser/DelawareRiverBasin/drb150_nofunswitch/', '-y', '2076', 'dd', 'dummy']\n",
      "zen_goldwasser\n",
      "['api_etm.py', '-i', 'out/DelawareRiverBasin/Run11_11_2020/', '-o', 'enduser/DelawareRiverBasin/drb150_nofunswitch/', '-y', '2075', 'dd', 'dummy']\n",
      "condescending_stonebraker\n",
      "['api_etm.py', '-i', 'out/DelawareRiverBasin/Run11_11_2020/', '-o', 'enduser/DelawareRiverBasin/drb150_nofunswitch/', '-y', '2074', 'dd', 'dummy']\n",
      "vigilant_ride\n",
      "['api_etm.py', '-i', 'out/DelawareRiverBasin/Run11_11_2020/', '-o', 'enduser/DelawareRiverBasin/drb150_nofunswitch/', '-y', '2073', 'dd', 'dummy']\n",
      "vibrant_mccarthy\n",
      "['api_etm.py', '-i', 'out/DelawareRiverBasin/Run11_11_2020/', '-o', 'enduser/DelawareRiverBasin/drb150_nofunswitch/', '-y', '2072', 'dd', 'dummy']\n",
      "wonderful_booth\n",
      "['api_etm.py', '-i', 'out/DelawareRiverBasin/Run11_11_2020/', '-o', 'enduser/DelawareRiverBasin/drb150_nofunswitch/', '-y', '2019', 'dd', 'dummy']\n",
      "intelligent_saha\n",
      "['api_etm.py', '-i', 'out/DelawareRiverBasin/Run11_11_2020/', '-o', 'enduser/DelawareRiverBasin/drb150_nofunswitch/', '-y', '2018', 'dd', 'dummy']\n",
      "serene_hofstadter\n",
      "['api_etm.py', '-i', 'out/DelawareRiverBasin/Run11_11_2020/', '-o', 'enduser/DelawareRiverBasin/drb150_nofunswitch/', '-y', '2017', 'dd', 'dummy']\n",
      "cranky_visvesvaraya\n",
      "['api_etm.py', '-i', 'out/DelawareRiverBasin/Run11_11_2020/', '-o', 'enduser/DelawareRiverBasin/drb150_nofunswitch/', '-y', '2016', 'dd', 'dummy']\n",
      "pensive_jones\n",
      "['api_etm.py', '-i', 'out/DelawareRiverBasin/Run11_11_2020/', '-o', 'enduser/DelawareRiverBasin/drb150_nofunswitch/', '-y', '2015', 'dd', 'dummy']\n",
      "admiring_faraday\n",
      "['api_etm.py', '-i', 'out/DelawareRiverBasin/Run11_11_2020/', '-o', 'enduser/DelawareRiverBasin/drb150_nofunswitch/', '-y', '2014', 'dd', 'dummy']\n",
      "brave_hofstadter\n",
      "['notebook', '--allow-root', '--ip=0.0.0.0', '--NotebookApp.token=yaml']\n"
     ]
    }
   ],
   "source": [
    "running_containers = client.containers.list()\n",
    "for c in running_containers:\n",
    "    print(c.name)\n",
    "    print(c.attrs['Args'])"
   ]
  },
  {
   "cell_type": "code",
   "execution_count": 8,
   "metadata": {},
   "outputs": [
    {
     "name": "stdout",
     "output_type": "stream",
     "text": [
      "sleepy_swartz 2039 dd\n",
      "elastic_mccarthy 2038 dd\n",
      "ecstatic_dhawan 2037 dd\n",
      "agitated_mcnulty 2036 dd\n",
      "jovial_wiles 2035 dd\n",
      "sharp_cannon 2034 dd\n",
      "crazy_robinson 2079 dd\n",
      "goofy_beaver 2078 dd\n",
      "determined_bartik 2077 dd\n",
      "jovial_kilby 2076 dd\n",
      "zen_goldwasser 2075 dd\n",
      "condescending_stonebraker 2074 dd\n",
      "vigilant_ride 2073 dd\n",
      "vibrant_mccarthy 2072 dd\n",
      "wonderful_booth 2019 dd\n",
      "intelligent_saha 2018 dd\n",
      "serene_hofstadter 2017 dd\n",
      "cranky_visvesvaraya 2016 dd\n",
      "pensive_jones 2015 dd\n",
      "admiring_faraday 2014 dd\n"
     ]
    }
   ],
   "source": [
    "running_containers = client.containers.list()\n",
    "for c in running_containers:\n",
    "    if len(c.attrs['Args']) >7 :\n",
    "        print(c.name, c.attrs['Args'][6], c.attrs['Args'][7])"
   ]
  },
  {
   "cell_type": "markdown",
   "metadata": {},
   "source": [
    "- https://medium.com/the-andela-way/machine-monitoring-tool-using-python-from-scratch-8d10411782fd"
   ]
  },
  {
   "cell_type": "code",
   "execution_count": 9,
   "metadata": {},
   "outputs": [],
   "source": [
    "import os\n",
    "cpu_load = [x / os.cpu_count() * 100 for x in os.getloadavg()][-1]"
   ]
  },
  {
   "cell_type": "code",
   "execution_count": 10,
   "metadata": {},
   "outputs": [
    {
     "data": {
      "text/plain": [
       "12.125"
      ]
     },
     "execution_count": 10,
     "metadata": {},
     "output_type": "execute_result"
    }
   ],
   "source": [
    "cpu_load"
   ]
  },
  {
   "cell_type": "code",
   "execution_count": 11,
   "metadata": {},
   "outputs": [
    {
     "data": {
      "text/plain": [
       "8"
      ]
     },
     "execution_count": 11,
     "metadata": {},
     "output_type": "execute_result"
    }
   ],
   "source": [
    "os.cpu_count()"
   ]
  },
  {
   "cell_type": "code",
   "execution_count": 12,
   "metadata": {},
   "outputs": [],
   "source": [
    "import subprocess\n",
    "import re\n",
    "\n",
    "def return_mem_stat():\n",
    "\n",
    "\n",
    "    # Memory usage\n",
    "    total_ram = subprocess.run(['free', '-h'], stdout=subprocess.PIPE).stdout.decode('utf-8')\n",
    "    used_free_shared_buf_avail = total_ram.split('\\n')[1]\n",
    "    \n",
    "    return  used_free_shared_buf_avail"
   ]
  },
  {
   "cell_type": "code",
   "execution_count": 13,
   "metadata": {},
   "outputs": [
    {
     "data": {
      "text/plain": [
       "'Mem:           31Gi       9.3Gi        18Gi       2.0Mi       2.9Gi        21Gi'"
      ]
     },
     "execution_count": 13,
     "metadata": {},
     "output_type": "execute_result"
    }
   ],
   "source": [
    "return_mem_stat()"
   ]
  },
  {
   "cell_type": "code",
   "execution_count": 14,
   "metadata": {},
   "outputs": [
    {
     "data": {
      "text/plain": [
       "(3.34, 2.18, 0.97)"
      ]
     },
     "execution_count": 14,
     "metadata": {},
     "output_type": "execute_result"
    }
   ],
   "source": [
    "os.getloadavg()"
   ]
  },
  {
   "cell_type": "code",
   "execution_count": null,
   "metadata": {},
   "outputs": [],
   "source": []
  }
 ],
 "metadata": {
  "kernelspec": {
   "display_name": "Python 3",
   "language": "python",
   "name": "python3"
  },
  "language_info": {
   "codemirror_mode": {
    "name": "ipython",
    "version": 3
   },
   "file_extension": ".py",
   "mimetype": "text/x-python",
   "name": "python",
   "nbconvert_exporter": "python",
   "pygments_lexer": "ipython3",
   "version": "3.8.5"
  }
 },
 "nbformat": 4,
 "nbformat_minor": 4
}
