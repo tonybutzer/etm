{
 "cells": [
  {
   "cell_type": "code",
   "execution_count": 1,
   "metadata": {},
   "outputs": [],
   "source": [
    "unmosaicked_input = 'out/DelawareRiverBasin/Run11_11_2020/'\n",
    "enduser_cog_output = 'enduser/DelawareRiverBasin/drb150_nofunswitch/'\n",
    "year='1954'\n",
    "product='dd'\n",
    "cmd_opt = '-i ' + unmosaicked_input + ' -o ' + enduser_cog_output + ' -y ' + year + ' ' + product + ' dummy'"
   ]
  },
  {
   "cell_type": "code",
   "execution_count": 2,
   "metadata": {},
   "outputs": [],
   "source": [
    "import docker"
   ]
  },
  {
   "cell_type": "markdown",
   "metadata": {},
   "source": [
    "## Run Notes: jupyter via docker container --\n",
    "# mount the docker socket on the jupyter\n",
    "\n",
    "I think your are not launching jupyterhub conatiner properly. You should mount the docker.sock file from host VM to container. So, that the jupyterhub container can Spawn single user Notebook containers on the host.\n",
    "\n",
    "- docker run -v /var/run/docker.sock:/var/run/docker.sock -p 8000:8000 my_jupyterhub"
   ]
  },
  {
   "cell_type": "markdown",
   "metadata": {},
   "source": [
    "# Todo\n",
    "\n",
    "- set up user to match 1000 ubuntu in jupyter - so file permissions don't get pooched!\n",
    "    - else ipynb files get owned by root - this is suboptimal :-)"
   ]
  },
  {
   "cell_type": "code",
   "execution_count": 3,
   "metadata": {},
   "outputs": [],
   "source": [
    "# get client\n",
    "client = docker.from_env()"
   ]
  },
  {
   "cell_type": "code",
   "execution_count": 4,
   "metadata": {},
   "outputs": [
    {
     "name": "stdout",
     "output_type": "stream",
     "text": [
      "frosty_payne\n",
      "focused_margulis\n",
      "brave_hofstadter\n"
     ]
    }
   ],
   "source": [
    "running_containers = client.containers.list()\n",
    "for c in running_containers:\n",
    "    print(c.name)"
   ]
  },
  {
   "cell_type": "code",
   "execution_count": 5,
   "metadata": {},
   "outputs": [],
   "source": [
    "def start_container(client, docker_image, docker_full_cmd):\n",
    "    container = client.containers.run(docker_image, docker_full_cmd, detach=True)\n",
    "    print ( \"CONTAINER is \", container.name)\n",
    "    return(container)"
   ]
  },
  {
   "cell_type": "code",
   "execution_count": 6,
   "metadata": {},
   "outputs": [
    {
     "name": "stdout",
     "output_type": "stream",
     "text": [
      "python3 api_etm.py -i out/DelawareRiverBasin/Run11_11_2020/ -o enduser/DelawareRiverBasin/drb150_nofunswitch/ -y 1954 dd dummy\n",
      "tbutzer/etm_docker_image\n",
      "CONTAINER is  strange_kowalevski\n",
      "real name is strange_kowalevski\n"
     ]
    }
   ],
   "source": [
    "\n",
    "#cmd_opt = '-i out/DelawareRiverBasin/Run11_11_2020/ -o enduser/DelawareRiverBasin/drb150_nofunswitch/ -y 1952 dd dummy'\n",
    "cmd = 'python3 api_etm.py '\n",
    "full_cmd = cmd + cmd_opt\n",
    "print(full_cmd)\n",
    "docker_image =  \"tbutzer/etm_docker_image\"\n",
    "print(docker_image)\n",
    "\n",
    "c = start_container(client, docker_image, full_cmd)\n",
    "print(\"real name is\", c.name)"
   ]
  },
  {
   "cell_type": "code",
   "execution_count": 9,
   "metadata": {},
   "outputs": [
    {
     "name": "stdout",
     "output_type": "stream",
     "text": [
      "1955\n",
      "-i out/DelawareRiverBasin/Run11_11_2020/ -o enduser/DelawareRiverBasin/drb150_nofunswitch/ -y 1955 dd dummy\n",
      "CONTAINER is  dazzling_joliot\n",
      "real name is dazzling_joliot\n",
      "1956\n",
      "-i out/DelawareRiverBasin/Run11_11_2020/ -o enduser/DelawareRiverBasin/drb150_nofunswitch/ -y 1956 dd dummy\n",
      "CONTAINER is  serene_shtern\n",
      "real name is serene_shtern\n",
      "1957\n",
      "-i out/DelawareRiverBasin/Run11_11_2020/ -o enduser/DelawareRiverBasin/drb150_nofunswitch/ -y 1957 dd dummy\n",
      "CONTAINER is  brave_banach\n",
      "real name is brave_banach\n",
      "1958\n",
      "-i out/DelawareRiverBasin/Run11_11_2020/ -o enduser/DelawareRiverBasin/drb150_nofunswitch/ -y 1958 dd dummy\n",
      "CONTAINER is  confident_clarke\n",
      "real name is confident_clarke\n",
      "1959\n",
      "-i out/DelawareRiverBasin/Run11_11_2020/ -o enduser/DelawareRiverBasin/drb150_nofunswitch/ -y 1959 dd dummy\n",
      "CONTAINER is  vibrant_euler\n",
      "real name is vibrant_euler\n"
     ]
    }
   ],
   "source": [
    "for yeari in range(1955, 1959+1):\n",
    "    print(yeari)\n",
    "    year=str(yeari)\n",
    "    cmd_opt = '-i ' + unmosaicked_input + ' -o ' + enduser_cog_output + ' -y ' + year + ' ' + product + ' dummy'\n",
    "    print(cmd_opt)\n",
    "    c = start_container(client, docker_image, full_cmd)\n",
    "    print(\"real name is\", c.name)\n",
    "    "
   ]
  },
  {
   "cell_type": "code",
   "execution_count": 10,
   "metadata": {},
   "outputs": [
    {
     "name": "stdout",
     "output_type": "stream",
     "text": [
      "vibrant_euler\n",
      "confident_clarke\n",
      "brave_banach\n",
      "serene_shtern\n",
      "dazzling_joliot\n",
      "strange_kowalevski\n",
      "frosty_payne\n",
      "focused_margulis\n",
      "brave_hofstadter\n"
     ]
    }
   ],
   "source": [
    "running_containers = client.containers.list()\n",
    "for c in running_containers:\n",
    "    print(c.name)"
   ]
  },
  {
   "cell_type": "code",
   "execution_count": null,
   "metadata": {},
   "outputs": [],
   "source": []
  }
 ],
 "metadata": {
  "kernelspec": {
   "display_name": "Python 3",
   "language": "python",
   "name": "python3"
  },
  "language_info": {
   "codemirror_mode": {
    "name": "ipython",
    "version": 3
   },
   "file_extension": ".py",
   "mimetype": "text/x-python",
   "name": "python",
   "nbconvert_exporter": "python",
   "pygments_lexer": "ipython3",
   "version": "3.8.5"
  }
 },
 "nbformat": 4,
 "nbformat_minor": 4
}
