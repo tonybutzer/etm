{
 "cells": [
  {
   "cell_type": "code",
   "execution_count": 1,
   "metadata": {},
   "outputs": [],
   "source": [
    "unmosaicked_input = 'out/DelawareRiverBasin/Run11_11_2020/'\n",
    "enduser_cog_output = 'enduser/DelawareRiverBasin/drb150_nofunswitch/'\n",
    "year='1954'\n",
    "product='dd'\n",
    "cmd_opt = '-i ' + unmosaicked_input + ' -o ' + enduser_cog_output + ' -y ' + year + ' ' + product + ' dummy'"
   ]
  },
  {
   "cell_type": "code",
   "execution_count": 2,
   "metadata": {},
   "outputs": [],
   "source": [
    "import docker"
   ]
  },
  {
   "cell_type": "markdown",
   "metadata": {},
   "source": [
    "## Run Notes: jupyter via docker container --\n",
    "# mount the docker socket on the jupyter\n",
    "\n",
    "I think your are not launching jupyterhub conatiner properly. You should mount the docker.sock file from host VM to container. So, that the jupyterhub container can Spawn single user Notebook containers on the host.\n",
    "\n",
    "- docker run -v /var/run/docker.sock:/var/run/docker.sock -p 8000:8000 my_jupyterhub"
   ]
  },
  {
   "cell_type": "markdown",
   "metadata": {},
   "source": [
    "# Todo\n",
    "\n",
    "- set up user to match 1000 ubuntu in jupyter - so file permissions don't get pooched!\n",
    "    - else ipynb files get owned by root - this is suboptimal :-)"
   ]
  },
  {
   "cell_type": "code",
   "execution_count": 3,
   "metadata": {},
   "outputs": [],
   "source": [
    "# get client\n",
    "client = docker.from_env()"
   ]
  },
  {
   "cell_type": "code",
   "execution_count": 4,
   "metadata": {},
   "outputs": [
    {
     "name": "stdout",
     "output_type": "stream",
     "text": [
      "quizzical_brown\n",
      "jolly_jepsen\n",
      "priceless_wu\n",
      "gallant_shaw\n",
      "unruffled_ishizaka\n",
      "elated_ardinghelli\n",
      "lucid_mclean\n",
      "kind_yonath\n",
      "brave_hofstadter\n"
     ]
    }
   ],
   "source": [
    "running_containers = client.containers.list()\n",
    "for c in running_containers:\n",
    "    print(c.name)"
   ]
  },
  {
   "cell_type": "code",
   "execution_count": 5,
   "metadata": {},
   "outputs": [],
   "source": [
    "def start_container(client, docker_image, docker_full_cmd):\n",
    "    container = client.containers.run(docker_image, docker_full_cmd, detach=True)\n",
    "    print ( \"CONTAINER is \", container.name)\n",
    "    return(container)"
   ]
  },
  {
   "cell_type": "code",
   "execution_count": 6,
   "metadata": {},
   "outputs": [
    {
     "name": "stdout",
     "output_type": "stream",
     "text": [
      "1965\n",
      "-i out/DelawareRiverBasin/Run11_11_2020/ -o enduser/DelawareRiverBasin/drb150_nofunswitch/ -y 1965 dd dummy\n",
      "python3 api_etm.py -i out/DelawareRiverBasin/Run11_11_2020/ -o enduser/DelawareRiverBasin/drb150_nofunswitch/ -y 1965 dd dummy\n",
      "tbutzer/etm_docker_image\n",
      "CONTAINER is  confident_brahmagupta\n",
      "real name is confident_brahmagupta\n",
      "1966\n",
      "-i out/DelawareRiverBasin/Run11_11_2020/ -o enduser/DelawareRiverBasin/drb150_nofunswitch/ -y 1966 dd dummy\n",
      "python3 api_etm.py -i out/DelawareRiverBasin/Run11_11_2020/ -o enduser/DelawareRiverBasin/drb150_nofunswitch/ -y 1966 dd dummy\n",
      "tbutzer/etm_docker_image\n",
      "CONTAINER is  pedantic_blackwell\n",
      "real name is pedantic_blackwell\n",
      "1967\n",
      "-i out/DelawareRiverBasin/Run11_11_2020/ -o enduser/DelawareRiverBasin/drb150_nofunswitch/ -y 1967 dd dummy\n",
      "python3 api_etm.py -i out/DelawareRiverBasin/Run11_11_2020/ -o enduser/DelawareRiverBasin/drb150_nofunswitch/ -y 1967 dd dummy\n",
      "tbutzer/etm_docker_image\n",
      "CONTAINER is  wizardly_babbage\n",
      "real name is wizardly_babbage\n",
      "1968\n",
      "-i out/DelawareRiverBasin/Run11_11_2020/ -o enduser/DelawareRiverBasin/drb150_nofunswitch/ -y 1968 dd dummy\n",
      "python3 api_etm.py -i out/DelawareRiverBasin/Run11_11_2020/ -o enduser/DelawareRiverBasin/drb150_nofunswitch/ -y 1968 dd dummy\n",
      "tbutzer/etm_docker_image\n",
      "CONTAINER is  brave_almeida\n",
      "real name is brave_almeida\n",
      "1969\n",
      "-i out/DelawareRiverBasin/Run11_11_2020/ -o enduser/DelawareRiverBasin/drb150_nofunswitch/ -y 1969 dd dummy\n",
      "python3 api_etm.py -i out/DelawareRiverBasin/Run11_11_2020/ -o enduser/DelawareRiverBasin/drb150_nofunswitch/ -y 1969 dd dummy\n",
      "tbutzer/etm_docker_image\n",
      "CONTAINER is  hungry_burnell\n",
      "real name is hungry_burnell\n"
     ]
    }
   ],
   "source": [
    "for yeari in range(1965, 1969+1):\n",
    "    print(yeari)\n",
    "    year=str(yeari)\n",
    "    cmd_opt = '-i ' + unmosaicked_input + ' -o ' + enduser_cog_output + ' -y ' + year + ' ' + product + ' dummy'\n",
    "    print(cmd_opt)\n",
    "    cmd = 'python3 api_etm.py '\n",
    "    full_cmd = cmd + cmd_opt\n",
    "    print(full_cmd)\n",
    "    docker_image =  \"tbutzer/etm_docker_image\"\n",
    "    print(docker_image)\n",
    "    c = start_container(client, docker_image, full_cmd)\n",
    "    print(\"real name is\", c.name)\n",
    "    "
   ]
  },
  {
   "cell_type": "code",
   "execution_count": 7,
   "metadata": {},
   "outputs": [
    {
     "name": "stdout",
     "output_type": "stream",
     "text": [
      "hungry_burnell\n",
      "['api_etm.py', '-i', 'out/DelawareRiverBasin/Run11_11_2020/', '-o', 'enduser/DelawareRiverBasin/drb150_nofunswitch/', '-y', '1969', 'dd', 'dummy']\n",
      "brave_almeida\n",
      "['api_etm.py', '-i', 'out/DelawareRiverBasin/Run11_11_2020/', '-o', 'enduser/DelawareRiverBasin/drb150_nofunswitch/', '-y', '1968', 'dd', 'dummy']\n",
      "wizardly_babbage\n",
      "['api_etm.py', '-i', 'out/DelawareRiverBasin/Run11_11_2020/', '-o', 'enduser/DelawareRiverBasin/drb150_nofunswitch/', '-y', '1967', 'dd', 'dummy']\n",
      "pedantic_blackwell\n",
      "['api_etm.py', '-i', 'out/DelawareRiverBasin/Run11_11_2020/', '-o', 'enduser/DelawareRiverBasin/drb150_nofunswitch/', '-y', '1966', 'dd', 'dummy']\n",
      "confident_brahmagupta\n",
      "['api_etm.py', '-i', 'out/DelawareRiverBasin/Run11_11_2020/', '-o', 'enduser/DelawareRiverBasin/drb150_nofunswitch/', '-y', '1965', 'dd', 'dummy']\n",
      "quizzical_brown\n",
      "['api_etm.py', '-i', 'out/DelawareRiverBasin/Run11_11_2020/', '-o', 'enduser/DelawareRiverBasin/drb150_nofunswitch/', '-y', '1959', 'dd', 'dummy']\n",
      "jolly_jepsen\n",
      "['api_etm.py', '-i', 'out/DelawareRiverBasin/Run11_11_2020/', '-o', 'enduser/DelawareRiverBasin/drb150_nofunswitch/', '-y', '1958', 'dd', 'dummy']\n",
      "priceless_wu\n",
      "['api_etm.py', '-i', 'out/DelawareRiverBasin/Run11_11_2020/', '-o', 'enduser/DelawareRiverBasin/drb150_nofunswitch/', '-y', '1957', 'dd', 'dummy']\n",
      "gallant_shaw\n",
      "['api_etm.py', '-i', 'out/DelawareRiverBasin/Run11_11_2020/', '-o', 'enduser/DelawareRiverBasin/drb150_nofunswitch/', '-y', '1956', 'dd', 'dummy']\n",
      "unruffled_ishizaka\n",
      "['api_etm.py', '-i', 'out/DelawareRiverBasin/Run11_11_2020/', '-o', 'enduser/DelawareRiverBasin/drb150_nofunswitch/', '-y', '1955', 'dd', 'dummy']\n",
      "elated_ardinghelli\n",
      "['api_etm.py', '-i', 'out/DelawareRiverBasin/Run11_11_2020/', '-o', 'enduser/DelawareRiverBasin/drb150_nofunswitch/', '-y', '1954', 'dd', 'dummy']\n",
      "lucid_mclean\n",
      "['api_etm.py', '-i', 'out/DelawareRiverBasin/Run11_11_2020/', '-o', 'enduser/DelawareRiverBasin/drb150_nofunswitch/', '-y', '1953', 'dd', 'dummy']\n",
      "kind_yonath\n",
      "['api_etm.py', '-i', 'out/DelawareRiverBasin/Run11_11_2020/', '-o', 'enduser/DelawareRiverBasin/drb150_nofunswitch/', '-y', '1952', 'dd', 'dummy']\n",
      "brave_hofstadter\n",
      "['notebook', '--allow-root', '--ip=0.0.0.0', '--NotebookApp.token=yaml']\n"
     ]
    }
   ],
   "source": [
    "running_containers = client.containers.list()\n",
    "for c in running_containers:\n",
    "    print(c.name)\n",
    "    print(c.attrs['Args'])"
   ]
  },
  {
   "cell_type": "code",
   "execution_count": 8,
   "metadata": {},
   "outputs": [
    {
     "name": "stdout",
     "output_type": "stream",
     "text": [
      "hungry_burnell 1969 dd\n",
      "brave_almeida 1968 dd\n",
      "wizardly_babbage 1967 dd\n",
      "pedantic_blackwell 1966 dd\n",
      "confident_brahmagupta 1965 dd\n",
      "quizzical_brown 1959 dd\n",
      "jolly_jepsen 1958 dd\n",
      "priceless_wu 1957 dd\n",
      "gallant_shaw 1956 dd\n",
      "unruffled_ishizaka 1955 dd\n",
      "elated_ardinghelli 1954 dd\n",
      "lucid_mclean 1953 dd\n",
      "kind_yonath 1952 dd\n"
     ]
    }
   ],
   "source": [
    "running_containers = client.containers.list()\n",
    "for c in running_containers:\n",
    "    if len(c.attrs['Args']) >7 :\n",
    "        print(c.name, c.attrs['Args'][6], c.attrs['Args'][7])"
   ]
  },
  {
   "cell_type": "code",
   "execution_count": 9,
   "metadata": {},
   "outputs": [
    {
     "name": "stdout",
     "output_type": "stream",
     "text": [
      " 18:13:46 up 3 days,  6:53,  0 users,  load average: 6.56, 4.17, 2.78\r\n"
     ]
    }
   ],
   "source": [
    "! uptime"
   ]
  },
  {
   "cell_type": "code",
   "execution_count": 10,
   "metadata": {},
   "outputs": [
    {
     "name": "stdout",
     "output_type": "stream",
     "text": [
      "              total        used        free      shared  buff/cache   available\r\n",
      "Mem:           31Gi       8.5Gi        20Gi       1.0Mi       2.6Gi        22Gi\r\n",
      "Swap:            0B          0B          0B\r\n"
     ]
    }
   ],
   "source": [
    "! free -h "
   ]
  },
  {
   "cell_type": "code",
   "execution_count": 12,
   "metadata": {},
   "outputs": [
    {
     "name": "stdout",
     "output_type": "stream",
     "text": [
      "Collecting uptime\n",
      "  Downloading uptime-3.0.1.tar.gz (6.6 kB)\n",
      "Building wheels for collected packages: uptime\n",
      "  Building wheel for uptime (setup.py) ... \u001b[?25ldone\n",
      "\u001b[?25h  Created wheel for uptime: filename=uptime-3.0.1-cp38-cp38-linux_x86_64.whl size=19449 sha256=49fb41f6ff78924d3bcf0bbc46b8be8f174cc94e97a59c67cd356fbd054f87c5\n",
      "  Stored in directory: /root/.cache/pip/wheels/2d/56/e4/2a2be927d5f51b210df9db22fac318c093c9cacc1786117f66\n",
      "Successfully built uptime\n",
      "Installing collected packages: uptime\n",
      "Successfully installed uptime-3.0.1\n",
      "\u001b[33mWARNING: You are using pip version 20.2.3; however, version 20.2.4 is available.\n",
      "You should consider upgrading via the '/usr/local/bin/python -m pip install --upgrade pip' command.\u001b[0m\n"
     ]
    }
   ],
   "source": [
    "! pip install --user uptime"
   ]
  },
  {
   "cell_type": "code",
   "execution_count": 13,
   "metadata": {},
   "outputs": [],
   "source": [
    "import uptime"
   ]
  },
  {
   "cell_type": "code",
   "execution_count": 14,
   "metadata": {},
   "outputs": [
    {
     "name": "stdout",
     "output_type": "stream",
     "text": [
      "Help on package uptime:\n",
      "\n",
      "NAME\n",
      "    uptime - Provides a cross-platform way to figure out the system uptime.\n",
      "\n",
      "DESCRIPTION\n",
      "    Should work on damned near any operating system you can realistically expect\n",
      "    to be asked to write Python code for.\n",
      "    If this module is invoked as a stand-alone script, it will print the current\n",
      "    uptime in a human-readable format, or display an error message if it can't,\n",
      "    to standard output.\n",
      "\n",
      "PACKAGE CONTENTS\n",
      "    __main__\n",
      "    _posix\n",
      "\n",
      "FUNCTIONS\n",
      "    boottime()\n",
      "        Returns boot time if remotely possible, or None if not.\n",
      "    \n",
      "    uptime()\n",
      "        Returns uptime in seconds if even remotely possible, or None if not.\n",
      "\n",
      "DATA\n",
      "    __all__ = ['uptime', 'boottime']\n",
      "\n",
      "FILE\n",
      "    /root/.local/lib/python3.8/site-packages/uptime/__init__.py\n",
      "\n",
      "\n"
     ]
    }
   ],
   "source": [
    "help(uptime)"
   ]
  },
  {
   "cell_type": "markdown",
   "metadata": {},
   "source": [
    "- https://medium.com/the-andela-way/machine-monitoring-tool-using-python-from-scratch-8d10411782fd"
   ]
  },
  {
   "cell_type": "code",
   "execution_count": 16,
   "metadata": {},
   "outputs": [],
   "source": [
    "import os\n",
    "cpu_load = [x / os.cpu_count() * 100 for x in os.getloadavg()][-1]"
   ]
  },
  {
   "cell_type": "code",
   "execution_count": 17,
   "metadata": {},
   "outputs": [
    {
     "data": {
      "text/plain": [
       "37.875"
      ]
     },
     "execution_count": 17,
     "metadata": {},
     "output_type": "execute_result"
    }
   ],
   "source": [
    "cpu_load"
   ]
  },
  {
   "cell_type": "code",
   "execution_count": 20,
   "metadata": {},
   "outputs": [
    {
     "data": {
      "text/plain": [
       "8"
      ]
     },
     "execution_count": 20,
     "metadata": {},
     "output_type": "execute_result"
    }
   ],
   "source": [
    "os.cpu_count()"
   ]
  },
  {
   "cell_type": "code",
   "execution_count": 27,
   "metadata": {},
   "outputs": [],
   "source": [
    "import subprocess\n",
    "import re\n",
    "\n",
    "def return_mem_stat():\n",
    "\n",
    "\n",
    "    # Memory usage\n",
    "    total_ram = subprocess.run(['free', '-h'], stdout=subprocess.PIPE).stdout.decode('utf-8')\n",
    "    used_free_shared_buf_avail = total_ram.split('\\n')[1]\n",
    "    \n",
    "    return  used_free_shared_buf_avail"
   ]
  },
  {
   "cell_type": "code",
   "execution_count": 28,
   "metadata": {},
   "outputs": [
    {
     "data": {
      "text/plain": [
       "'Mem:           31Gi       8.7Gi        19Gi       1.0Mi       2.6Gi        21Gi'"
      ]
     },
     "execution_count": 28,
     "metadata": {},
     "output_type": "execute_result"
    }
   ],
   "source": [
    "return_mem_stat()"
   ]
  }
 ],
 "metadata": {
  "kernelspec": {
   "display_name": "Python 3",
   "language": "python",
   "name": "python3"
  },
  "language_info": {
   "codemirror_mode": {
    "name": "ipython",
    "version": 3
   },
   "file_extension": ".py",
   "mimetype": "text/x-python",
   "name": "python",
   "nbconvert_exporter": "python",
   "pygments_lexer": "ipython3",
   "version": "3.8.5"
  }
 },
 "nbformat": 4,
 "nbformat_minor": 4
}
