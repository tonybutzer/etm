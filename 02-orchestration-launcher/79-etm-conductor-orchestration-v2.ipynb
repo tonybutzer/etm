{
 "cells": [
  {
   "cell_type": "code",
   "execution_count": 1,
   "metadata": {},
   "outputs": [],
   "source": [
    "unmosaicked_input = 'out/DelawareRiverBasin/Run11_11_2020/'\n",
    "enduser_cog_output = 'enduser/DelawareRiverBasin/drb150_nofunswitch/'\n",
    "year='1954'\n",
    "product='netet'\n",
    "cmd_opt = '-i ' + unmosaicked_input + ' -o ' + enduser_cog_output + ' -y ' + year + ' ' + product + ' dummy'\n",
    "\n",
    "NUM_CONTAINERS = 26 # 40 is too high, maybe 25\n",
    "\n",
    "MAX_LOAD_LEVEL = 220\n",
    "MIN_MEMORY_AVAILABLE = 4\n",
    "\n",
    "MAX_CONCURRENT_CONTAINERS = NUM_CONTAINERS\n",
    "\n",
    "#start_year = 1950\n",
    "start_year = 1991\n",
    "end_year = 2099"
   ]
  },
  {
   "cell_type": "code",
   "execution_count": 2,
   "metadata": {},
   "outputs": [],
   "source": [
    "import docker"
   ]
  },
  {
   "cell_type": "code",
   "execution_count": 3,
   "metadata": {},
   "outputs": [],
   "source": [
    "# get client\n",
    "client = docker.from_env()"
   ]
  },
  {
   "cell_type": "code",
   "execution_count": 4,
   "metadata": {},
   "outputs": [
    {
     "name": "stdout",
     "output_type": "stream",
     "text": [
      "pie_pie-service_1\n",
      "brave_hofstadter\n"
     ]
    }
   ],
   "source": [
    "running_containers = client.containers.list()\n",
    "for c in running_containers:\n",
    "    print(c.name)"
   ]
  },
  {
   "cell_type": "code",
   "execution_count": 5,
   "metadata": {},
   "outputs": [],
   "source": [
    "def start_container(client, docker_image, docker_full_cmd):\n",
    "    container = client.containers.run(docker_image, docker_full_cmd, detach=True)\n",
    "    print ( \"CONTAINER is \", container.name)\n",
    "    return(container)"
   ]
  },
  {
   "cell_type": "code",
   "execution_count": 6,
   "metadata": {},
   "outputs": [],
   "source": [
    "def start_etm(year):\n",
    "    global unmosaicked_input\n",
    "    global enduser_cog_output\n",
    "    global product\n",
    "    \n",
    "    cmd_opt = '-i ' + unmosaicked_input + ' -o ' + enduser_cog_output + ' -y ' + year + ' ' + product + ' dummy'\n",
    "    print(cmd_opt)\n",
    "    cmd = 'python3 api_etm.py '\n",
    "    full_cmd = cmd + cmd_opt\n",
    "    #print(full_cmd)\n",
    "    docker_image =  \"tbutzer/etm_docker_image\"\n",
    "    #print(docker_image)\n",
    "    c = start_container(client, docker_image, full_cmd)\n",
    "    print(\"real name is\", c.name)\n",
    "    print(\"===\"*30)"
   ]
  },
  {
   "cell_type": "code",
   "execution_count": 7,
   "metadata": {},
   "outputs": [
    {
     "name": "stdout",
     "output_type": "stream",
     "text": [
      "1991\n",
      "-i out/DelawareRiverBasin/Run11_11_2020/ -o enduser/DelawareRiverBasin/drb150_nofunswitch/ -y 1991 netet dummy\n",
      "CONTAINER is  stupefied_davinci\n",
      "real name is stupefied_davinci\n",
      "==========================================================================================\n",
      "1992\n",
      "-i out/DelawareRiverBasin/Run11_11_2020/ -o enduser/DelawareRiverBasin/drb150_nofunswitch/ -y 1992 netet dummy\n",
      "CONTAINER is  practical_swirles\n",
      "real name is practical_swirles\n",
      "==========================================================================================\n",
      "1993\n",
      "-i out/DelawareRiverBasin/Run11_11_2020/ -o enduser/DelawareRiverBasin/drb150_nofunswitch/ -y 1993 netet dummy\n",
      "CONTAINER is  romantic_almeida\n",
      "real name is romantic_almeida\n",
      "==========================================================================================\n",
      "1994\n",
      "-i out/DelawareRiverBasin/Run11_11_2020/ -o enduser/DelawareRiverBasin/drb150_nofunswitch/ -y 1994 netet dummy\n",
      "CONTAINER is  admiring_cerf\n",
      "real name is admiring_cerf\n",
      "==========================================================================================\n",
      "1995\n",
      "-i out/DelawareRiverBasin/Run11_11_2020/ -o enduser/DelawareRiverBasin/drb150_nofunswitch/ -y 1995 netet dummy\n",
      "CONTAINER is  nifty_dijkstra\n",
      "real name is nifty_dijkstra\n",
      "==========================================================================================\n",
      "1996\n",
      "-i out/DelawareRiverBasin/Run11_11_2020/ -o enduser/DelawareRiverBasin/drb150_nofunswitch/ -y 1996 netet dummy\n",
      "CONTAINER is  goofy_williams\n",
      "real name is goofy_williams\n",
      "==========================================================================================\n",
      "1997\n",
      "-i out/DelawareRiverBasin/Run11_11_2020/ -o enduser/DelawareRiverBasin/drb150_nofunswitch/ -y 1997 netet dummy\n",
      "CONTAINER is  elastic_hodgkin\n",
      "real name is elastic_hodgkin\n",
      "==========================================================================================\n",
      "1998\n",
      "-i out/DelawareRiverBasin/Run11_11_2020/ -o enduser/DelawareRiverBasin/drb150_nofunswitch/ -y 1998 netet dummy\n",
      "CONTAINER is  funny_bartik\n",
      "real name is funny_bartik\n",
      "==========================================================================================\n",
      "1999\n",
      "-i out/DelawareRiverBasin/Run11_11_2020/ -o enduser/DelawareRiverBasin/drb150_nofunswitch/ -y 1999 netet dummy\n",
      "CONTAINER is  interesting_gould\n",
      "real name is interesting_gould\n",
      "==========================================================================================\n",
      "2000\n",
      "-i out/DelawareRiverBasin/Run11_11_2020/ -o enduser/DelawareRiverBasin/drb150_nofunswitch/ -y 2000 netet dummy\n",
      "CONTAINER is  xenodochial_shockley\n",
      "real name is xenodochial_shockley\n",
      "==========================================================================================\n",
      "2001\n",
      "-i out/DelawareRiverBasin/Run11_11_2020/ -o enduser/DelawareRiverBasin/drb150_nofunswitch/ -y 2001 netet dummy\n",
      "CONTAINER is  lucid_saha\n",
      "real name is lucid_saha\n",
      "==========================================================================================\n",
      "2002\n",
      "-i out/DelawareRiverBasin/Run11_11_2020/ -o enduser/DelawareRiverBasin/drb150_nofunswitch/ -y 2002 netet dummy\n",
      "CONTAINER is  upbeat_banzai\n",
      "real name is upbeat_banzai\n",
      "==========================================================================================\n",
      "2003\n",
      "-i out/DelawareRiverBasin/Run11_11_2020/ -o enduser/DelawareRiverBasin/drb150_nofunswitch/ -y 2003 netet dummy\n",
      "CONTAINER is  xenodochial_haibt\n",
      "real name is xenodochial_haibt\n",
      "==========================================================================================\n",
      "2004\n",
      "-i out/DelawareRiverBasin/Run11_11_2020/ -o enduser/DelawareRiverBasin/drb150_nofunswitch/ -y 2004 netet dummy\n",
      "CONTAINER is  amazing_elgamal\n",
      "real name is amazing_elgamal\n",
      "==========================================================================================\n",
      "2005\n",
      "-i out/DelawareRiverBasin/Run11_11_2020/ -o enduser/DelawareRiverBasin/drb150_nofunswitch/ -y 2005 netet dummy\n",
      "CONTAINER is  distracted_diffie\n",
      "real name is distracted_diffie\n",
      "==========================================================================================\n",
      "2006\n",
      "-i out/DelawareRiverBasin/Run11_11_2020/ -o enduser/DelawareRiverBasin/drb150_nofunswitch/ -y 2006 netet dummy\n",
      "CONTAINER is  ecstatic_dijkstra\n",
      "real name is ecstatic_dijkstra\n",
      "==========================================================================================\n",
      "2007\n",
      "-i out/DelawareRiverBasin/Run11_11_2020/ -o enduser/DelawareRiverBasin/drb150_nofunswitch/ -y 2007 netet dummy\n",
      "CONTAINER is  condescending_faraday\n",
      "real name is condescending_faraday\n",
      "==========================================================================================\n",
      "2008\n",
      "-i out/DelawareRiverBasin/Run11_11_2020/ -o enduser/DelawareRiverBasin/drb150_nofunswitch/ -y 2008 netet dummy\n",
      "CONTAINER is  focused_heyrovsky\n",
      "real name is focused_heyrovsky\n",
      "==========================================================================================\n",
      "2009\n",
      "-i out/DelawareRiverBasin/Run11_11_2020/ -o enduser/DelawareRiverBasin/drb150_nofunswitch/ -y 2009 netet dummy\n",
      "CONTAINER is  trusting_pascal\n",
      "real name is trusting_pascal\n",
      "==========================================================================================\n",
      "2010\n",
      "-i out/DelawareRiverBasin/Run11_11_2020/ -o enduser/DelawareRiverBasin/drb150_nofunswitch/ -y 2010 netet dummy\n",
      "CONTAINER is  brave_mendel\n",
      "real name is brave_mendel\n",
      "==========================================================================================\n",
      "2011\n",
      "-i out/DelawareRiverBasin/Run11_11_2020/ -o enduser/DelawareRiverBasin/drb150_nofunswitch/ -y 2011 netet dummy\n",
      "CONTAINER is  brave_visvesvaraya\n",
      "real name is brave_visvesvaraya\n",
      "==========================================================================================\n",
      "2012\n",
      "-i out/DelawareRiverBasin/Run11_11_2020/ -o enduser/DelawareRiverBasin/drb150_nofunswitch/ -y 2012 netet dummy\n",
      "CONTAINER is  gallant_montalcini\n",
      "real name is gallant_montalcini\n",
      "==========================================================================================\n",
      "2013\n",
      "-i out/DelawareRiverBasin/Run11_11_2020/ -o enduser/DelawareRiverBasin/drb150_nofunswitch/ -y 2013 netet dummy\n",
      "CONTAINER is  condescending_mayer\n",
      "real name is condescending_mayer\n",
      "==========================================================================================\n",
      "2014\n",
      "-i out/DelawareRiverBasin/Run11_11_2020/ -o enduser/DelawareRiverBasin/drb150_nofunswitch/ -y 2014 netet dummy\n",
      "CONTAINER is  xenodochial_babbage\n",
      "real name is xenodochial_babbage\n",
      "==========================================================================================\n",
      "2015\n",
      "-i out/DelawareRiverBasin/Run11_11_2020/ -o enduser/DelawareRiverBasin/drb150_nofunswitch/ -y 2015 netet dummy\n",
      "CONTAINER is  goofy_hermann\n",
      "real name is goofy_hermann\n",
      "==========================================================================================\n",
      "2016\n",
      "-i out/DelawareRiverBasin/Run11_11_2020/ -o enduser/DelawareRiverBasin/drb150_nofunswitch/ -y 2016 netet dummy\n",
      "CONTAINER is  crazy_taussig\n",
      "real name is crazy_taussig\n",
      "==========================================================================================\n",
      "2017\n",
      "-i out/DelawareRiverBasin/Run11_11_2020/ -o enduser/DelawareRiverBasin/drb150_nofunswitch/ -y 2017 netet dummy\n",
      "CONTAINER is  fervent_galois\n",
      "real name is fervent_galois\n",
      "==========================================================================================\n"
     ]
    }
   ],
   "source": [
    "for yeari in range(start_year, start_year+NUM_CONTAINERS+1):\n",
    "    print(yeari)\n",
    "    year=str(yeari)\n",
    "    start_etm(year)"
   ]
  },
  {
   "cell_type": "code",
   "execution_count": 8,
   "metadata": {},
   "outputs": [
    {
     "name": "stdout",
     "output_type": "stream",
     "text": [
      "fervent_galois 2017 netet\n",
      "crazy_taussig 2016 netet\n",
      "goofy_hermann 2015 netet\n",
      "xenodochial_babbage 2014 netet\n",
      "condescending_mayer 2013 netet\n",
      "gallant_montalcini 2012 netet\n",
      "brave_visvesvaraya 2011 netet\n",
      "brave_mendel 2010 netet\n",
      "trusting_pascal 2009 netet\n",
      "focused_heyrovsky 2008 netet\n",
      "condescending_faraday 2007 netet\n",
      "ecstatic_dijkstra 2006 netet\n",
      "distracted_diffie 2005 netet\n",
      "amazing_elgamal 2004 netet\n",
      "xenodochial_haibt 2003 netet\n",
      "upbeat_banzai 2002 netet\n",
      "lucid_saha 2001 netet\n",
      "xenodochial_shockley 2000 netet\n",
      "interesting_gould 1999 netet\n",
      "funny_bartik 1998 netet\n",
      "elastic_hodgkin 1997 netet\n",
      "goofy_williams 1996 netet\n",
      "nifty_dijkstra 1995 netet\n",
      "admiring_cerf 1994 netet\n",
      "romantic_almeida 1993 netet\n",
      "practical_swirles 1992 netet\n",
      "stupefied_davinci 1991 netet\n"
     ]
    }
   ],
   "source": [
    "running_containers = client.containers.list()\n",
    "for c in running_containers:\n",
    "    if len(c.attrs['Args']) >7 :\n",
    "        print(c.name, c.attrs['Args'][6], c.attrs['Args'][7])"
   ]
  },
  {
   "cell_type": "markdown",
   "metadata": {},
   "source": [
    "- https://medium.com/the-andela-way/machine-monitoring-tool-using-python-from-scratch-8d10411782fd"
   ]
  },
  {
   "cell_type": "markdown",
   "metadata": {},
   "source": [
    "# Should maybe use os.getloadavg()[0]"
   ]
  },
  {
   "cell_type": "code",
   "execution_count": 9,
   "metadata": {},
   "outputs": [],
   "source": [
    "import os\n",
    "def return_cpu_load():\n",
    "    cpu_load = [x / os.cpu_count() * 100 for x in os.getloadavg()][-1]\n",
    "    return cpu_load"
   ]
  },
  {
   "cell_type": "code",
   "execution_count": 10,
   "metadata": {},
   "outputs": [
    {
     "data": {
      "text/plain": [
       "8"
      ]
     },
     "execution_count": 10,
     "metadata": {},
     "output_type": "execute_result"
    }
   ],
   "source": [
    "os.cpu_count()"
   ]
  },
  {
   "cell_type": "code",
   "execution_count": 11,
   "metadata": {},
   "outputs": [],
   "source": [
    "import subprocess\n",
    "import re\n",
    "\n",
    "def _return_mem_stat():\n",
    "\n",
    "\n",
    "    # Memory usage\n",
    "    total_ram = subprocess.run(['free', '-h'], stdout=subprocess.PIPE).stdout.decode('utf-8')\n",
    "    used_free_shared_buf_avail = total_ram.split('\\n')[1]\n",
    "    \n",
    "    return  used_free_shared_buf_avail\n",
    "\n",
    "def return_available_memory():\n",
    "    used_free_shared_buf_avail = _return_mem_stat()\n",
    "    a = re.split('\\s+', used_free_shared_buf_avail)\n",
    "    available_memory = a[3].split('G')[0]\n",
    "    return float(available_memory)"
   ]
  },
  {
   "cell_type": "code",
   "execution_count": 12,
   "metadata": {},
   "outputs": [
    {
     "data": {
      "text/plain": [
       "'Mem:           31Gi       3.0Gi        25Gi       2.0Mi       3.0Gi        27Gi'"
      ]
     },
     "execution_count": 12,
     "metadata": {},
     "output_type": "execute_result"
    }
   ],
   "source": [
    "_return_mem_stat()"
   ]
  },
  {
   "cell_type": "code",
   "execution_count": 13,
   "metadata": {},
   "outputs": [
    {
     "data": {
      "text/plain": [
       "25.0"
      ]
     },
     "execution_count": 13,
     "metadata": {},
     "output_type": "execute_result"
    }
   ],
   "source": [
    "available_memory = return_available_memory()\n",
    "available_memory"
   ]
  },
  {
   "cell_type": "code",
   "execution_count": 14,
   "metadata": {},
   "outputs": [
    {
     "data": {
      "text/plain": [
       "(4.47, 4.46, 7.08)"
      ]
     },
     "execution_count": 14,
     "metadata": {},
     "output_type": "execute_result"
    }
   ],
   "source": [
    "os.getloadavg()"
   ]
  },
  {
   "cell_type": "code",
   "execution_count": 15,
   "metadata": {},
   "outputs": [],
   "source": [
    "def return_num_containers():\n",
    "    global client\n",
    "    running_containers = client.containers.list()\n",
    "    return(len(running_containers))"
   ]
  },
  {
   "cell_type": "code",
   "execution_count": 16,
   "metadata": {},
   "outputs": [],
   "source": [
    "import time\n",
    "def event_loop(year_to_process, end_year):\n",
    "    \n",
    "    \n",
    "    while year_to_process <= end_year:\n",
    "        time.sleep(30)\n",
    "\n",
    "        mem_avail = return_available_memory()\n",
    "        cpu_load = return_cpu_load()\n",
    "        num_running_containers = return_num_containers()\n",
    "        print(mem_avail, cpu_load, num_running_containers)\n",
    "\n",
    "        cpu = False\n",
    "        if (cpu_load < MAX_LOAD_LEVEL):\n",
    "            print(\"CPU is FINE\")\n",
    "            cpu=True\n",
    "\n",
    "        mem = False\n",
    "        if mem_avail > MIN_MEMORY_AVAILABLE:\n",
    "            mem = True\n",
    "\n",
    "        containers = False\n",
    "        if num_running_containers < MAX_CONCURRENT_CONTAINERS:\n",
    "            containers = True\n",
    "        \n",
    "\n",
    "        if (mem and cpu and containers):\n",
    "            print(\"OK to Launch\")\n",
    "            start_etm(year_to_process) ### start mosaic container\n",
    "            print(\"starting year\", year_to_process)\n",
    "            year_to_process = year_to_process + 1\n",
    "\n",
    "    \n",
    "    "
   ]
  },
  {
   "cell_type": "code",
   "execution_count": null,
   "metadata": {},
   "outputs": [
    {
     "name": "stdout",
     "output_type": "stream",
     "text": [
      "19.0 92.125 29\n",
      "CPU is FINE\n",
      "18.0 94.5 29\n",
      "CPU is FINE\n",
      "18.0 96.0 29\n",
      "CPU is FINE\n",
      "18.0 97.875 29\n",
      "CPU is FINE\n",
      "18.0 103.49999999999999 29\n",
      "CPU is FINE\n",
      "16.0 103.62499999999999 29\n",
      "CPU is FINE\n",
      "16.0 106.25 29\n",
      "CPU is FINE\n",
      "14.0 108.25 29\n",
      "CPU is FINE\n",
      "10.0 112.25 29\n",
      "CPU is FINE\n",
      "12.0 112.99999999999999 29\n",
      "CPU is FINE\n",
      "18.0 116.625 29\n",
      "CPU is FINE\n"
     ]
    }
   ],
   "source": [
    "cyear = start_year + NUM_CONTAINERS + 1\n",
    "event_loop(cyear, end_year)"
   ]
  },
  {
   "cell_type": "code",
   "execution_count": null,
   "metadata": {},
   "outputs": [],
   "source": []
  }
 ],
 "metadata": {
  "kernelspec": {
   "display_name": "Python 3",
   "language": "python",
   "name": "python3"
  },
  "language_info": {
   "codemirror_mode": {
    "name": "ipython",
    "version": 3
   },
   "file_extension": ".py",
   "mimetype": "text/x-python",
   "name": "python",
   "nbconvert_exporter": "python",
   "pygments_lexer": "ipython3",
   "version": "3.8.5"
  }
 },
 "nbformat": 4,
 "nbformat_minor": 4
}
