{
 "cells": [
  {
   "cell_type": "code",
   "execution_count": 1,
   "metadata": {},
   "outputs": [],
   "source": [
    "unmosaicked_input = 'out/DelawareRiverBasin/Run12_04_2020'\n",
    "enduser_cog_output = 'enduser/DelawareRiverBasin/drb150/'\n",
    "year='1954'\n",
    "product='netet'\n",
    "cmd_opt = '-i ' + unmosaicked_input + ' -o ' + enduser_cog_output + ' -y ' + year + ' ' + product + ' dummy'\n",
    "\n",
    "NUM_CONTAINERS = 23 # 40 is too high, maybe 25\n",
    "\n",
    "MAX_LOAD_LEVEL = 220\n",
    "MIN_MEMORY_AVAILABLE = 4\n",
    "\n",
    "MAX_CONCURRENT_CONTAINERS = NUM_CONTAINERS\n",
    "\n",
    "start_year = 1950\n",
    "#start_year = 2041\n",
    "end_year = 2099"
   ]
  },
  {
   "cell_type": "markdown",
   "metadata": {},
   "source": [
    "# Next Steps\n",
    "1. make this an application so we can run it in tmux\n",
    "2. add logging\n",
    "3. add api - and product looping"
   ]
  },
  {
   "cell_type": "code",
   "execution_count": 2,
   "metadata": {},
   "outputs": [],
   "source": [
    "import docker"
   ]
  },
  {
   "cell_type": "code",
   "execution_count": 3,
   "metadata": {},
   "outputs": [],
   "source": [
    "# get client\n",
    "client = docker.from_env()"
   ]
  },
  {
   "cell_type": "code",
   "execution_count": 4,
   "metadata": {},
   "outputs": [
    {
     "name": "stdout",
     "output_type": "stream",
     "text": [
      "happy_heisenberg\n"
     ]
    }
   ],
   "source": [
    "running_containers = client.containers.list()\n",
    "for c in running_containers:\n",
    "    print(c.name)"
   ]
  },
  {
   "cell_type": "code",
   "execution_count": 5,
   "metadata": {},
   "outputs": [],
   "source": [
    "def start_container(client, docker_image, docker_full_cmd):\n",
    "    container = client.containers.run(docker_image, docker_full_cmd, detach=True)\n",
    "    print ( \"CONTAINER is \", container.name)\n",
    "    return(container)"
   ]
  },
  {
   "cell_type": "code",
   "execution_count": 6,
   "metadata": {},
   "outputs": [],
   "source": [
    "def start_etm(year):\n",
    "    global unmosaicked_input\n",
    "    global enduser_cog_output\n",
    "    global product\n",
    "    \n",
    "    cmd_opt = '-i ' + unmosaicked_input + ' -o ' + enduser_cog_output + ' -y ' + year + ' ' + product + ' dummy'\n",
    "    print(cmd_opt)\n",
    "    cmd = 'python3 api_etm.py '\n",
    "    full_cmd = cmd + cmd_opt\n",
    "    #print(full_cmd)\n",
    "    docker_image =  \"tbutzer/etm_docker_image\"\n",
    "    #print(docker_image)\n",
    "    c = start_container(client, docker_image, full_cmd)\n",
    "    print(\"real name is\", c.name)\n",
    "    print(\"===\"*30)"
   ]
  },
  {
   "cell_type": "code",
   "execution_count": 7,
   "metadata": {},
   "outputs": [
    {
     "name": "stdout",
     "output_type": "stream",
     "text": [
      "1950\n",
      "-i out/DelawareRiverBasin/Run12_04_2020 -o enduser/DelawareRiverBasin/drb150/ -y 1950 netet dummy\n",
      "CONTAINER is  bold_volhard\n",
      "real name is bold_volhard\n",
      "==========================================================================================\n",
      "1951\n",
      "-i out/DelawareRiverBasin/Run12_04_2020 -o enduser/DelawareRiverBasin/drb150/ -y 1951 netet dummy\n",
      "CONTAINER is  kind_kirch\n",
      "real name is kind_kirch\n",
      "==========================================================================================\n",
      "1952\n",
      "-i out/DelawareRiverBasin/Run12_04_2020 -o enduser/DelawareRiverBasin/drb150/ -y 1952 netet dummy\n",
      "CONTAINER is  interesting_maxwell\n",
      "real name is interesting_maxwell\n",
      "==========================================================================================\n",
      "1953\n",
      "-i out/DelawareRiverBasin/Run12_04_2020 -o enduser/DelawareRiverBasin/drb150/ -y 1953 netet dummy\n",
      "CONTAINER is  stoic_matsumoto9\n",
      "real name is stoic_matsumoto9\n",
      "==========================================================================================\n",
      "1954\n",
      "-i out/DelawareRiverBasin/Run12_04_2020 -o enduser/DelawareRiverBasin/drb150/ -y 1954 netet dummy\n",
      "CONTAINER is  serene_einstein\n",
      "real name is serene_einstein\n",
      "==========================================================================================\n",
      "1955\n",
      "-i out/DelawareRiverBasin/Run12_04_2020 -o enduser/DelawareRiverBasin/drb150/ -y 1955 netet dummy\n",
      "CONTAINER is  tender_hawking1\n",
      "real name is tender_hawking1\n",
      "==========================================================================================\n",
      "1956\n",
      "-i out/DelawareRiverBasin/Run12_04_2020 -o enduser/DelawareRiverBasin/drb150/ -y 1956 netet dummy\n",
      "CONTAINER is  flamboyant_vaughan\n",
      "real name is flamboyant_vaughan\n",
      "==========================================================================================\n",
      "1957\n",
      "-i out/DelawareRiverBasin/Run12_04_2020 -o enduser/DelawareRiverBasin/drb150/ -y 1957 netet dummy\n",
      "CONTAINER is  hopeful_darwin\n",
      "real name is hopeful_darwin\n",
      "==========================================================================================\n",
      "1958\n",
      "-i out/DelawareRiverBasin/Run12_04_2020 -o enduser/DelawareRiverBasin/drb150/ -y 1958 netet dummy\n",
      "CONTAINER is  quizzical_kapitsa\n",
      "real name is quizzical_kapitsa\n",
      "==========================================================================================\n",
      "1959\n",
      "-i out/DelawareRiverBasin/Run12_04_2020 -o enduser/DelawareRiverBasin/drb150/ -y 1959 netet dummy\n",
      "CONTAINER is  sharp_leavitt\n",
      "real name is sharp_leavitt\n",
      "==========================================================================================\n",
      "1960\n",
      "-i out/DelawareRiverBasin/Run12_04_2020 -o enduser/DelawareRiverBasin/drb150/ -y 1960 netet dummy\n",
      "CONTAINER is  hungry_panini\n",
      "real name is hungry_panini\n",
      "==========================================================================================\n",
      "1961\n",
      "-i out/DelawareRiverBasin/Run12_04_2020 -o enduser/DelawareRiverBasin/drb150/ -y 1961 netet dummy\n",
      "CONTAINER is  beautiful_bhabha\n",
      "real name is beautiful_bhabha\n",
      "==========================================================================================\n",
      "1962\n",
      "-i out/DelawareRiverBasin/Run12_04_2020 -o enduser/DelawareRiverBasin/drb150/ -y 1962 netet dummy\n",
      "CONTAINER is  wizardly_kepler\n",
      "real name is wizardly_kepler\n",
      "==========================================================================================\n",
      "1963\n",
      "-i out/DelawareRiverBasin/Run12_04_2020 -o enduser/DelawareRiverBasin/drb150/ -y 1963 netet dummy\n",
      "CONTAINER is  practical_pare\n",
      "real name is practical_pare\n",
      "==========================================================================================\n",
      "1964\n",
      "-i out/DelawareRiverBasin/Run12_04_2020 -o enduser/DelawareRiverBasin/drb150/ -y 1964 netet dummy\n",
      "CONTAINER is  sad_antonelli\n",
      "real name is sad_antonelli\n",
      "==========================================================================================\n",
      "1965\n",
      "-i out/DelawareRiverBasin/Run12_04_2020 -o enduser/DelawareRiverBasin/drb150/ -y 1965 netet dummy\n",
      "CONTAINER is  dazzling_bassi\n",
      "real name is dazzling_bassi\n",
      "==========================================================================================\n",
      "1966\n",
      "-i out/DelawareRiverBasin/Run12_04_2020 -o enduser/DelawareRiverBasin/drb150/ -y 1966 netet dummy\n",
      "CONTAINER is  zealous_franklin\n",
      "real name is zealous_franklin\n",
      "==========================================================================================\n",
      "1967\n",
      "-i out/DelawareRiverBasin/Run12_04_2020 -o enduser/DelawareRiverBasin/drb150/ -y 1967 netet dummy\n",
      "CONTAINER is  gifted_tharp\n",
      "real name is gifted_tharp\n",
      "==========================================================================================\n",
      "1968\n",
      "-i out/DelawareRiverBasin/Run12_04_2020 -o enduser/DelawareRiverBasin/drb150/ -y 1968 netet dummy\n",
      "CONTAINER is  eager_driscoll\n",
      "real name is eager_driscoll\n",
      "==========================================================================================\n",
      "1969\n",
      "-i out/DelawareRiverBasin/Run12_04_2020 -o enduser/DelawareRiverBasin/drb150/ -y 1969 netet dummy\n",
      "CONTAINER is  thirsty_swanson\n",
      "real name is thirsty_swanson\n",
      "==========================================================================================\n",
      "1970\n",
      "-i out/DelawareRiverBasin/Run12_04_2020 -o enduser/DelawareRiverBasin/drb150/ -y 1970 netet dummy\n",
      "CONTAINER is  compassionate_kirch\n",
      "real name is compassionate_kirch\n",
      "==========================================================================================\n",
      "1971\n",
      "-i out/DelawareRiverBasin/Run12_04_2020 -o enduser/DelawareRiverBasin/drb150/ -y 1971 netet dummy\n",
      "CONTAINER is  trusting_khayyam\n",
      "real name is trusting_khayyam\n",
      "==========================================================================================\n",
      "1972\n",
      "-i out/DelawareRiverBasin/Run12_04_2020 -o enduser/DelawareRiverBasin/drb150/ -y 1972 netet dummy\n",
      "CONTAINER is  recursing_kare\n",
      "real name is recursing_kare\n",
      "==========================================================================================\n",
      "1973\n",
      "-i out/DelawareRiverBasin/Run12_04_2020 -o enduser/DelawareRiverBasin/drb150/ -y 1973 netet dummy\n",
      "CONTAINER is  busy_lichterman\n",
      "real name is busy_lichterman\n",
      "==========================================================================================\n"
     ]
    }
   ],
   "source": [
    "for yeari in range(start_year, start_year+NUM_CONTAINERS+1):\n",
    "    print(yeari)\n",
    "    year=str(yeari)\n",
    "    start_etm(year)"
   ]
  },
  {
   "cell_type": "code",
   "execution_count": 8,
   "metadata": {},
   "outputs": [
    {
     "name": "stdout",
     "output_type": "stream",
     "text": [
      "busy_lichterman 1973 netet\n",
      "recursing_kare 1972 netet\n",
      "trusting_khayyam 1971 netet\n",
      "compassionate_kirch 1970 netet\n",
      "thirsty_swanson 1969 netet\n",
      "eager_driscoll 1968 netet\n",
      "gifted_tharp 1967 netet\n",
      "zealous_franklin 1966 netet\n",
      "dazzling_bassi 1965 netet\n",
      "sad_antonelli 1964 netet\n",
      "practical_pare 1963 netet\n",
      "wizardly_kepler 1962 netet\n",
      "beautiful_bhabha 1961 netet\n",
      "hungry_panini 1960 netet\n",
      "sharp_leavitt 1959 netet\n",
      "quizzical_kapitsa 1958 netet\n",
      "hopeful_darwin 1957 netet\n",
      "flamboyant_vaughan 1956 netet\n",
      "tender_hawking1 1955 netet\n",
      "serene_einstein 1954 netet\n",
      "stoic_matsumoto9 1953 netet\n",
      "interesting_maxwell 1952 netet\n",
      "kind_kirch 1951 netet\n",
      "bold_volhard 1950 netet\n"
     ]
    }
   ],
   "source": [
    "running_containers = client.containers.list()\n",
    "for c in running_containers:\n",
    "    if len(c.attrs['Args']) >7 :\n",
    "        print(c.name, c.attrs['Args'][6], c.attrs['Args'][7])"
   ]
  },
  {
   "cell_type": "markdown",
   "metadata": {},
   "source": [
    "- https://medium.com/the-andela-way/machine-monitoring-tool-using-python-from-scratch-8d10411782fd"
   ]
  },
  {
   "cell_type": "markdown",
   "metadata": {},
   "source": [
    "# Should maybe use os.getloadavg()[0]"
   ]
  },
  {
   "cell_type": "code",
   "execution_count": 9,
   "metadata": {},
   "outputs": [],
   "source": [
    "import os\n",
    "def return_cpu_load():\n",
    "    cpu_load = [x / os.cpu_count() * 100 for x in os.getloadavg()][-1]\n",
    "    return cpu_load"
   ]
  },
  {
   "cell_type": "code",
   "execution_count": 10,
   "metadata": {},
   "outputs": [
    {
     "data": {
      "text/plain": [
       "8"
      ]
     },
     "execution_count": 10,
     "metadata": {},
     "output_type": "execute_result"
    }
   ],
   "source": [
    "os.cpu_count()"
   ]
  },
  {
   "cell_type": "code",
   "execution_count": 11,
   "metadata": {},
   "outputs": [],
   "source": [
    "import subprocess\n",
    "import re\n",
    "\n",
    "def _return_mem_stat():\n",
    "\n",
    "\n",
    "    # Memory usage\n",
    "    total_ram = subprocess.run(['free', '-h'], stdout=subprocess.PIPE).stdout.decode('utf-8')\n",
    "    used_free_shared_buf_avail = total_ram.split('\\n')[1]\n",
    "    \n",
    "    return  used_free_shared_buf_avail\n",
    "\n",
    "def return_available_memory():\n",
    "    used_free_shared_buf_avail = _return_mem_stat()\n",
    "    a = re.split('\\s+', used_free_shared_buf_avail)\n",
    "    available_memory = a[3].split('G')[0]\n",
    "    return float(available_memory)"
   ]
  },
  {
   "cell_type": "code",
   "execution_count": 12,
   "metadata": {},
   "outputs": [
    {
     "data": {
      "text/plain": [
       "'Mem:           31Gi       2.2Gi        27Gi       2.0Mi       1.7Gi        28Gi'"
      ]
     },
     "execution_count": 12,
     "metadata": {},
     "output_type": "execute_result"
    }
   ],
   "source": [
    "_return_mem_stat()"
   ]
  },
  {
   "cell_type": "code",
   "execution_count": 13,
   "metadata": {},
   "outputs": [
    {
     "data": {
      "text/plain": [
       "27.0"
      ]
     },
     "execution_count": 13,
     "metadata": {},
     "output_type": "execute_result"
    }
   ],
   "source": [
    "available_memory = return_available_memory()\n",
    "available_memory"
   ]
  },
  {
   "cell_type": "code",
   "execution_count": 14,
   "metadata": {},
   "outputs": [
    {
     "data": {
      "text/plain": [
       "(1.66, 0.37, 0.13)"
      ]
     },
     "execution_count": 14,
     "metadata": {},
     "output_type": "execute_result"
    }
   ],
   "source": [
    "os.getloadavg()"
   ]
  },
  {
   "cell_type": "code",
   "execution_count": 15,
   "metadata": {},
   "outputs": [],
   "source": [
    "def return_num_containers():\n",
    "    global client\n",
    "    running_containers = client.containers.list()\n",
    "    return(len(running_containers))"
   ]
  },
  {
   "cell_type": "code",
   "execution_count": 16,
   "metadata": {},
   "outputs": [],
   "source": [
    "import time\n",
    "def event_loop(year_to_process, end_year):\n",
    "    \n",
    "    \n",
    "    while year_to_process <= end_year:\n",
    "        time.sleep(30)\n",
    "\n",
    "        mem_avail = return_available_memory()\n",
    "        cpu_load = return_cpu_load()\n",
    "        num_running_containers = return_num_containers()\n",
    "        print(mem_avail, cpu_load, num_running_containers)\n",
    "\n",
    "        cpu = False\n",
    "        if (cpu_load < MAX_LOAD_LEVEL):\n",
    "            print(\"CPU is FINE\")\n",
    "            cpu=True\n",
    "\n",
    "        mem = False\n",
    "        if mem_avail > MIN_MEMORY_AVAILABLE:\n",
    "            mem = True\n",
    "\n",
    "        containers = False\n",
    "        if num_running_containers < MAX_CONCURRENT_CONTAINERS:\n",
    "            containers = True\n",
    "        \n",
    "\n",
    "        if (mem and cpu and containers):\n",
    "            print(\"OK to Launch\")\n",
    "            start_etm(str(year_to_process)) ### start mosaic container\n",
    "            print(\"starting year\", year_to_process)\n",
    "            year_to_process = year_to_process + 1\n",
    "\n",
    "    \n",
    "    "
   ]
  },
  {
   "cell_type": "code",
   "execution_count": null,
   "metadata": {},
   "outputs": [
    {
     "name": "stdout",
     "output_type": "stream",
     "text": [
      "21.0 8.375 25\n",
      "CPU is FINE\n",
      "19.0 11.625 25\n",
      "CPU is FINE\n",
      "20.0 15.75 25\n",
      "CPU is FINE\n",
      "22.0 20.25 25\n",
      "CPU is FINE\n",
      "21.0 27.500000000000004 25\n",
      "CPU is FINE\n",
      "20.0 32.5 25\n",
      "CPU is FINE\n",
      "19.0 36.375 25\n",
      "CPU is FINE\n",
      "17.0 37.875 25\n",
      "CPU is FINE\n",
      "15.0 39.625 25\n",
      "CPU is FINE\n",
      "17.0 42.875 25\n",
      "CPU is FINE\n",
      "20.0 46.75 25\n",
      "CPU is FINE\n",
      "23.0 51.625 25\n",
      "CPU is FINE\n",
      "22.0 57.49999999999999 25\n",
      "CPU is FINE\n",
      "17.0 62.375 25\n",
      "CPU is FINE\n",
      "17.0 63.125 25\n",
      "CPU is FINE\n"
     ]
    }
   ],
   "source": [
    "cyear = start_year + NUM_CONTAINERS + 1\n",
    "event_loop(cyear, end_year)"
   ]
  },
  {
   "cell_type": "code",
   "execution_count": null,
   "metadata": {},
   "outputs": [],
   "source": []
  }
 ],
 "metadata": {
  "kernelspec": {
   "display_name": "Python 3",
   "language": "python",
   "name": "python3"
  },
  "language_info": {
   "codemirror_mode": {
    "name": "ipython",
    "version": 3
   },
   "file_extension": ".py",
   "mimetype": "text/x-python",
   "name": "python",
   "nbconvert_exporter": "python",
   "pygments_lexer": "ipython3",
   "version": "3.8.5"
  }
 },
 "nbformat": 4,
 "nbformat_minor": 4
}
