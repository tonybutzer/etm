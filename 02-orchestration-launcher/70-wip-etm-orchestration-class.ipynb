{
 "cells": [
  {
   "cell_type": "code",
   "execution_count": 1,
   "id": "daily-filter",
   "metadata": {},
   "outputs": [],
   "source": [
    "import yaml\n",
    "import json\n",
    "\n",
    "\n",
    "class Etm:\n",
    "    def __init__(self, yml_file='etm_run.yml'):\n",
    "        print('Etm instaniated', yml_file)\n",
    "        self.yml_file = yml_file\n",
    "        self._read_yml()\n",
    "    \n",
    "    def __repr__(self):\n",
    "        return(json.dumps(etm.etm_parms, indent=2))\n",
    "        \n",
    "    def _read_yml(self):\n",
    "        print(self.yml_file)\n",
    "        with open(self.yml_file) as file:\n",
    "            self.etm_parms = yaml.full_load(file)\n",
    "        "
   ]
  },
  {
   "cell_type": "code",
   "execution_count": 2,
   "id": "actual-attention",
   "metadata": {},
   "outputs": [
    {
     "name": "stdout",
     "output_type": "stream",
     "text": [
      "Etm instaniated etm_run.yml\n",
      "etm_run.yml\n"
     ]
    },
    {
     "data": {
      "text/plain": [
       "['etasw', 'srf', 'dd', 'netet']"
      ]
     },
     "execution_count": 2,
     "metadata": {},
     "output_type": "execute_result"
    }
   ],
   "source": [
    "        \n",
    "\n",
    "etm=Etm()\n",
    "products = etm.etm_parms['products']\n",
    "etm.etm_parms\n",
    "\n",
    "products"
   ]
  },
  {
   "cell_type": "code",
   "execution_count": 3,
   "id": "impossible-repository",
   "metadata": {},
   "outputs": [
    {
     "name": "stdout",
     "output_type": "stream",
     "text": [
      "{\n",
      "  \"products\": [\n",
      "    \"etasw\",\n",
      "    \"srf\",\n",
      "    \"dd\",\n",
      "    \"netet\"\n",
      "  ],\n",
      "  \"start_year\": 1950,\n",
      "  \"end_year\": 2019,\n",
      "  \"unmosaicked_input\": \"out/DelawareRiverBasin/Run02_01_2021/\",\n",
      "  \"enduser_cog_output\": \"enduser/DelawareRiverBasin/r_02_01_2021_drb15pct/\",\n",
      "  \"max_concurrent_containers\": 36,\n",
      "  \"max_cpu_percent\": 220,\n",
      "  \"min_memory_available\": 4\n",
      "}\n"
     ]
    },
    {
     "data": {
      "text/plain": [
       "{\n",
       "  \"products\": [\n",
       "    \"etasw\",\n",
       "    \"srf\",\n",
       "    \"dd\",\n",
       "    \"netet\"\n",
       "  ],\n",
       "  \"start_year\": 1950,\n",
       "  \"end_year\": 2019,\n",
       "  \"unmosaicked_input\": \"out/DelawareRiverBasin/Run02_01_2021/\",\n",
       "  \"enduser_cog_output\": \"enduser/DelawareRiverBasin/r_02_01_2021_drb15pct/\",\n",
       "  \"max_concurrent_containers\": 36,\n",
       "  \"max_cpu_percent\": 220,\n",
       "  \"min_memory_available\": 4\n",
       "}"
      ]
     },
     "execution_count": 3,
     "metadata": {},
     "output_type": "execute_result"
    }
   ],
   "source": [
    "print(etm)\n",
    "\n",
    "etm"
   ]
  },
  {
   "cell_type": "code",
   "execution_count": 4,
   "id": "authorized-cleanup",
   "metadata": {},
   "outputs": [
    {
     "name": "stdout",
     "output_type": "stream",
     "text": [
      "products: ['etasw','srf','dd','netet']\r\n",
      "start_year: 1950\r\n",
      "end_year: 2019\r\n",
      "\r\n",
      "unmosaicked_input: 'out/DelawareRiverBasin/Run02_01_2021/'\r\n",
      "enduser_cog_output: 'enduser/DelawareRiverBasin/r_02_01_2021_drb15pct/'\r\n",
      "\r\n",
      "max_concurrent_containers: 36\r\n",
      "max_cpu_percent: 220\r\n",
      "min_memory_available: 4\r\n"
     ]
    }
   ],
   "source": [
    "! cat etm_run.yml"
   ]
  },
  {
   "cell_type": "code",
   "execution_count": null,
   "id": "photographic-cincinnati",
   "metadata": {},
   "outputs": [],
   "source": []
  }
 ],
 "metadata": {
  "kernelspec": {
   "display_name": "Python 3",
   "language": "python",
   "name": "python3"
  },
  "language_info": {
   "codemirror_mode": {
    "name": "ipython",
    "version": 3
   },
   "file_extension": ".py",
   "mimetype": "text/x-python",
   "name": "python",
   "nbconvert_exporter": "python",
   "pygments_lexer": "ipython3",
   "version": "3.9.1"
  }
 },
 "nbformat": 4,
 "nbformat_minor": 5
}
